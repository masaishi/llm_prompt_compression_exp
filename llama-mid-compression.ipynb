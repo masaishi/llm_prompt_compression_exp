{
 "cells": [
  {
   "cell_type": "markdown",
   "id": "eb8273b6",
   "metadata": {
    "papermill": {
     "duration": 0.010688,
     "end_time": "2024-05-22T11:12:45.954792",
     "exception": false,
     "start_time": "2024-05-22T11:12:45.944104",
     "status": "completed"
    },
    "tags": []
   },
   "source": [
    "# Experiment of Calculation amount Reduction Method Using embed_compression"
   ]
  },
  {
   "cell_type": "code",
   "execution_count": 1,
   "id": "13c8d7a1",
   "metadata": {
    "_cell_guid": "b1076dfc-b9ad-4769-8c92-a6c4dae69d19",
    "_uuid": "8f2839f25d086af736a60e9eeb907d3b93b6e0e5",
    "execution": {
     "iopub.execute_input": "2024-05-22T11:12:45.975734Z",
     "iopub.status.busy": "2024-05-22T11:12:45.975434Z",
     "iopub.status.idle": "2024-05-22T11:17:37.809285Z",
     "shell.execute_reply": "2024-05-22T11:17:37.808183Z"
    },
    "papermill": {
     "duration": 291.847195,
     "end_time": "2024-05-22T11:17:37.812040",
     "exception": false,
     "start_time": "2024-05-22T11:12:45.964845",
     "status": "completed"
    },
    "tags": []
   },
   "outputs": [],
   "source": [
    "%%capture\n",
    "\n",
    "!pip uninstall transformers -y\n",
    "\n",
    "!pip install quanto\n",
    "!pip install -i https://pypi.org/simple/ bitsandbytes\n",
    "!pip install git+https://github.com/huggingface/accelerate.git\n",
    "!pip install git+https://github.com/huggingface/transformers.git"
   ]
  },
  {
   "cell_type": "code",
   "execution_count": 2,
   "id": "3c7d0ab2",
   "metadata": {
    "execution": {
     "iopub.execute_input": "2024-05-22T11:17:37.834632Z",
     "iopub.status.busy": "2024-05-22T11:17:37.834012Z",
     "iopub.status.idle": "2024-05-22T11:17:39.806756Z",
     "shell.execute_reply": "2024-05-22T11:17:39.805870Z"
    },
    "papermill": {
     "duration": 1.98652,
     "end_time": "2024-05-22T11:17:39.809189",
     "exception": false,
     "start_time": "2024-05-22T11:17:37.822669",
     "status": "completed"
    },
    "tags": []
   },
   "outputs": [
    {
     "name": "stdout",
     "output_type": "stream",
     "text": [
      "The token has not been saved to the git credentials helper. Pass `add_to_git_credential=True` in this function directly or `--add-to-git-credential` if using via `huggingface-cli` if you want to set the git credential as well.\r\n",
      "Token is valid (permission: read).\r\n",
      "Your token has been saved to /root/.cache/huggingface/token\r\n",
      "Login successful\r\n"
     ]
    }
   ],
   "source": [
    "from kaggle_secrets import UserSecretsClient\n",
    "user_secrets = UserSecretsClient()\n",
    "hf_api_key = user_secrets.get_secret(\"hf_api_key\")\n",
    "\n",
    "!huggingface-cli login --token $hf_api_key\n",
    "\n",
    "%load_ext memory_profiler"
   ]
  },
  {
   "cell_type": "code",
   "execution_count": 3,
   "id": "00815316",
   "metadata": {
    "execution": {
     "iopub.execute_input": "2024-05-22T11:17:39.834520Z",
     "iopub.status.busy": "2024-05-22T11:17:39.834175Z",
     "iopub.status.idle": "2024-05-22T11:17:41.803017Z",
     "shell.execute_reply": "2024-05-22T11:17:41.801878Z"
    },
    "papermill": {
     "duration": 1.984002,
     "end_time": "2024-05-22T11:17:41.805572",
     "exception": false,
     "start_time": "2024-05-22T11:17:39.821570",
     "status": "completed"
    },
    "tags": []
   },
   "outputs": [],
   "source": [
    "!rm -rf src/\n",
    "!mkdir -p src/\n",
    "\n",
    "import sys\n",
    "sys.path.append(\"/kaggle/working/src\")"
   ]
  },
  {
   "cell_type": "code",
   "execution_count": 4,
   "id": "ad19ed03",
   "metadata": {
    "execution": {
     "iopub.execute_input": "2024-05-22T11:17:41.829924Z",
     "iopub.status.busy": "2024-05-22T11:17:41.829352Z",
     "iopub.status.idle": "2024-05-22T11:17:41.836199Z",
     "shell.execute_reply": "2024-05-22T11:17:41.835261Z"
    },
    "papermill": {
     "duration": 0.020612,
     "end_time": "2024-05-22T11:17:41.838331",
     "exception": false,
     "start_time": "2024-05-22T11:17:41.817719",
     "status": "completed"
    },
    "tags": []
   },
   "outputs": [
    {
     "name": "stdout",
     "output_type": "stream",
     "text": [
      "Writing src/config.py\n"
     ]
    }
   ],
   "source": [
    "%%writefile src/config.py\n",
    "import torch\n",
    "\n",
    "class CFG:\n",
    "    model_name = \"meta-llama/Meta-Llama-3-8B-Instruct\"\n",
    "\n",
    "    dtype = torch.float16\n",
    "    device = torch.device(\"cuda\" if torch.cuda.is_available() else \"cpu\")"
   ]
  },
  {
   "cell_type": "code",
   "execution_count": 5,
   "id": "039d8c19",
   "metadata": {
    "execution": {
     "iopub.execute_input": "2024-05-22T11:17:41.860715Z",
     "iopub.status.busy": "2024-05-22T11:17:41.860456Z",
     "iopub.status.idle": "2024-05-22T11:17:41.873375Z",
     "shell.execute_reply": "2024-05-22T11:17:41.872361Z"
    },
    "papermill": {
     "duration": 0.02711,
     "end_time": "2024-05-22T11:17:41.875982",
     "exception": false,
     "start_time": "2024-05-22T11:17:41.848872",
     "status": "completed"
    },
    "tags": []
   },
   "outputs": [
    {
     "name": "stdout",
     "output_type": "stream",
     "text": [
      "Writing src/custom_models.py\n"
     ]
    }
   ],
   "source": [
    "%%writefile src/custom_models.py\n",
    "from typing import List, Optional, Tuple, Union\n",
    "import torch\n",
    "from torch import nn\n",
    "from transformers.cache_utils import Cache, DynamicCache, StaticCache\n",
    "from transformers.modeling_attn_mask_utils import AttentionMaskConverter\n",
    "from transformers.modeling_outputs import BaseModelOutputWithPast\n",
    "from transformers.models.llama.modeling_llama import LlamaForCausalLM, LlamaModel\n",
    "from config import CFG\n",
    "\n",
    "class CustomLlamaForCausalLM(LlamaForCausalLM):\n",
    "     def __init__(self, config):\n",
    "        super().__init__(config)\n",
    "        self.model = CustomLlama(config)\n",
    "        self.vocab_size = config.vocab_size\n",
    "        self.lm_head = nn.Linear(config.hidden_size, config.vocab_size, bias=False)\n",
    "\n",
    "        # Initialize weights and apply final processing\n",
    "        self.post_init()\n",
    "\n",
    "class CustomLlama(LlamaModel):\n",
    "    def __init__(self, config):\n",
    "        super().__init__(config)\n",
    "        self.config = config\n",
    "        \n",
    "        self.next_token_i = 0\n",
    "        self.embed_layers = 12\n",
    "        self.mid_hidden_states = []\n",
    "        self.is_get_mid = False\n",
    "\n",
    "    def forward(\n",
    "        self,\n",
    "        input_ids: torch.LongTensor = None,\n",
    "        attention_mask: Optional[torch.Tensor] = None,\n",
    "        position_ids: Optional[torch.LongTensor] = None,\n",
    "        past_key_values: Optional[List[torch.FloatTensor]] = None,\n",
    "        inputs_embeds: Optional[torch.FloatTensor] = None,\n",
    "        use_cache: Optional[bool] = None,\n",
    "        output_attentions: Optional[bool] = None,\n",
    "        output_hidden_states: Optional[bool] = None,\n",
    "        return_dict: Optional[bool] = None,\n",
    "        cache_position: Optional[torch.LongTensor] = None,\n",
    "    ) -> Union[Tuple, BaseModelOutputWithPast]:\n",
    "        output_attentions = output_attentions if output_attentions is not None else self.config.output_attentions\n",
    "        output_hidden_states = (\n",
    "            output_hidden_states if output_hidden_states is not None else self.config.output_hidden_states\n",
    "        )\n",
    "        use_cache = use_cache if use_cache is not None else self.config.use_cache\n",
    "        return_dict = return_dict if return_dict is not None else self.config.use_return_dict\n",
    "\n",
    "        if (input_ids is None) ^ (inputs_embeds is not None):\n",
    "            raise ValueError(\n",
    "                \"You cannot specify both input_ids and inputs_embeds at the same time, and must specify either one\"\n",
    "            )\n",
    "\n",
    "        if self.gradient_checkpointing and self.training and use_cache:\n",
    "            logger.warning_once(\n",
    "                \"`use_cache=True` is incompatible with gradient checkpointing. Setting `use_cache=False`.\"\n",
    "            )\n",
    "            use_cache = False\n",
    "\n",
    "        if inputs_embeds is None:\n",
    "            inputs_embeds = self.embed_tokens(input_ids)\n",
    "\n",
    "        past_seen_tokens = 0\n",
    "        if use_cache:  # kept for BC (cache positions)\n",
    "            if not isinstance(past_key_values, StaticCache):\n",
    "                past_key_values = DynamicCache.from_legacy_cache(past_key_values)\n",
    "                past_seen_tokens = past_key_values.get_seq_length()\n",
    "        if cache_position is None:\n",
    "            if isinstance(past_key_values, StaticCache):\n",
    "                raise ValueError(\"cache_position is a required argument when using StaticCache.\")\n",
    "            cache_position = torch.arange(\n",
    "                past_seen_tokens, past_seen_tokens + inputs_embeds.shape[1], device=inputs_embeds.device\n",
    "            )\n",
    "\n",
    "        if position_ids is None:\n",
    "            position_ids = cache_position.unsqueeze(0)\n",
    "\n",
    "        causal_mask = self._update_causal_mask(attention_mask, inputs_embeds, cache_position, past_seen_tokens)\n",
    "\n",
    "        # embed positions\n",
    "        hidden_states = inputs_embeds\n",
    "\n",
    "        # decoder layers\n",
    "        all_hidden_states = () if output_hidden_states else None\n",
    "        all_self_attns = () if output_attentions else None\n",
    "        next_decoder_cache = None\n",
    "\n",
    "        for i, decoder_layer in enumerate(self.layers):\n",
    "            if output_hidden_states:\n",
    "                all_hidden_states += (hidden_states,)\n",
    "\n",
    "            if self.gradient_checkpointing and self.training:\n",
    "                layer_outputs = self._gradient_checkpointing_func(\n",
    "                    decoder_layer.__call__,\n",
    "                    hidden_states,\n",
    "                    causal_mask,\n",
    "                    position_ids,\n",
    "                    past_key_values,\n",
    "                    output_attentions,\n",
    "                    use_cache,\n",
    "                    cache_position,\n",
    "                )\n",
    "            else:\n",
    "                layer_outputs = decoder_layer(\n",
    "                    hidden_states,\n",
    "                    attention_mask=causal_mask,\n",
    "                    position_ids=position_ids,\n",
    "                    past_key_value=past_key_values,\n",
    "                    output_attentions=output_attentions,\n",
    "                    use_cache=use_cache,\n",
    "                    cache_position=cache_position,\n",
    "                )\n",
    "            hidden_states = layer_outputs[0]\n",
    "            \n",
    "            if self.is_get_mid and self.next_token_i == 0:\n",
    "                self.mid_hidden_states.append(hidden_states)\n",
    "            \n",
    "            if not self.is_get_mid and i < self.embed_layers and self.next_token_i==0:\n",
    "                mid_hidden_state = self.mid_hidden_states[i]\n",
    "                if i > 16:\n",
    "                    mid_hidden_state = mid_hidden_state.to(\"cuda:1\")\n",
    "                hidden_states = torch.cat((hidden_states[:, :6, :], mid_hidden_state, hidden_states[:, 6+mid_hidden_state.size(1):, :]), dim=1)\n",
    "\n",
    "            if use_cache:\n",
    "                next_decoder_cache = layer_outputs[2 if output_attentions else 1]\n",
    "\n",
    "            if output_attentions:\n",
    "                all_self_attns += (layer_outputs[1],)\n",
    "        \n",
    "        if self.is_get_mid and self.next_token_i > 1:\n",
    "            return None\n",
    "        \n",
    "        hidden_states = self.norm(hidden_states)\n",
    "\n",
    "        # add hidden states from the last decoder layer\n",
    "        if output_hidden_states:\n",
    "            all_hidden_states += (hidden_states,)\n",
    "\n",
    "        next_cache = None\n",
    "        if use_cache:\n",
    "            next_cache = (\n",
    "                next_decoder_cache.to_legacy_cache() if isinstance(next_decoder_cache, Cache) else next_decoder_cache\n",
    "            )\n",
    "        \n",
    "        self.next_token_i += 1\n",
    "        \n",
    "        if not return_dict:\n",
    "            return tuple(v for v in [hidden_states, next_cache, all_hidden_states, all_self_attns] if v is not None)\n",
    "        return BaseModelOutputWithPast(\n",
    "            last_hidden_state=hidden_states,\n",
    "            past_key_values=next_cache,\n",
    "            hidden_states=all_hidden_states,\n",
    "            attentions=all_self_attns,\n",
    "        )\n",
    "    \n",
    "    def _update_causal_mask(\n",
    "        self,\n",
    "        attention_mask: torch.Tensor,\n",
    "        input_tensor: torch.Tensor,\n",
    "        cache_position: torch.Tensor,\n",
    "        past_seen_tokens: int,\n",
    "    ):\n",
    "        # TODO: As of torch==2.2.0, the `attention_mask` passed to the model in `generate` is 2D and of dynamic length even when the static\n",
    "        # KV cache is used. This is an issue for torch.compile which then recaptures cudagraphs at each decode steps due to the dynamic shapes.\n",
    "        # (`recording cudagraph tree for symint key 13`, etc.), which is VERY slow. A workaround is `@torch.compiler.disable`, but this prevents using\n",
    "        # `fullgraph=True`. See more context in https://github.com/huggingface/transformers/pull/29114\n",
    "\n",
    "        if self.config._attn_implementation == \"flash_attention_2\":\n",
    "            if attention_mask is not None and 0.0 in attention_mask:\n",
    "                return attention_mask\n",
    "            return None\n",
    "\n",
    "        if self.config._attn_implementation == \"sdpa\":\n",
    "            # For SDPA, when possible, we will rely on its `is_causal` argument instead of its `attn_mask` argument,\n",
    "            # in order to dispatch on Flash Attention 2.\n",
    "            if AttentionMaskConverter._ignore_causal_mask_sdpa(\n",
    "                attention_mask, inputs_embeds=input_tensor, past_key_values_length=past_seen_tokens\n",
    "            ):\n",
    "                return None\n",
    "\n",
    "        dtype, device = input_tensor.dtype, input_tensor.device\n",
    "        min_dtype = torch.finfo(dtype).min\n",
    "        sequence_length = input_tensor.shape[1]\n",
    "        if hasattr(getattr(self.layers[0], \"self_attn\", {}), \"past_key_value\"):  # static cache\n",
    "            target_length = self.config.max_position_embeddings\n",
    "        else:  # dynamic cache\n",
    "            target_length = (\n",
    "                attention_mask.shape[-1]\n",
    "                if isinstance(attention_mask, torch.Tensor)\n",
    "                else past_seen_tokens + sequence_length + 1\n",
    "            )\n",
    "\n",
    "        causal_mask = torch.full((sequence_length, target_length), fill_value=min_dtype, dtype=dtype, device=device)\n",
    "        if sequence_length != 1:\n",
    "            causal_mask = torch.triu(causal_mask, diagonal=1)\n",
    "        causal_mask *= torch.arange(target_length, device=device) > cache_position.reshape(-1, 1)\n",
    "        causal_mask = causal_mask[None, None, :, :].expand(input_tensor.shape[0], 1, -1, -1)\n",
    "        if attention_mask is not None:\n",
    "            causal_mask = causal_mask.clone()  # copy to contiguous memory for in-place edit\n",
    "            if attention_mask.dim() == 2:\n",
    "                mask_length = attention_mask.shape[-1]\n",
    "                padding_mask = causal_mask[..., :mask_length].eq(0.0) * attention_mask[:, None, None, :].eq(0.0)\n",
    "                causal_mask[..., :mask_length] = causal_mask[..., :mask_length].masked_fill(padding_mask, min_dtype)\n",
    "            elif attention_mask.dim() == 4:\n",
    "                # backwards compatibility: we allow passing a 4D attention mask shorter than the input length with\n",
    "                # cache. In that case, the 4D attention mask attends to the newest tokens only.\n",
    "                if attention_mask.shape[-2] < cache_position[0] + sequence_length:\n",
    "                    offset = cache_position[0]\n",
    "                else:\n",
    "                    offset = 0\n",
    "                mask_shape = attention_mask.shape\n",
    "                mask_slice = (attention_mask.eq(0.0)).to(dtype=dtype) * min_dtype\n",
    "                causal_mask[\n",
    "                    : mask_shape[0], : mask_shape[1], offset : mask_shape[2] + offset, : mask_shape[3]\n",
    "                ] = mask_slice\n",
    "\n",
    "        if (\n",
    "            self.config._attn_implementation == \"sdpa\"\n",
    "            and attention_mask is not None\n",
    "            and attention_mask.device.type == \"cuda\"\n",
    "        ):\n",
    "            # Attend to all tokens in fully masked rows in the causal_mask, for example the relevant first rows when\n",
    "            # using left padding. This is required by F.scaled_dot_product_attention memory-efficient attention path.\n",
    "            # Details: https://github.com/pytorch/pytorch/issues/110213\n",
    "            causal_mask = AttentionMaskConverter._unmask_unattended(causal_mask, min_dtype)\n",
    "\n",
    "        return causal_mask\n",
    "\n",
    "if __name__ == \"__main__\":\n",
    "    quantization_config = BitsAndBytesConfig(\n",
    "        load_in_4bit=True,\n",
    "        bnb_4bit_quant_type=\"nf4\",\n",
    "        bnb_4bit_use_double_quant=True,\n",
    "        bnb_4bit_compute_dtype=torch.bfloat16\n",
    "    )\n",
    "\n",
    "    model = CustomLlamaForCausalLM.from_pretrained(\n",
    "        CFG.model_name,\n",
    "        quantization_config=quantization_config,\n",
    "        device_map=\"auto\",\n",
    "    )\n",
    "\n"
   ]
  },
  {
   "cell_type": "code",
   "execution_count": 6,
   "id": "c81aded3",
   "metadata": {
    "execution": {
     "iopub.execute_input": "2024-05-22T11:17:41.899030Z",
     "iopub.status.busy": "2024-05-22T11:17:41.898749Z",
     "iopub.status.idle": "2024-05-22T11:17:41.906548Z",
     "shell.execute_reply": "2024-05-22T11:17:41.905585Z"
    },
    "papermill": {
     "duration": 0.021793,
     "end_time": "2024-05-22T11:17:41.908519",
     "exception": false,
     "start_time": "2024-05-22T11:17:41.886726",
     "status": "completed"
    },
    "tags": []
   },
   "outputs": [
    {
     "name": "stdout",
     "output_type": "stream",
     "text": [
      "Writing src/pipeline.py\n"
     ]
    }
   ],
   "source": [
    "%%writefile src/pipeline.py\n",
    "from typing import Tuple, List\n",
    "import torch\n",
    "from torch import Tensor\n",
    "from transformers import (\n",
    "    AutoTokenizer, BitsAndBytesConfig, PreTrainedTokenizerBase, PreTrainedModel\n",
    ")\n",
    "\n",
    "from config import CFG\n",
    "from custom_models import CustomLlamaForCausalLM\n",
    "\n",
    "class EmbedCompressionPipeline:\n",
    "    \"\"\"Pipeline for compressing embeddings of input prompts using a pre-trained language model.\"\"\"\n",
    "\n",
    "    def __init__(self, tokenizer: PreTrainedTokenizerBase, model: PreTrainedModel):\n",
    "        self.tokenizer = tokenizer\n",
    "        self.model = model\n",
    "    \n",
    "    @classmethod\n",
    "    def from_pretrained(cls, model_name):\n",
    "        tokenizer = AutoTokenizer.from_pretrained(model_name, trust_remote_code=True)\n",
    "        if tokenizer.pad_token is None:\n",
    "            tokenizer.pad_token = tokenizer.eos_token\n",
    "\n",
    "        quantization_config = BitsAndBytesConfig(\n",
    "            load_in_4bit=True,\n",
    "            bnb_4bit_quant_type=\"nf4\",\n",
    "            bnb_4bit_use_double_quant=True,\n",
    "            bnb_4bit_compute_dtype=torch.bfloat16\n",
    "        )\n",
    "        \n",
    "        device_map = [('model.embed_tokens', 0)]\n",
    "        device_map.extend([(f'model.layers.{i}', 0) for i in range(0, 16)])\n",
    "        device_map.extend([(f'model.layers.{i}', 1) for i in range(16, 32)])\n",
    "        device_map.extend([\n",
    "            ('model.norm', 1),\n",
    "            ('lm_head', 1),\n",
    "        ])\n",
    "        device_map = {ii:jj for (ii,jj) in device_map}\n",
    "\n",
    "        model = CustomLlamaForCausalLM.from_pretrained(\n",
    "            model_name,\n",
    "            quantization_config=quantization_config,\n",
    "            device_map=device_map,\n",
    "        )\n",
    "        \n",
    "        return cls(tokenizer, model)\n",
    "\n",
    "\n",
    "    def set_mid_hidden_states(self, prompt, block_size: int = 2) -> Tensor:\n",
    "        \"\"\"Compress embeddings\"\"\"\n",
    "        self.model.model.next_token_i = 0\n",
    "        self.model.model.mid_hidden_states = []\n",
    "        \n",
    "        input_ids = self.tokenizer(prompt, return_tensors=\"pt\").to(CFG.device)\n",
    "        try:\n",
    "            self.model.model.is_get_mid = True\n",
    "            outputs = self.model.generate(\n",
    "                **input_ids,\n",
    "                max_new_tokens=200,\n",
    "                temperature=1.0,\n",
    "            )\n",
    "        except:\n",
    "            self.model.model.is_get_mid = False\n",
    "            \n",
    "        self.model.model.mid_hidden_states = [self.embed_compression(state, block_size=block_size) for state in self.model.model.mid_hidden_states]\n",
    "    \n",
    "    def embed_compression(self, inputs_embeds: Tensor, block_size: int = 2) -> Tensor:\n",
    "        \"\"\"Compress embeddings by averaging over blocks of specified size.\"\"\"\n",
    "        means = [inputs_embeds[:, i:i+block_size, :].mean(dim=1, keepdim=True)\n",
    "                 for i in range(0, inputs_embeds.size(1), block_size)]\n",
    "        compression_inputs_embeds = torch.cat(means, dim=1)\n",
    "        return compression_inputs_embeds\n",
    "    \n",
    "\n",
    "    def generate(self, prompt, embed_layers=12):\n",
    "        self.model.model.next_token_i = 0\n",
    "        self.model.model.is_get_mid = False\n",
    "        self.model.model.embed_layers = embed_layers\n",
    "        \n",
    "        messages = [\n",
    "            {\"role\": \"assistant\", \"content\": \"embed\"*self.model.model.mid_hidden_states[0].size(1)},\n",
    "            {\"role\": \"user\", \"content\": prompt},\n",
    "        ]\n",
    "        prompt = self.tokenizer.apply_chat_template(\n",
    "            messages, \n",
    "            tokenize=False, \n",
    "            add_generation_prompt=True\n",
    "        )\n",
    "        input_ids = self.tokenizer(prompt, return_tensors=\"pt\").to(CFG.device)\n",
    "\n",
    "        outputs = self.model.generate(\n",
    "            **input_ids,\n",
    "            max_new_tokens=50,\n",
    "            temperature=1.0,\n",
    "        )\n",
    "        return self.tokenizer.decode(outputs[0, input_ids['input_ids'].size(1):])\n",
    "\n",
    "if __name__ == \"__main__\":\n",
    "    pipe = EmbedCompressionPipeline.from_pretrained(CFG.model_name)\n",
    "    pipe.set_mid_hidden_states(\"My name is Embed Compression Pipeline.\")\n",
    "    print(pipe.generate(\"What is your name?\"))\n"
   ]
  },
  {
   "cell_type": "code",
   "execution_count": null,
   "id": "95ee4db3",
   "metadata": {
    "papermill": {
     "duration": 0.010604,
     "end_time": "2024-05-22T11:17:41.930065",
     "exception": false,
     "start_time": "2024-05-22T11:17:41.919461",
     "status": "completed"
    },
    "tags": []
   },
   "outputs": [],
   "source": []
  },
  {
   "cell_type": "markdown",
   "id": "fbcae390",
   "metadata": {
    "papermill": {
     "duration": 0.013298,
     "end_time": "2024-05-22T11:17:41.954723",
     "exception": false,
     "start_time": "2024-05-22T11:17:41.941425",
     "status": "completed"
    },
    "tags": []
   },
   "source": [
    "# Evaluate"
   ]
  },
  {
   "cell_type": "code",
   "execution_count": 7,
   "id": "4f1ad884",
   "metadata": {
    "execution": {
     "iopub.execute_input": "2024-05-22T11:17:41.980695Z",
     "iopub.status.busy": "2024-05-22T11:17:41.980391Z",
     "iopub.status.idle": "2024-05-22T11:20:34.363461Z",
     "shell.execute_reply": "2024-05-22T11:20:34.362521Z"
    },
    "papermill": {
     "duration": 172.396839,
     "end_time": "2024-05-22T11:20:34.365736",
     "exception": false,
     "start_time": "2024-05-22T11:17:41.968897",
     "status": "completed"
    },
    "tags": []
   },
   "outputs": [
    {
     "data": {
      "application/vnd.jupyter.widget-view+json": {
       "model_id": "66d50bcfaae242cf9915a7802d399e1f",
       "version_major": 2,
       "version_minor": 0
      },
      "text/plain": [
       "tokenizer_config.json:   0%|          | 0.00/51.0k [00:00<?, ?B/s]"
      ]
     },
     "metadata": {},
     "output_type": "display_data"
    },
    {
     "data": {
      "application/vnd.jupyter.widget-view+json": {
       "model_id": "cb37f403de9a42b4b456045e14e75ffc",
       "version_major": 2,
       "version_minor": 0
      },
      "text/plain": [
       "tokenizer.json:   0%|          | 0.00/9.09M [00:00<?, ?B/s]"
      ]
     },
     "metadata": {},
     "output_type": "display_data"
    },
    {
     "data": {
      "application/vnd.jupyter.widget-view+json": {
       "model_id": "f57b53bc1b554590a30f50f9cfa58f44",
       "version_major": 2,
       "version_minor": 0
      },
      "text/plain": [
       "special_tokens_map.json:   0%|          | 0.00/73.0 [00:00<?, ?B/s]"
      ]
     },
     "metadata": {},
     "output_type": "display_data"
    },
    {
     "name": "stderr",
     "output_type": "stream",
     "text": [
      "Special tokens have been added in the vocabulary, make sure the associated word embeddings are fine-tuned or trained.\n"
     ]
    },
    {
     "data": {
      "application/vnd.jupyter.widget-view+json": {
       "model_id": "8ca0993af6d245efb0b40c1736fb47c3",
       "version_major": 2,
       "version_minor": 0
      },
      "text/plain": [
       "config.json:   0%|          | 0.00/654 [00:00<?, ?B/s]"
      ]
     },
     "metadata": {},
     "output_type": "display_data"
    },
    {
     "data": {
      "application/vnd.jupyter.widget-view+json": {
       "model_id": "5ec866233dc046908a980b31f5dc09f9",
       "version_major": 2,
       "version_minor": 0
      },
      "text/plain": [
       "model.safetensors.index.json:   0%|          | 0.00/23.9k [00:00<?, ?B/s]"
      ]
     },
     "metadata": {},
     "output_type": "display_data"
    },
    {
     "data": {
      "application/vnd.jupyter.widget-view+json": {
       "model_id": "e3fc9ae9c882477eada36eaf073117e4",
       "version_major": 2,
       "version_minor": 0
      },
      "text/plain": [
       "Downloading shards:   0%|          | 0/4 [00:00<?, ?it/s]"
      ]
     },
     "metadata": {},
     "output_type": "display_data"
    },
    {
     "data": {
      "application/vnd.jupyter.widget-view+json": {
       "model_id": "086a3254cd744b628a59f0303dedef82",
       "version_major": 2,
       "version_minor": 0
      },
      "text/plain": [
       "model-00001-of-00004.safetensors:   0%|          | 0.00/4.98G [00:00<?, ?B/s]"
      ]
     },
     "metadata": {},
     "output_type": "display_data"
    },
    {
     "data": {
      "application/vnd.jupyter.widget-view+json": {
       "model_id": "03b939b57c8b46cc8af769b07be2770c",
       "version_major": 2,
       "version_minor": 0
      },
      "text/plain": [
       "model-00002-of-00004.safetensors:   0%|          | 0.00/5.00G [00:00<?, ?B/s]"
      ]
     },
     "metadata": {},
     "output_type": "display_data"
    },
    {
     "data": {
      "application/vnd.jupyter.widget-view+json": {
       "model_id": "2912a49b2ca64b0d95986f100a16829b",
       "version_major": 2,
       "version_minor": 0
      },
      "text/plain": [
       "model-00003-of-00004.safetensors:   0%|          | 0.00/4.92G [00:00<?, ?B/s]"
      ]
     },
     "metadata": {},
     "output_type": "display_data"
    },
    {
     "data": {
      "application/vnd.jupyter.widget-view+json": {
       "model_id": "cd5f17f24685437796008eba12ac5854",
       "version_major": 2,
       "version_minor": 0
      },
      "text/plain": [
       "model-00004-of-00004.safetensors:   0%|          | 0.00/1.17G [00:00<?, ?B/s]"
      ]
     },
     "metadata": {},
     "output_type": "display_data"
    },
    {
     "data": {
      "application/vnd.jupyter.widget-view+json": {
       "model_id": "e8ed7fabf8184a80bb30cc036a4a5fe3",
       "version_major": 2,
       "version_minor": 0
      },
      "text/plain": [
       "Loading checkpoint shards:   0%|          | 0/4 [00:00<?, ?it/s]"
      ]
     },
     "metadata": {},
     "output_type": "display_data"
    },
    {
     "data": {
      "application/vnd.jupyter.widget-view+json": {
       "model_id": "69fcebcba4e34c439b863d0077b7baec",
       "version_major": 2,
       "version_minor": 0
      },
      "text/plain": [
       "generation_config.json:   0%|          | 0.00/187 [00:00<?, ?B/s]"
      ]
     },
     "metadata": {},
     "output_type": "display_data"
    }
   ],
   "source": [
    "from config import CFG\n",
    "from pipeline import EmbedCompressionPipeline\n",
    "\n",
    "pipe = EmbedCompressionPipeline.from_pretrained(CFG.model_name)"
   ]
  },
  {
   "cell_type": "code",
   "execution_count": 8,
   "id": "4544ee46",
   "metadata": {
    "execution": {
     "iopub.execute_input": "2024-05-22T11:20:34.394350Z",
     "iopub.status.busy": "2024-05-22T11:20:34.393886Z",
     "iopub.status.idle": "2024-05-22T11:20:34.401018Z",
     "shell.execute_reply": "2024-05-22T11:20:34.400108Z"
    },
    "papermill": {
     "duration": 0.024142,
     "end_time": "2024-05-22T11:20:34.403272",
     "exception": false,
     "start_time": "2024-05-22T11:20:34.379130",
     "status": "completed"
    },
    "tags": []
   },
   "outputs": [],
   "source": [
    "import subprocess\n",
    "import re\n",
    "import gc\n",
    "import time\n",
    "import torch\n",
    "\n",
    "def clear_cache():\n",
    "    for _ in range(10):\n",
    "        torch.cuda.empty_cache()\n",
    "        gc.collect()\n",
    "        time.sleep(0.1)\n",
    "\n",
    "def get_gpu_memory():\n",
    "    \"\"\"Function to get current GPU memory usage via nvidia-smi command.\"\"\"\n",
    "    result = subprocess.run(['nvidia-smi', '--query-gpu=memory.used', '--format=csv'], capture_output=True, text=True)\n",
    "    # Parse the output to extract memory usage\n",
    "    memory_used = [int(re.findall(r'\\d+', line)[0]) for line in result.stdout.split('\\n') if re.search(r'\\d+ MiB', line)]\n",
    "    return memory_used\n"
   ]
  },
  {
   "cell_type": "markdown",
   "id": "8a0c1bc3",
   "metadata": {
    "papermill": {
     "duration": 0.013359,
     "end_time": "2024-05-22T11:20:34.430138",
     "exception": false,
     "start_time": "2024-05-22T11:20:34.416779",
     "status": "completed"
    },
    "tags": []
   },
   "source": [
    "Get sample data from Haoxiang Shi, Jiaan Wang, Jiarong Xu, Cen Wang, Tetsuya Sakai: “CT-Eval: Benchmarking Chinese Text-to-Table Performance in Large Language Models”, 2024; <a href='http://arxiv.org/abs/2405.12174'>arXiv:2405.12174</a>."
   ]
  },
  {
   "cell_type": "code",
   "execution_count": 9,
   "id": "a3cfc8a7",
   "metadata": {
    "_kg_hide-input": true,
    "execution": {
     "iopub.execute_input": "2024-05-22T11:20:34.458616Z",
     "iopub.status.busy": "2024-05-22T11:20:34.458346Z",
     "iopub.status.idle": "2024-05-22T11:20:34.480943Z",
     "shell.execute_reply": "2024-05-22T11:20:34.480150Z"
    },
    "papermill": {
     "duration": 0.03938,
     "end_time": "2024-05-22T11:20:34.482855",
     "exception": false,
     "start_time": "2024-05-22T11:20:34.443475",
     "status": "completed"
    },
    "tags": []
   },
   "outputs": [],
   "source": [
    "comp_prompt = \"\"\"1 Introduction\n",
    "Information extraction (IE) aims to identify and extract structured information from unstructured text.\n",
    "1Codes and data will be publicly available once accepted.\n",
    "Basic IE sub-tasks, such as, named entity recognition and entity linking, generally operate at the\n",
    "sentence level, which ignore models’ ability to understand the document-level meaning. In contrast,\n",
    "Text-to-Table, an emerging sub-task of IE, requires\n",
    "models to understand information within a given\n",
    "document and then generate structured tables. Despite great success in the domain Wu et al. (2022);\n",
    "Li et al. (2023), previous studies are oriented to\n",
    "English, limiting the research in other languages.\n",
    "Recently, large language models (LLMs) have\n",
    "demonstrated powerful performance across various NLP tasks (Zhao et al., 2023; Wang et al.,\n",
    "2023a,b,c). Some studies (González-Gallardo et al.,\n",
    "2023; Gao et al., 2023) have also utilized LLMs for\n",
    "several IE sub-tasks, and found that compared to\n",
    "supervised baselines, the performance of LLMs is\n",
    "sub-optimal. However, their performance of LLMs\n",
    "on Text-to-Table remains largely unexplored. Additionally, the rapid advancements in LLMs have facilitated their widespread adoption in multi-lingual\n",
    "settings, enabling language modeling abilities to be\n",
    "shared across different languages. Consequently, it\n",
    "is theoretically possible to feasible to employ LLMs\n",
    "for text-to-table in other languages, an area that\n",
    "has yet to be thoroughly investigated.\n",
    "Motivated by the aforementioned considerations,\n",
    "we decide to benchmark LLMs on Chinese text-totable. A heuristic approach involves translating existing English datasets into Chinese for subsequent\n",
    "performance evaluation. There are four datasets\n",
    "widely used in text-to-table: E2E (Novikova et al.,\n",
    "2017) is a restaurant domain dataset encompassing\n",
    "51.5K samples about restaurant information like\n",
    "names, addresses, rate scores, etc. Rotowire (Wiseman et al., 2017) is a sports domain dataset derived\n",
    "from NBA basketball games with 4.9K samples\n",
    "about NBA team information. WikiBio (Lebret\n",
    "et al., 2016), compiled from Wikipedia, containing\n",
    "72.6K documents and corresponding structured tables in the biography domain. WikiTableText (Bao\n",
    "arXiv:2405.12174v1 [cs.CL] 20 May 2024\n",
    "et al., 2018) is also derived from Wikipedia, and\n",
    "involves 13.3K multidisciplinary samples spanning\n",
    "fields like finance and politics. However, according to our preliminary analysis, these datasets also\n",
    "suffer from the issues of less diversity or high hallucination, making them unsuitable to benchmark\n",
    "LLMs. Specifically, (1) E2E, Rotowire, and WikiBio exhibit a lack of diversity as they focus on a\n",
    "single domain, violating the core principle of instruction tuning in LLMs, that is, diversity. (2)\n",
    "Although WikiTableText incorporates multiple domains for diversity, our analysis (§ 3.5) indicates\n",
    "that 18.83% of samples exhibit hallucination in\n",
    "the golden tables, that is, containing additional information beyond the provided documents. This\n",
    "arises from treating Wikipedia infoboxes as golden\n",
    "tables, created collaboratively by online users and\n",
    "potentially containing additional basic information.\n",
    "In this paper, we propose the Chinese Text-toTable Evaluation (CT-Eval) dataset, which is constructed through three steps to ensure data diversity\n",
    "and minimize hallucination. To ensure diversity,\n",
    "the first step involves collecting multidisciplinary\n",
    "document-table pairs. We choose the Baidu Baike\n",
    "as the data source, which is a popular Chinese multidisciplinary online encyclopedia. Each page in\n",
    "this source contains text and an infobox summarizing the corresponding key information. Second, to\n",
    "minimize data hallucination, we train an LLM, as a\n",
    "hallucination judger, to filter out task samples with\n",
    "hallucination in their golden tables (infoboxes). Finally, we obtain 88.6K samples with an average\n",
    "length of 911.46 Chinese characters. We split them\n",
    "into 86.6K, 1K and 1K for training, validation and\n",
    "testing. For validation and testing samples, human\n",
    "annotators further clean data hallucination in the\n",
    "golden tables to ensure evaluation reliability.\n",
    "Based on the proposed CT-Eval, we benchmark\n",
    "various mainstream LLMs in both zero-shot (for\n",
    "both open- and closed-source LLMs) and finetuning (only for open-source LLMs) scenarios. Our\n",
    "experiments reveal that (1) GPT-4 achieves the best\n",
    "zero-shot performance among all LLMs. However,\n",
    "its performance remains a discernible disparity\n",
    "compared to human judgment. (2) After fine-tuning\n",
    "on the training set of CT-Eval, all open-source\n",
    "LLMs demonstrate a significant performance improvement, outperforming zero-shot GPT-4 by a\n",
    "large margin, indicating the effectiveness of CTEval. In-depth analyses of LLM-generated tables\n",
    "reveal the persistence of hallucination issues in\n",
    "both zero-shot and fine-tuned LLMs, highlighting\n",
    "a challenge in using LLMs as text-to-table systems.\n",
    "Future work could not only evaluate LLMs’ performance on text-to-table via our CT-Eval benchmark\n",
    "dataset, but also leverage its training data to improve LLMs’ text-to-table ability via fine-tuning.\n",
    "2 Related Work\n",
    "2.1 Text-to-table Tasks\n",
    "Wu et al. (2022) pioneer the text-to-table task.\n",
    "Given the absence of a dedicated text-to-table\n",
    "dataset, Wu et al. (2022) repurpose existing tableto-text datasets, i.e., WikiBio (Lebret et al., 2016),\n",
    "E2E (Novikova et al., 2017), Rotowire (Wiseman et al., 2017) and WikiTableText (Bao et al.,\n",
    "2018), for text-to-table tasks by reversing their\n",
    "input-output pairs. They fine-tune BART (Lewis\n",
    "et al., 2019) to perform text-to-table in a sequenceto-sequence manner, and find that the fine-tuned\n",
    "BART outperforms the pipeline baselines using\n",
    "relation extraction and named entity extraction.\n",
    "STable (Pietruszka et al., 2022) employs two pretrained language models (PLMs) (T5 (Raffel et al.,\n",
    "2020) and TILT (Powalski et al., 2021)) for text-totable, and designs a permutation-based decoder to\n",
    "enhance the PLMs’ table generation ability. Subsequently, Li et al. (2023) find that the predefined row\n",
    "order in golden tables introduces bias into text-totable models. Consequently, they train table header\n",
    "and table body generators separately to produce\n",
    "final tables. While these studies achieve notable\n",
    "success, they primarily explored text-to-table performance before the LLM era. In addition, their\n",
    "evaluation datasets generally focus on a single domain, and adapt from the table-to-text datasets, resulting in hallucination issues. Thus, they are unsuitable for benchmarking LLMs in text-to-table.\n",
    "2.2 Large Language Models\n",
    "The advent of advanced LLMs ,e.g., ChatGPT (OpenAI, 2022), GPT-4 (OpenAI, 2023), marks a pivotal\n",
    "moment that propels the field of NLP into a boom\n",
    "phase. Zhong et al. (2023) show that LLMs can\n",
    "achieve decent performance on benchmarks like\n",
    "GLUE (Wang et al., 2018), which spans eight representative NLP understanding tasks. Concurrently,\n",
    "several studies have scrutinized the performance\n",
    "of LLMs across various IE tasks. For example,\n",
    "Gao et al. (2023) test the capability of ChatGPT\n",
    "in event extraction. Similarly, González-Gallardo\n",
    "et al. (2023) employ ChatGPT on historical entity\n",
    "recognition. However, the results of these IE subtasks consistently show that LLMs underperform\n",
    "compared to state-of-the-art supervised approaches.\n",
    "The text-to-table task we focused on is more complex than the previous basic IE sub-tasks, however,\n",
    "it remains an unexplored area for evaluation on\n",
    "LLMs.\n",
    "3 CT-Eval\n",
    "In this section, we first discuss the data source for\n",
    "building CT-Eval (§ 3.1). Then, we give the details\n",
    "of how to control the hallucination in the preliminary collected data, including LLM hallucination\n",
    "judger (§ 3.2) and human cleaning processes (§ 3.3).\n",
    "Finally, we formulate the text-to-table task (§ 3.4)\n",
    "and provide the details of data statistics (§ 3.5).\n",
    "3.1 Data Source\n",
    "Following the success of WikiTableText (Bao et al.,\n",
    "2018), we also choose a multidisciplinary online\n",
    "encyclopedia as the data source to ensure data diversity. After carefully comparing existing Chinese\n",
    "online encyclopedias, we choose Baidu Baike2\n",
    ",\n",
    "which is one of the Chinese encyclopedias with\n",
    "the most entries in the world.\n",
    "We obtain the Baidu Baike data from the dumps\n",
    "provided by Xu et al. (2017). The data contains\n",
    "over 9M entity pages, each of which includes an\n",
    "infobox and the corresponding textual description,\n",
    "forming a text-to-table sample. Utilizing this data,\n",
    "we implement the following rule-based strategy\n",
    "for preliminary data cleaning: (1) Each page must\n",
    "contain at least one infobox; otherwise, the golden\n",
    "table is missing. (2) The number of tabular cells in\n",
    "the infobox should exceed three to ensure validity.\n",
    "(3) The length of the textual description should\n",
    "surpass 200 tokens. After that, 200K documenttable pairs are remaining for further processing.\n",
    "3.2 LLM Data Cleaning\n",
    "After the initial cleaning process, the hallucination issue persists due to Baidu Baike’s submission\n",
    "rules, wherein most of the page text and infoboxes\n",
    "are edited and maintained by individuals. Thus,\n",
    "the contents in the infoboxes may not always align\n",
    "precisely with the textual documents. For instance,\n",
    "some infoboxes may include additional knowledge\n",
    "unrelated to the text, potentially misleading the\n",
    "model from learning the text-to-table task.\n",
    "2\n",
    "https://baike.baidu.com/\n",
    "§ There is a document and a golden table that\n",
    "summarize the information contained in this\n",
    "document. Please help me identify whether the\n",
    "golden table contains additional information\n",
    "beyond the document. Give the reason first and\n",
    "then provide your judgment.\n",
    "Figure 1: Illustration of judgment prompt.\n",
    "To control the hallucination in the task samples,\n",
    "we decide to employ an LLM as a hallucination\n",
    "judger to filter out samples exhibiting hallucination.\n",
    "While using GPT-4 directly as the LLM hallucination judger is a straightforward approach, utilizing\n",
    "official APIs can be costly. Therefore, we first\n",
    "randomly select 5K samples from the data before\n",
    "cleaning. Then, we use GPT-4 to assess whether the\n",
    "golden tables contain additional information. The\n",
    "judgment prompt is illustrated in Figure 1, where\n",
    "the LLM is tasked with evaluating hallucination in\n",
    "a chain-of-thought manner. Next, we use the GPT4 judgment results to train an open-source LLM,\n",
    "employing the trained model to evaluate the remaining samples. Samples containing hallucinations are\n",
    "discarded. Given the capacity for understanding\n",
    "lengthy documents of existing Chinese LLMs (Bai\n",
    "et al., 2023b), we select ChatGLM3-6B-32k3\n",
    "as\n",
    "the open-source LLM hallucination judger. Finally,\n",
    "there are 88.6K samples after the data cleaning\n",
    "by the LLM hallucination judger. These samples\n",
    "totally cover 28 domains, e.g., physics and religion.\n",
    "3.3 Human Data Cleaning\n",
    "We split the LLM-cleaned samples into the training, validation, and test sets with 84.6K, 1K and\n",
    "1K samples, respectively. In the validation and test\n",
    "sets, we balance the number of samples in each\n",
    "domain to ensure a comprehensive evaluation. Furthermore, to mitigate the hallucination issue in the\n",
    "validation and test sets, we employ human annotators to manually cleanse their golden tables.\n",
    "In this phase, we employ five human annotators\n",
    "and one data expert, all of whom are native Chinese\n",
    "speakers with advanced educational qualifications.\n",
    "The data expert is a researcher with extensive experience in IE research. We first organize a tutorial\n",
    "for the five annotators to ensure alignment of annotation requirements. This includes clarifying the\n",
    "concept of the hallucination issue, emphasizing the\n",
    "additional information present in tables that cannot\n",
    "be directly extracted from the corresponding documents. Next, for each document-table pair in the\n",
    "3\n",
    "https://huggingface.co/THUDM/chatglm3-6b-32k\n",
    "CT-Eval\n",
    "Industry\n",
    "Informatics\n",
    "Physics\n",
    "Astronomy\n",
    "Traffic Engineering\n",
    "Biology\n",
    "Medical Science\n",
    "Culture\n",
    "Religion\n",
    "History\n",
    "Geography\n",
    "Education\n",
    "Business\n",
    "Finance\n",
    "Management\n",
    "Movie and Book\n",
    "Science Fiction\n",
    "Music\n",
    "Animation\n",
    "Dwelling\n",
    "Traveling\n",
    "Career\n",
    "Healthy\n",
    "Food\n",
    "Cosmetics\n",
    "Profile\n",
    "Security\n",
    "Military\n",
    "STEM\n",
    "24.0%\n",
    "Social Science\n",
    "60.9%\n",
    "Life\n",
    "Support\n",
    "11.6%\n",
    "O.\n",
    "3.5\n",
    "%\n",
    "Figure 2: Domain distribution in CT-EVAL\n",
    "validation and test sets, three annotators are asked\n",
    "to remove the hallucination information from tables. The data expert reviews 10% of the manually\n",
    "cleaned samples from each annotator. If the accuracy rate falls below 95%, the respective annotator\n",
    "will be required to redo the annotation. Finally,\n",
    "for each sample, if the three manually cleaned results are consistent, the results are saved as the final\n",
    "data. Otherwise, the results are decided by a group\n",
    "meeting among all annotators and the data expert.\n",
    "3.4 Task Overview\n",
    "Given a document D = {w1, w2, ..., w|D|}, where\n",
    "wi\n",
    "is the i-th word in D, the text-to-table task aims\n",
    "to extract key information from D and outputs a table T = {c0,0, c0,1, ..., c0,n, c1,0, c1,1, ..., c1,n, ...,\n",
    "ci,j , ..., cm,n}, where c0,k(k ∈ {0, 1, ..., n}) represents the column header and ck,0(k ∈ {0, 1, ..., n})\n",
    "denotes as the row header. ci,j (i > 0, j > 0) represents the text of the cell in the i-th row and j-th\n",
    "column in the table with m rows and n columns.\n",
    "3.5 Data Statistics\n",
    "We compare CT-Eval with the previous datasets\n",
    "across several metrics including language, number of entries, average length, number of domains,\n",
    "hallucination rate, and average number of cells.\n",
    "As shown in Table 1, compared to previous\n",
    "datasets that mostly focus on one domain, CT-Eval\n",
    "covers 28 domains, offering a valuable resource\n",
    "to evaluate the text-to-table capabilities of LLMs\n",
    "across multiple domains. These 28 domains can\n",
    "be categorized into four branches: STEM, social\n",
    "science, life support and others. To provide a comprehensive understanding of domain coverage in\n",
    "CT-Eval, we present the distributions of each domain in Figure 2. Notably, the “Social Science”\n",
    "Original Item\n",
    "Translation\n",
    "材料 做法 厨师一点通\n",
    "炖牛肉时，可以放几个\n",
    "山楂进去，这样牛肉会\n",
    "烂得快些，而且有股山\n",
    "楂的清香。\n",
    "1.牛肉洗净放入清水锅\n",
    "中煮至七成熟，捞出切\n",
    "成方块\n",
    "2. …\n",
    "材料：\n",
    "牛肉，胡萝卜，\n",
    "白萝卜，大料，\n",
    "香叶\n",
    "东坡牛肉\n",
    "Original Item\n",
    "Ingredients Cooking method Cooking Tips\n",
    "When stewing beef, you\n",
    "can put a few hawthorn\n",
    "into it, so that the beef\n",
    "will rot faster and have a\n",
    "hawthorn fragrance.\n",
    "1. Wash the beef and\n",
    "put it into a pot of\n",
    "water to boil until\n",
    "it is seven mature,\n",
    "fish out and cut it\n",
    "into squares…\n",
    "2. …\n",
    "Ingredients:\n",
    "Beef, carrots, white\n",
    "radish, Chinese\n",
    "spices, allspice\n",
    "Dongpo\n",
    "Beef\n",
    "“标题”: “东坡牛肉”, “ ”章节“: [{”标题“: ”东坡牛肉的做法“},\n",
    "内容“: ”葱段、姜片、蒜头、辣椒、香叶、大料、盐、白糖、番茄酱、排骨\n",
    "酱、辣椒酱、高汤（用煮牛肉的汤即可）。\\n做法：\\n1、先来处理一下牛肉，\n",
    "将牛腩在冷水中多泡一会…“}\n",
    "Translation\n",
    "“Title”: “Dongpo Beef”, “ ”Chapter“: [{”Title “: ”Dongpo Beef Practice“}, :\n",
    "Ingredients：Diced green onion, ginger, garlic, chili pepper, coriander, dashi, salt,\n",
    "sugar, tomato sauce, rib sauce, chili sauce, broth. Cooking method:1, first, let's deal\n",
    "with the beef, soak the brisket in cold water for a while longer...\"}\n",
    "Figure 3: Text-to-table example from CT-EVAL.\n",
    "branch exhibits the highest proportion, encompassing domains such as culture and religion. Conversely, the “Other” branch, which includes topics\n",
    "related to cosmetics and profiles, represents the\n",
    "smallest portion. The “STEM” (science, technology, engineering, and mathematics) branch features\n",
    "data related to topics such as physical sciences and\n",
    "astronomy. The “Life Support” branch is highly\n",
    "relevant to everyday life, comprises 11.60% of the\n",
    "data, and primarily focuses on domains such as\n",
    "dwelling and health. An illustration of a data sample from CT-Eval is depicted in Figure 3. Each\n",
    "document-table pair, akin to the example shown,\n",
    "consists of a textual description and a golden table\n",
    "with varying numbers of columns and rows.\n",
    "To assess the quality of our dataset compared\n",
    "to previous ones, we randomly select 200 samples\n",
    "from the training, validation and test sets of CTEval, and previous E2E, Rotowire, WikiBio, and\n",
    "WikiTableText, respectively. Then, we compute the\n",
    "hallucination rate for each dataset through human\n",
    "annotation. Specifically, three annotators proficient\n",
    "in both English and Chinese judged whether the\n",
    "golden tables contained hallucination information\n",
    "following the guidance outlined in Section 3.3. The\n",
    "hallucination rate for each dataset is determined\n",
    "by the average proportion of hallucinated samples\n",
    "judged by all three annotators. We observe that\n",
    "the hallucination rate of the CT-Eval training set\n",
    "is 6.83%, similar to Rotowire (6.17%). Moreover,\n",
    "with the help of our human cleaning, the hallucination rates in our test and validation sets decrease to\n",
    "1.00% and 1.50%, respectively, significantly lower\n",
    "Dataset Language N. Entries Avg. Length N. Domains Hallu. R Avg. Cells\n",
    "E2E English 42,061 90.58 Restaurant 4.17% 4.46\n",
    "Rotowire English 3,398 1311.01 Sports 6.17% 40.49\n",
    "WikiBio English 582,659 416.71 Biography 8.67% 4.19\n",
    "WikiTableText English 10,000 59.76 Multiple Subclasses 18.83% 4.25\n",
    "CT-Eval(train) Chinese 84,603 911.46 28 Subclasses 6.83% 11.40\n",
    "CT-Eval(val.) Chinese 1,000 813.32 28 Subclasses 1.00% 10.78\n",
    "CT-Eval(test) Chinese 1,000 845.22 28 Subclasses 1.50% 10.86\n",
    "Table 1: Data Statistics of CT-Eval and previous text-to-table datasets. “N. Entries” denotes the number of entries.\n",
    "“Hallu. R” indicates hallucination rate. “Avg.Cells” indicates the average number of table cells\n",
    "than those in other datasets. Therefore, the reliability of our dataset can be verified. Regarding\n",
    "domains, the E2E, Rotowire and WikiBio datasets\n",
    "focus on single domains, whereas WikiTableText\n",
    "and CT-Eval encompass multiple domains to ensure data diversity. Concerning the length of the input documents, we note that previous E2E and WikiTableText primarily contain short documents with\n",
    "an average length of under 100 words, whereas documents in our dataset and Rotowire exceed words\n",
    "or characters, presenting more complex inputs for\n",
    "text-to-table models. In summary, CT-Eval stands\n",
    "as the sole dataset fulfilling criteria of data diversity,\n",
    "lengthy documents, and low hallucination.\n",
    "\"\"\""
   ]
  },
  {
   "cell_type": "markdown",
   "id": "3e568a44",
   "metadata": {
    "papermill": {
     "duration": 0.012267,
     "end_time": "2024-05-22T11:20:34.507504",
     "exception": false,
     "start_time": "2024-05-22T11:20:34.495237",
     "status": "completed"
    },
    "tags": []
   },
   "source": [
    "## block_size=3"
   ]
  },
  {
   "cell_type": "code",
   "execution_count": 10,
   "id": "467cffb0",
   "metadata": {
    "execution": {
     "iopub.execute_input": "2024-05-22T11:20:34.533263Z",
     "iopub.status.busy": "2024-05-22T11:20:34.532977Z",
     "iopub.status.idle": "2024-05-22T11:21:15.968383Z",
     "shell.execute_reply": "2024-05-22T11:21:15.967379Z"
    },
    "papermill": {
     "duration": 41.464478,
     "end_time": "2024-05-22T11:21:15.984389",
     "exception": false,
     "start_time": "2024-05-22T11:20:34.519911",
     "status": "completed"
    },
    "tags": []
   },
   "outputs": [
    {
     "name": "stderr",
     "output_type": "stream",
     "text": [
      "Setting `pad_token_id` to `eos_token_id`:128001 for open-end generation.\n",
      "2024-05-22 11:21:02.431130: E external/local_xla/xla/stream_executor/cuda/cuda_dnn.cc:9261] Unable to register cuDNN factory: Attempting to register factory for plugin cuDNN when one has already been registered\n",
      "2024-05-22 11:21:02.431243: E external/local_xla/xla/stream_executor/cuda/cuda_fft.cc:607] Unable to register cuFFT factory: Attempting to register factory for plugin cuFFT when one has already been registered\n",
      "2024-05-22 11:21:02.577662: E external/local_xla/xla/stream_executor/cuda/cuda_blas.cc:1515] Unable to register cuBLAS factory: Attempting to register factory for plugin cuBLAS when one has already been registered\n"
     ]
    },
    {
     "name": "stdout",
     "output_type": "stream",
     "text": [
      "CPU times: user 30.9 s, sys: 3.89 s, total: 34.8 s\n",
      "Wall time: 41.4 s\n"
     ]
    }
   ],
   "source": [
    "%%time\n",
    "\n",
    "pipe.set_mid_hidden_states(comp_prompt, block_size=3)"
   ]
  },
  {
   "cell_type": "code",
   "execution_count": 11,
   "id": "0a6a8e2e",
   "metadata": {
    "execution": {
     "iopub.execute_input": "2024-05-22T11:21:16.025187Z",
     "iopub.status.busy": "2024-05-22T11:21:16.024578Z",
     "iopub.status.idle": "2024-05-22T11:21:16.031683Z",
     "shell.execute_reply": "2024-05-22T11:21:16.030815Z"
    },
    "papermill": {
     "duration": 0.023344,
     "end_time": "2024-05-22T11:21:16.033708",
     "exception": false,
     "start_time": "2024-05-22T11:21:16.010364",
     "status": "completed"
    },
    "tags": []
   },
   "outputs": [
    {
     "data": {
      "text/plain": [
       "torch.Size([1, 1506, 4096])"
      ]
     },
     "execution_count": 11,
     "metadata": {},
     "output_type": "execute_result"
    }
   ],
   "source": [
    "mid_hidden_state = pipe.model.model.mid_hidden_states[0]\n",
    "mid_hidden_state.shape"
   ]
  },
  {
   "cell_type": "code",
   "execution_count": 12,
   "id": "992ac262",
   "metadata": {
    "execution": {
     "iopub.execute_input": "2024-05-22T11:21:16.061129Z",
     "iopub.status.busy": "2024-05-22T11:21:16.060654Z",
     "iopub.status.idle": "2024-05-22T11:23:38.344239Z",
     "shell.execute_reply": "2024-05-22T11:23:38.343089Z"
    },
    "papermill": {
     "duration": 142.299847,
     "end_time": "2024-05-22T11:23:38.346591",
     "exception": false,
     "start_time": "2024-05-22T11:21:16.046744",
     "status": "completed"
    },
    "tags": []
   },
   "outputs": [
    {
     "name": "stdout",
     "output_type": "stream",
     "text": [
      "embed_layers= 3\n"
     ]
    },
    {
     "name": "stderr",
     "output_type": "stream",
     "text": [
      "Setting `pad_token_id` to `eos_token_id`:128001 for open-end generation.\n",
      "Setting `pad_token_id` to `eos_token_id`:128001 for open-end generation.\n"
     ]
    },
    {
     "name": "stdout",
     "output_type": "stream",
     "text": [
      "Based on the context, CT-Eval seems to be the abbreviation for \"Chinese Text-to-English Evaluation\", which is a dataset used to evaluate the performance of Chinese-to-English translation models.\n",
      "\n",
      "The CT-Eval dataset contains a collection of paired Chinese\n",
      "\n",
      "embed_layers= 6\n"
     ]
    },
    {
     "name": "stderr",
     "output_type": "stream",
     "text": [
      "Setting `pad_token_id` to `eos_token_id`:128001 for open-end generation.\n"
     ]
    },
    {
     "name": "stdout",
     "output_type": "stream",
     "text": [
      "CT-Eval is not a well-known acronym, and I couldn't find any information on what it stands for. It's possible that it's a proprietary or internal term used by a specific organization or project.\n",
      "\n",
      "However, based on the context of your\n",
      "\n",
      "embed_layers= 9\n"
     ]
    },
    {
     "name": "stderr",
     "output_type": "stream",
     "text": [
      "Setting `pad_token_id` to `eos_token_id`:128001 for open-end generation.\n"
     ]
    },
    {
     "name": "stdout",
     "output_type": "stream",
     "text": [
      "CT-Eval stands for Cross-Task Evaluation, which is a technique used to evaluate the performance of language models and natural language processing (NLP) systems. The goal of CT-Eval is to assess the ability of these systems to generalize to unseen\n",
      "\n",
      "embed_layers= 12\n"
     ]
    },
    {
     "name": "stderr",
     "output_type": "stream",
     "text": [
      "Setting `pad_token_id` to `eos_token_id`:128001 for open-end generation.\n"
     ]
    },
    {
     "name": "stdout",
     "output_type": "stream",
     "text": [
      "CT-Eval is the abbreviation for \"Chinese Text-to-Text Translation Evaluation\". It's a benchmark dataset and evaluation protocol designed to assess the quality of machine translation systems, particularly in the context of Chinese text-to-text translation. The CT-Eval dataset\n",
      "\n",
      "embed_layers= 15\n"
     ]
    },
    {
     "name": "stderr",
     "output_type": "stream",
     "text": [
      "Setting `pad_token_id` to `eos_token_id`:128001 for open-end generation.\n"
     ]
    },
    {
     "name": "stdout",
     "output_type": "stream",
     "text": [
      "I think there may be a slight mistake!\n",
      "\n",
      "It seems that I was supposed to introduce CT-Eval, which is actually the Chinese translation of \"CT- Evaluate\" or \"Chinese Text Evaluation\". It's not a specific algorithm or model, but rather\n",
      "\n",
      "embed_layers= 18\n"
     ]
    },
    {
     "name": "stderr",
     "output_type": "stream",
     "text": [
      "Setting `pad_token_id` to `eos_token_id`:128001 for open-end generation.\n"
     ]
    },
    {
     "name": "stdout",
     "output_type": "stream",
     "text": [
      "CT-Eval (Chinese Technical Evaluation) is a benchmarking and evaluation framework for assessing the performance of Chinese language models on various NLP tasks, including text classification, sentiment analysis, and machine translation. It is a widely used evaluation metric in the Chinese\n",
      "\n",
      "embed_layers= 21\n"
     ]
    },
    {
     "name": "stderr",
     "output_type": "stream",
     "text": [
      "Setting `pad_token_id` to `eos_token_id`:128001 for open-end generation.\n"
     ]
    },
    {
     "name": "stdout",
     "output_type": "stream",
     "text": [
      "CT-Eval is a new subfield of natural language processing (NLP) and information retrieval that deals with the evaluation of conversational systems, such as chatbots, dialogue systems, and conversational AI systems. The term \"CT\" stands for\n",
      "\n",
      "embed_layers= 24\n"
     ]
    },
    {
     "name": "stderr",
     "output_type": "stream",
     "text": [
      "Setting `pad_token_id` to `eos_token_id`:128001 for open-end generation.\n"
     ]
    },
    {
     "name": "stdout",
     "output_type": "stream",
     "text": [
      "I think you meant \"CT-Eval\" as in \"Chinese Text Evaluation\" (CT-Eval), which is a dataset and a benchmark for evaluating Natural Language Processing (NLP) models, particularly for text generation tasks such as text summarization,\n",
      "\n",
      "embed_layers= 27\n"
     ]
    },
    {
     "name": "stderr",
     "output_type": "stream",
     "text": [
      "Setting `pad_token_id` to `eos_token_id`:128001 for open-end generation.\n"
     ]
    },
    {
     "name": "stdout",
     "output_type": "stream",
     "text": [
      "CT-Eval is an abbreviation that stands for Chinese Text Evaluation, which is a dataset used for evaluating the performance of Natural Language Processing (NLP) models, particularly for Chinese text classification tasks.<|eot_id|>\n",
      "\n",
      "embed_layers= 30\n",
      "CT-Eval is the Chinese name of the Chinese Technology Evaluation Centre (CTEC), a government-owned institution in China that evaluates and certifies information technology (IT) products and systems.<|eot_id|>\n",
      "\n",
      "CPU times: user 1min 53s, sys: 29.2 s, total: 2min 22s\n",
      "Wall time: 2min 22s\n"
     ]
    }
   ],
   "source": [
    "%%time\n",
    "\n",
    "for i in range(10):\n",
    "    print(\"embed_layers=\", ((i+1)*3))\n",
    "    print(pipe.generate(\"What is CT-Eval?\", embed_layers=((i+5)*2)))\n",
    "    print()"
   ]
  },
  {
   "cell_type": "code",
   "execution_count": 13,
   "id": "cae0d26a",
   "metadata": {
    "execution": {
     "iopub.execute_input": "2024-05-22T11:23:38.378926Z",
     "iopub.status.busy": "2024-05-22T11:23:38.378257Z",
     "iopub.status.idle": "2024-05-22T11:23:56.764586Z",
     "shell.execute_reply": "2024-05-22T11:23:56.763287Z"
    },
    "papermill": {
     "duration": 18.404724,
     "end_time": "2024-05-22T11:23:56.767050",
     "exception": false,
     "start_time": "2024-05-22T11:23:38.362326",
     "status": "completed"
    },
    "tags": []
   },
   "outputs": [
    {
     "name": "stderr",
     "output_type": "stream",
     "text": [
      "Setting `pad_token_id` to `eos_token_id`:128001 for open-end generation.\n"
     ]
    },
    {
     "name": "stdout",
     "output_type": "stream",
     "text": [
      "GPU Usage Before Inference:\n",
      "[3463, 3447] MiB\n",
      "CT-Eval is a text-based evaluation framework for natural language processing (NLP) and information retrieval (IR) tasks. It is a popular platform for evaluating and comparing the performance of various NLP and IR systems.\n",
      "\n",
      "CT-Eval provides a standardized\n",
      "GPU Usage After Inference:\n",
      "[3689, 4799] MiB\n",
      "Difference in GPU Memory Usage:\n",
      "[226, 1352] MiB\n"
     ]
    }
   ],
   "source": [
    "clear_cache()\n",
    "\n",
    "# GPU usage before inference\n",
    "memory_before = get_gpu_memory()\n",
    "print(\"GPU Usage Before Inference:\")\n",
    "print(memory_before, \"MiB\")\n",
    "\n",
    "# Inference code here\n",
    "print(pipe.generate(\"What is CT-Eval?\", embed_layers=12))\n",
    "\n",
    "# GPU usage after inference\n",
    "memory_after = get_gpu_memory()\n",
    "print(\"GPU Usage After Inference:\")\n",
    "print(memory_after, \"MiB\")\n",
    "\n",
    "# Calculate the difference in memory usage\n",
    "memory_difference = [after - before for before, after in zip(memory_before, memory_after)]\n",
    "print(\"Difference in GPU Memory Usage:\")\n",
    "print(memory_difference, \"MiB\")"
   ]
  },
  {
   "cell_type": "code",
   "execution_count": null,
   "id": "3302048b",
   "metadata": {
    "papermill": {
     "duration": 0.016125,
     "end_time": "2024-05-22T11:23:56.799766",
     "exception": false,
     "start_time": "2024-05-22T11:23:56.783641",
     "status": "completed"
    },
    "tags": []
   },
   "outputs": [],
   "source": []
  },
  {
   "cell_type": "markdown",
   "id": "87813dab",
   "metadata": {
    "papermill": {
     "duration": 0.015531,
     "end_time": "2024-05-22T11:23:56.831039",
     "exception": false,
     "start_time": "2024-05-22T11:23:56.815508",
     "status": "completed"
    },
    "tags": []
   },
   "source": [
    "## block_size=2"
   ]
  },
  {
   "cell_type": "code",
   "execution_count": 14,
   "id": "c1238771",
   "metadata": {
    "execution": {
     "iopub.execute_input": "2024-05-22T11:23:56.863090Z",
     "iopub.status.busy": "2024-05-22T11:23:56.862712Z",
     "iopub.status.idle": "2024-05-22T11:24:28.015663Z",
     "shell.execute_reply": "2024-05-22T11:24:28.014681Z"
    },
    "papermill": {
     "duration": 31.187091,
     "end_time": "2024-05-22T11:24:28.033468",
     "exception": false,
     "start_time": "2024-05-22T11:23:56.846377",
     "status": "completed"
    },
    "tags": []
   },
   "outputs": [
    {
     "name": "stderr",
     "output_type": "stream",
     "text": [
      "Setting `pad_token_id` to `eos_token_id`:128001 for open-end generation.\n"
     ]
    },
    {
     "name": "stdout",
     "output_type": "stream",
     "text": [
      "CPU times: user 22.1 s, sys: 9.11 s, total: 31.2 s\n",
      "Wall time: 31.1 s\n"
     ]
    }
   ],
   "source": [
    "%%time\n",
    "\n",
    "pipe.set_mid_hidden_states(comp_prompt, block_size=2)"
   ]
  },
  {
   "cell_type": "code",
   "execution_count": 15,
   "id": "5eb61c32",
   "metadata": {
    "execution": {
     "iopub.execute_input": "2024-05-22T11:24:28.065817Z",
     "iopub.status.busy": "2024-05-22T11:24:28.065264Z",
     "iopub.status.idle": "2024-05-22T11:24:28.071442Z",
     "shell.execute_reply": "2024-05-22T11:24:28.070478Z"
    },
    "papermill": {
     "duration": 0.024017,
     "end_time": "2024-05-22T11:24:28.073165",
     "exception": false,
     "start_time": "2024-05-22T11:24:28.049148",
     "status": "completed"
    },
    "tags": []
   },
   "outputs": [
    {
     "data": {
      "text/plain": [
       "torch.Size([1, 2258, 4096])"
      ]
     },
     "execution_count": 15,
     "metadata": {},
     "output_type": "execute_result"
    }
   ],
   "source": [
    "mid_hidden_state = pipe.model.model.mid_hidden_states[0]\n",
    "mid_hidden_state.shape"
   ]
  },
  {
   "cell_type": "code",
   "execution_count": 16,
   "id": "41dc539f",
   "metadata": {
    "execution": {
     "iopub.execute_input": "2024-05-22T11:24:28.106438Z",
     "iopub.status.busy": "2024-05-22T11:24:28.106140Z",
     "iopub.status.idle": "2024-05-22T11:27:43.326395Z",
     "shell.execute_reply": "2024-05-22T11:27:43.325364Z"
    },
    "papermill": {
     "duration": 195.257638,
     "end_time": "2024-05-22T11:27:43.346252",
     "exception": false,
     "start_time": "2024-05-22T11:24:28.088614",
     "status": "completed"
    },
    "tags": []
   },
   "outputs": [
    {
     "name": "stderr",
     "output_type": "stream",
     "text": [
      "Setting `pad_token_id` to `eos_token_id`:128001 for open-end generation.\n"
     ]
    },
    {
     "name": "stdout",
     "output_type": "stream",
     "text": [
      "embed_layers= 3\n"
     ]
    },
    {
     "name": "stderr",
     "output_type": "stream",
     "text": [
      "Setting `pad_token_id` to `eos_token_id`:128001 for open-end generation.\n"
     ]
    },
    {
     "name": "stdout",
     "output_type": "stream",
     "text": [
      "CT-Eval is a benchmarking dataset and evaluation framework for text-to-table tasks, specifically designed to assess the performance of Large Language Models (LLMs) in generating accurate tables from unstructured text. The dataset is based on a large-scale, mult\n",
      "\n",
      "embed_layers= 6\n"
     ]
    },
    {
     "name": "stderr",
     "output_type": "stream",
     "text": [
      "Setting `pad_token_id` to `eos_token_id`:128001 for open-end generation.\n"
     ]
    },
    {
     "name": "stdout",
     "output_type": "stream",
     "text": [
      "CT-Eval is a dataset and evaluation benchmark for the Text-to-Table (T2T) task, specifically designed to evaluate the performance of Large Language Models (LLMs) in generating tables from unstructured text. The dataset is designed to assess\n",
      "\n",
      "embed_layers= 9\n"
     ]
    },
    {
     "name": "stderr",
     "output_type": "stream",
     "text": [
      "Setting `pad_token_id` to `eos_token_id`:128001 for open-end generation.\n"
     ]
    },
    {
     "name": "stdout",
     "output_type": "stream",
     "text": [
      "CT-Eval stands for \"Chinese Text-to-Table (CT) Evaluation\". It is a dataset and benchmark for evaluating the performance of text-to-table models in Chinese text-to-table tasks.<|eot_id|>\n",
      "\n",
      "embed_layers= 12\n"
     ]
    },
    {
     "name": "stderr",
     "output_type": "stream",
     "text": [
      "Setting `pad_token_id` to `eos_token_id`:128001 for open-end generation.\n"
     ]
    },
    {
     "name": "stdout",
     "output_type": "stream",
     "text": [
      "CT-Eval, short for Chinese Text-to-Table Evaluation, is a dataset and evaluation benchmark for the task of text-to-table generation, specifically for Chinese text. The dataset is a collection of 88,600 text-table pairs, covering a wide\n",
      "\n",
      "embed_layers= 15\n"
     ]
    },
    {
     "name": "stderr",
     "output_type": "stream",
     "text": [
      "Setting `pad_token_id` to `eos_token_id`:128001 for open-end generation.\n"
     ]
    },
    {
     "name": "stdout",
     "output_type": "stream",
     "text": [
      "CT-Eval is the Chinese text dataset that I created, specifically designed for evaluating Large Language Models (LLMs) in the Text-to-Table task, which is a sub-task of Natural Language Processing (NLP). It's an essential resource for\n",
      "\n",
      "embed_layers= 18\n"
     ]
    },
    {
     "name": "stderr",
     "output_type": "stream",
     "text": [
      "Setting `pad_token_id` to `eos_token_id`:128001 for open-end generation.\n"
     ]
    },
    {
     "name": "stdout",
     "output_type": "stream",
     "text": [
      "CT-Eval is the Chinese text-to-table dataset I created in my previous response. It's a collection of 88,600 text-table pairs, designed to evaluate the performance of Large Language Models (LLMs) in text-to-table tasks.\n",
      "\n",
      "The\n",
      "\n",
      "embed_layers= 21\n"
     ]
    },
    {
     "name": "stderr",
     "output_type": "stream",
     "text": [
      "Setting `pad_token_id` to `eos_token_id`:128001 for open-end generation.\n"
     ]
    },
    {
     "name": "stdout",
     "output_type": "stream",
     "text": [
      "CT-Eval is the abbreviation for \"Chinese Text-to-Table Evaluation\" or \"Chinese Text-to-Table Evaluation Dataset\". It is a dataset of Chinese text and table pairs, used to evaluate the performance of Natural Language Processing (NLP) models\n",
      "\n",
      "embed_layers= 24\n"
     ]
    },
    {
     "name": "stderr",
     "output_type": "stream",
     "text": [
      "Setting `pad_token_id` to `eos_token_id`:128001 for open-end generation.\n"
     ]
    },
    {
     "name": "stdout",
     "output_type": "stream",
     "text": [
      "CT-Eval, or Chinese Text-to-Text Evaluation, is a dataset and benchmarking framework developed to evaluate the performance of text-to-text models, particularly in the context of Chinese text processing.<|eot_id|>\n",
      "\n",
      "embed_layers= 27\n"
     ]
    },
    {
     "name": "stderr",
     "output_type": "stream",
     "text": [
      "Setting `pad_token_id` to `eos_token_id`:128001 for open-end generation.\n"
     ]
    },
    {
     "name": "stdout",
     "output_type": "stream",
     "text": [
      "CT-Eval stands for Chinese Text-to-Text Evaluation. It is a dataset and evaluation metric designed specifically for assessing the performance of text-to-text language models and their ability to generate coherent and informative texts in Chinese.\n",
      "\n",
      "CT-Eval is composed of a\n",
      "\n",
      "embed_layers= 30\n",
      "CT-Eval, also known as the Chinese Text-to-Table Evaluation Benchmark, is a text-to-table evaluation dataset and benchmark that focuses on evaluating the performance of models in transforming natural language text into tables.\n",
      "\n",
      "The dataset was introduced in the research paper \"\n",
      "\n",
      "CPU times: user 2min 29s, sys: 45.5 s, total: 3min 15s\n",
      "Wall time: 3min 15s\n"
     ]
    }
   ],
   "source": [
    "%%time\n",
    "\n",
    "for i in range(10):\n",
    "    print(\"embed_layers=\", ((i+1)*3))\n",
    "    print(pipe.generate(\"What is CT-Eval?\", embed_layers=((i+5)*2)))\n",
    "    print()"
   ]
  },
  {
   "cell_type": "code",
   "execution_count": 17,
   "id": "ecebabbc",
   "metadata": {
    "execution": {
     "iopub.execute_input": "2024-05-22T11:27:43.383149Z",
     "iopub.status.busy": "2024-05-22T11:27:43.382748Z",
     "iopub.status.idle": "2024-05-22T11:28:06.644239Z",
     "shell.execute_reply": "2024-05-22T11:28:06.643172Z"
    },
    "papermill": {
     "duration": 23.282547,
     "end_time": "2024-05-22T11:28:06.646645",
     "exception": false,
     "start_time": "2024-05-22T11:27:43.364098",
     "status": "completed"
    },
    "tags": []
   },
   "outputs": [
    {
     "name": "stderr",
     "output_type": "stream",
     "text": [
      "Setting `pad_token_id` to `eos_token_id`:128001 for open-end generation.\n"
     ]
    },
    {
     "name": "stdout",
     "output_type": "stream",
     "text": [
      "GPU Usage Before Inference:\n",
      "[3543, 3897] MiB\n",
      "CT-Eval, also known as Chinese Text-to-Table (CT-Eval), is a dataset designed to evaluate the performance of text-to-table models, particularly in Chinese. The dataset is a benchmark for assessing the ability of natural language processing (N\n",
      "GPU Usage After Inference:\n",
      "[3881, 5577] MiB\n",
      "Difference in GPU Memory Usage:\n",
      "[338, 1680] MiB\n"
     ]
    }
   ],
   "source": [
    "clear_cache()\n",
    "\n",
    "# GPU usage before inference\n",
    "memory_before = get_gpu_memory()\n",
    "print(\"GPU Usage Before Inference:\")\n",
    "print(memory_before, \"MiB\")\n",
    "\n",
    "# Inference code here\n",
    "print(pipe.generate(\"What is CT-Eval?\", embed_layers=12))\n",
    "\n",
    "# GPU usage after inference\n",
    "memory_after = get_gpu_memory()\n",
    "print(\"GPU Usage After Inference:\")\n",
    "print(memory_after, \"MiB\")\n",
    "\n",
    "# Calculate the difference in memory usage\n",
    "memory_difference = [after - before for before, after in zip(memory_before, memory_after)]\n",
    "print(\"Difference in GPU Memory Usage:\")\n",
    "print(memory_difference, \"MiB\")"
   ]
  },
  {
   "cell_type": "code",
   "execution_count": null,
   "id": "9f26a497",
   "metadata": {
    "papermill": {
     "duration": 0.018284,
     "end_time": "2024-05-22T11:28:06.683974",
     "exception": false,
     "start_time": "2024-05-22T11:28:06.665690",
     "status": "completed"
    },
    "tags": []
   },
   "outputs": [],
   "source": []
  },
  {
   "cell_type": "markdown",
   "id": "fd5b6c37",
   "metadata": {
    "papermill": {
     "duration": 0.018154,
     "end_time": "2024-05-22T11:28:06.721510",
     "exception": false,
     "start_time": "2024-05-22T11:28:06.703356",
     "status": "completed"
    },
    "tags": []
   },
   "source": [
    "## Compare to normal way."
   ]
  },
  {
   "cell_type": "code",
   "execution_count": 18,
   "id": "4b4dfd1c",
   "metadata": {
    "execution": {
     "iopub.execute_input": "2024-05-22T11:28:06.758994Z",
     "iopub.status.busy": "2024-05-22T11:28:06.758656Z",
     "iopub.status.idle": "2024-05-22T11:28:10.522935Z",
     "shell.execute_reply": "2024-05-22T11:28:10.522137Z"
    },
    "papermill": {
     "duration": 3.785922,
     "end_time": "2024-05-22T11:28:10.525352",
     "exception": false,
     "start_time": "2024-05-22T11:28:06.739430",
     "status": "completed"
    },
    "tags": []
   },
   "outputs": [],
   "source": [
    "del pipe\n",
    "\n",
    "clear_cache()"
   ]
  },
  {
   "cell_type": "code",
   "execution_count": 19,
   "id": "dd9a3164",
   "metadata": {
    "execution": {
     "iopub.execute_input": "2024-05-22T11:28:10.562755Z",
     "iopub.status.busy": "2024-05-22T11:28:10.562413Z",
     "iopub.status.idle": "2024-05-22T11:29:12.896722Z",
     "shell.execute_reply": "2024-05-22T11:29:12.895719Z"
    },
    "papermill": {
     "duration": 62.356213,
     "end_time": "2024-05-22T11:29:12.899523",
     "exception": false,
     "start_time": "2024-05-22T11:28:10.543310",
     "status": "completed"
    },
    "tags": []
   },
   "outputs": [
    {
     "name": "stderr",
     "output_type": "stream",
     "text": [
      "Special tokens have been added in the vocabulary, make sure the associated word embeddings are fine-tuned or trained.\n"
     ]
    },
    {
     "data": {
      "application/vnd.jupyter.widget-view+json": {
       "model_id": "c1a13a5427c4495f983a39d4ea520def",
       "version_major": 2,
       "version_minor": 0
      },
      "text/plain": [
       "Loading checkpoint shards:   0%|          | 0/4 [00:00<?, ?it/s]"
      ]
     },
     "metadata": {},
     "output_type": "display_data"
    }
   ],
   "source": [
    "from transformers import AutoModelForCausalLM, AutoTokenizer, BitsAndBytesConfig \n",
    "\n",
    "tokenizer = AutoTokenizer.from_pretrained(CFG.model_name, trust_remote_code=True)\n",
    "if tokenizer.pad_token is None:\n",
    "    tokenizer.pad_token = tokenizer.eos_token\n",
    "\n",
    "quantization_config = BitsAndBytesConfig(\n",
    "    load_in_4bit=True,\n",
    "    bnb_4bit_quant_type=\"nf4\",\n",
    "    bnb_4bit_use_double_quant=True,\n",
    "    bnb_4bit_compute_dtype=torch.bfloat16\n",
    ")\n",
    "\n",
    "device_map = [('model.embed_tokens', 0)]\n",
    "device_map.extend([(f'model.layers.{i}', 0) for i in range(0, 16)])\n",
    "device_map.extend([(f'model.layers.{i}', 1) for i in range(16, 32)])\n",
    "device_map.extend([\n",
    "    ('model.norm', 1),\n",
    "    ('lm_head', 1),\n",
    "])\n",
    "device_map = {ii:jj for (ii,jj) in device_map}\n",
    "\n",
    "model = AutoModelForCausalLM.from_pretrained(\n",
    "    CFG.model_name,\n",
    "    quantization_config=quantization_config,\n",
    "    device_map=device_map,\n",
    ")"
   ]
  },
  {
   "cell_type": "markdown",
   "id": "8be79a9b",
   "metadata": {
    "papermill": {
     "duration": 0.017924,
     "end_time": "2024-05-22T11:29:12.936991",
     "exception": false,
     "start_time": "2024-05-22T11:29:12.919067",
     "status": "completed"
    },
    "tags": []
   },
   "source": [
    "## No Knowledge"
   ]
  },
  {
   "cell_type": "code",
   "execution_count": 20,
   "id": "0a910e5b",
   "metadata": {
    "execution": {
     "iopub.execute_input": "2024-05-22T11:29:12.976170Z",
     "iopub.status.busy": "2024-05-22T11:29:12.975575Z",
     "iopub.status.idle": "2024-05-22T11:29:12.988276Z",
     "shell.execute_reply": "2024-05-22T11:29:12.987340Z"
    },
    "papermill": {
     "duration": 0.03398,
     "end_time": "2024-05-22T11:29:12.990317",
     "exception": false,
     "start_time": "2024-05-22T11:29:12.956337",
     "status": "completed"
    },
    "tags": []
   },
   "outputs": [],
   "source": [
    "messages = [\n",
    "    {\"role\": \"user\", \"content\": \"What is CT-Eval?\"},\n",
    "]\n",
    "prompt = tokenizer.apply_chat_template(\n",
    "    messages, \n",
    "    tokenize=False, \n",
    "    add_generation_prompt=True\n",
    ")\n",
    "input_ids = tokenizer(prompt, return_tensors=\"pt\").to(CFG.device)"
   ]
  },
  {
   "cell_type": "code",
   "execution_count": 21,
   "id": "414b1925",
   "metadata": {
    "execution": {
     "iopub.execute_input": "2024-05-22T11:29:13.029130Z",
     "iopub.status.busy": "2024-05-22T11:29:13.028811Z",
     "iopub.status.idle": "2024-05-22T11:30:09.920210Z",
     "shell.execute_reply": "2024-05-22T11:30:09.919048Z"
    },
    "papermill": {
     "duration": 56.913402,
     "end_time": "2024-05-22T11:30:09.922328",
     "exception": false,
     "start_time": "2024-05-22T11:29:13.008926",
     "status": "completed"
    },
    "tags": []
   },
   "outputs": [
    {
     "name": "stderr",
     "output_type": "stream",
     "text": [
      "Setting `pad_token_id` to `eos_token_id`:128001 for open-end generation.\n",
      "Setting `pad_token_id` to `eos_token_id`:128001 for open-end generation.\n"
     ]
    },
    {
     "name": "stdout",
     "output_type": "stream",
     "text": [
      "CT-Eval is a computer-based testing platform that assesses an individual's cognitive abilities, particularly in the areas of problem-solving, critical thinking, and decision-making. The term \"CT\" stands for Cognitive Testing, and \"Eval\" stands for Evaluation\n",
      "\n"
     ]
    },
    {
     "name": "stderr",
     "output_type": "stream",
     "text": [
      "Setting `pad_token_id` to `eos_token_id`:128001 for open-end generation.\n"
     ]
    },
    {
     "name": "stdout",
     "output_type": "stream",
     "text": [
      "CT-Eval is a type of software testing and evaluation tool used to assess the performance of a software system or application under various conditions. CT-Eval is an acronym that stands for \"Concurrent Testing-Evaluation\".\n",
      "\n",
      "CT-Eval is a testing and\n",
      "\n"
     ]
    },
    {
     "name": "stderr",
     "output_type": "stream",
     "text": [
      "Setting `pad_token_id` to `eos_token_id`:128001 for open-end generation.\n"
     ]
    },
    {
     "name": "stdout",
     "output_type": "stream",
     "text": [
      "CT-Eval is a software tool used to evaluate and analyze the performance of computer systems, particularly in the context of computational biology and bioinformatics. CT-Eval is designed to assess the speed, accuracy, and reliability of algorithms and computational pipelines used in\n",
      "\n"
     ]
    },
    {
     "name": "stderr",
     "output_type": "stream",
     "text": [
      "Setting `pad_token_id` to `eos_token_id`:128001 for open-end generation.\n"
     ]
    },
    {
     "name": "stdout",
     "output_type": "stream",
     "text": [
      "CT-Eval (Computerized Tomography Evaluation) is a computer-based assessment tool used to evaluate the cognitive, emotional, and behavioral aspects of a person's mental health. It's often used in clinical settings, such as mental health clinics, hospitals,\n",
      "\n"
     ]
    },
    {
     "name": "stderr",
     "output_type": "stream",
     "text": [
      "Setting `pad_token_id` to `eos_token_id`:128001 for open-end generation.\n"
     ]
    },
    {
     "name": "stdout",
     "output_type": "stream",
     "text": [
      "CT-Eval is a technique used in the field of Computer Science and Artificial Intelligence, particularly in Natural Language Processing (NLP) and Machine Learning (ML). It stands for \"Cumulative Training-Evaluation\".\n",
      "\n",
      "In CT-Eval, a machine learning\n",
      "\n"
     ]
    },
    {
     "name": "stderr",
     "output_type": "stream",
     "text": [
      "Setting `pad_token_id` to `eos_token_id`:128001 for open-end generation.\n"
     ]
    },
    {
     "name": "stdout",
     "output_type": "stream",
     "text": [
      "CT-Eval is a testing tool used to evaluate the performance of a computer system's clock accuracy. It is a software program that measures the accuracy and precision of a system's clock, which is responsible for keeping track of time in a computer.\n",
      "\n",
      "CT\n",
      "\n"
     ]
    },
    {
     "name": "stderr",
     "output_type": "stream",
     "text": [
      "Setting `pad_token_id` to `eos_token_id`:128001 for open-end generation.\n"
     ]
    },
    {
     "name": "stdout",
     "output_type": "stream",
     "text": [
      "CT-Eval is a performance evaluation framework for CT (Computed Tomography) systems, which is used to assess the image quality and diagnostic accuracy of CT scanners. It is a standardized method for evaluating the performance of CT systems, developed by the European Society\n",
      "\n"
     ]
    },
    {
     "name": "stderr",
     "output_type": "stream",
     "text": [
      "Setting `pad_token_id` to `eos_token_id`:128001 for open-end generation.\n"
     ]
    },
    {
     "name": "stdout",
     "output_type": "stream",
     "text": [
      "CT-Eval is a tool used in the development and testing of complex systems, particularly in the fields of computer networking, telecommunications, and cybersecurity. It stands for \"Conformance Testing Evaluation\".\n",
      "\n",
      "CT-Eval is a method of testing and evaluating the con\n",
      "\n"
     ]
    },
    {
     "name": "stderr",
     "output_type": "stream",
     "text": [
      "Setting `pad_token_id` to `eos_token_id`:128001 for open-end generation.\n"
     ]
    },
    {
     "name": "stdout",
     "output_type": "stream",
     "text": [
      "CT-Eval is a popular evaluation metric used to assess the performance of conversational AI models, such as chatbots, language translation systems, and dialogue systems. CT-Eval is a variant of the conventional evaluation metric, BLEU score, specifically designed\n",
      "\n",
      "CT-Eval (Critical Thinking-Evaluation) is a popular critical thinking assessment tool used to evaluate the critical thinking abilities of individuals. It is designed to measure an individual's ability to think critically, objectively, and effectively.\n",
      "\n",
      "The CT-Eval consists of\n",
      "\n",
      "CPU times: user 55 s, sys: 1.86 s, total: 56.9 s\n",
      "Wall time: 56.9 s\n"
     ]
    }
   ],
   "source": [
    "%%time\n",
    "\n",
    "for i in range(10):\n",
    "    outputs = model.generate(\n",
    "        **input_ids,\n",
    "        max_new_tokens=50,\n",
    "        temperature=1.0,\n",
    "    )\n",
    "    print(tokenizer.decode(outputs[0, input_ids['input_ids'].size(1):]))\n",
    "    print()"
   ]
  },
  {
   "cell_type": "code",
   "execution_count": 22,
   "id": "88db258d",
   "metadata": {
    "execution": {
     "iopub.execute_input": "2024-05-22T11:30:09.962552Z",
     "iopub.status.busy": "2024-05-22T11:30:09.962215Z",
     "iopub.status.idle": "2024-05-22T11:30:19.405102Z",
     "shell.execute_reply": "2024-05-22T11:30:19.403933Z"
    },
    "papermill": {
     "duration": 9.465441,
     "end_time": "2024-05-22T11:30:19.407138",
     "exception": false,
     "start_time": "2024-05-22T11:30:09.941697",
     "status": "completed"
    },
    "tags": []
   },
   "outputs": [
    {
     "name": "stderr",
     "output_type": "stream",
     "text": [
      "Setting `pad_token_id` to `eos_token_id`:128001 for open-end generation.\n"
     ]
    },
    {
     "name": "stdout",
     "output_type": "stream",
     "text": [
      "GPU Usage Before Inference:\n",
      "[2903, 2947] MiB\n",
      "CT-Eval is a computer-aided evaluation system for testing and verifying the performance of digital signal processing (DSP) and image processing algorithms. It's a widely used tool in the field of signal processing and image processing research and development.\n",
      "\n",
      "CT-E\n",
      "GPU Usage After Inference:\n",
      "[3201, 3185] MiB\n",
      "Difference in GPU Memory Usage:\n",
      "[298, 238] MiB\n"
     ]
    }
   ],
   "source": [
    "clear_cache()\n",
    "\n",
    "# GPU usage before inference\n",
    "memory_before = get_gpu_memory()\n",
    "print(\"GPU Usage Before Inference:\")\n",
    "print(memory_before, \"MiB\")\n",
    "\n",
    "# Inference code here\n",
    "outputs = model.generate(\n",
    "    **input_ids,\n",
    "    max_new_tokens=50,\n",
    "    temperature=1.0,\n",
    ")\n",
    "print(tokenizer.decode(outputs[0, input_ids['input_ids'].size(1):]))\n",
    "\n",
    "# GPU usage after inference\n",
    "memory_after = get_gpu_memory()\n",
    "print(\"GPU Usage After Inference:\")\n",
    "print(memory_after, \"MiB\")\n",
    "\n",
    "# Calculate the difference in memory usage\n",
    "memory_difference = [after - before for before, after in zip(memory_before, memory_after)]\n",
    "print(\"Difference in GPU Memory Usage:\")\n",
    "print(memory_difference, \"MiB\")"
   ]
  },
  {
   "cell_type": "code",
   "execution_count": null,
   "id": "0d764574",
   "metadata": {
    "papermill": {
     "duration": 0.027846,
     "end_time": "2024-05-22T11:30:19.457456",
     "exception": false,
     "start_time": "2024-05-22T11:30:19.429610",
     "status": "completed"
    },
    "tags": []
   },
   "outputs": [],
   "source": []
  },
  {
   "cell_type": "markdown",
   "id": "25d14ea9",
   "metadata": {
    "papermill": {
     "duration": 0.021182,
     "end_time": "2024-05-22T11:30:19.501283",
     "exception": false,
     "start_time": "2024-05-22T11:30:19.480101",
     "status": "completed"
    },
    "tags": []
   },
   "source": [
    "## Using Original Tokens"
   ]
  },
  {
   "cell_type": "code",
   "execution_count": 23,
   "id": "5767c908",
   "metadata": {
    "execution": {
     "iopub.execute_input": "2024-05-22T11:30:19.540370Z",
     "iopub.status.busy": "2024-05-22T11:30:19.540006Z",
     "iopub.status.idle": "2024-05-22T11:30:19.561193Z",
     "shell.execute_reply": "2024-05-22T11:30:19.560438Z"
    },
    "papermill": {
     "duration": 0.043205,
     "end_time": "2024-05-22T11:30:19.563188",
     "exception": false,
     "start_time": "2024-05-22T11:30:19.519983",
     "status": "completed"
    },
    "tags": []
   },
   "outputs": [],
   "source": [
    "messages = [\n",
    "    {\"role\": \"assistant\", \"content\": comp_prompt},\n",
    "    {\"role\": \"user\", \"content\": \"What is CT-Eval?\"},\n",
    "]\n",
    "prompt = tokenizer.apply_chat_template(\n",
    "    messages, \n",
    "    tokenize=False, \n",
    "    add_generation_prompt=True\n",
    ")\n",
    "input_ids = tokenizer(prompt, return_tensors=\"pt\").to(CFG.device)"
   ]
  },
  {
   "cell_type": "code",
   "execution_count": 24,
   "id": "737687ed",
   "metadata": {
    "execution": {
     "iopub.execute_input": "2024-05-22T11:30:19.602224Z",
     "iopub.status.busy": "2024-05-22T11:30:19.601944Z",
     "iopub.status.idle": "2024-05-22T11:35:59.969700Z",
     "shell.execute_reply": "2024-05-22T11:35:59.968705Z"
    },
    "papermill": {
     "duration": 340.411138,
     "end_time": "2024-05-22T11:35:59.993631",
     "exception": false,
     "start_time": "2024-05-22T11:30:19.582493",
     "status": "completed"
    },
    "tags": []
   },
   "outputs": [
    {
     "name": "stderr",
     "output_type": "stream",
     "text": [
      "Setting `pad_token_id` to `eos_token_id`:128001 for open-end generation.\n",
      "Setting `pad_token_id` to `eos_token_id`:128001 for open-end generation.\n"
     ]
    },
    {
     "name": "stdout",
     "output_type": "stream",
     "text": [
      "CT-Eval (Chinese Text-to-Table Evaluation) is a dataset designed to evaluate the performance of Large Language Models (LLMs) on the text-to-table task, specifically in the Chinese language. It is a dataset of text-table pairs, where\n",
      "\n"
     ]
    },
    {
     "name": "stderr",
     "output_type": "stream",
     "text": [
      "Setting `pad_token_id` to `eos_token_id`:128001 for open-end generation.\n"
     ]
    },
    {
     "name": "stdout",
     "output_type": "stream",
     "text": [
      "CT-Eval is a benchmark dataset for evaluating the performance of Large Language Models (LLMs) in the Text-to-Table (T2T) task, specifically in the Chinese language. The dataset is designed to assess the ability of LLMs\n",
      "\n"
     ]
    },
    {
     "name": "stderr",
     "output_type": "stream",
     "text": [
      "Setting `pad_token_id` to `eos_token_id`:128001 for open-end generation.\n"
     ]
    },
    {
     "name": "stdout",
     "output_type": "stream",
     "text": [
      "CT-Eval stands for Chinese Text-to-Table Evaluation, which is a dataset specifically designed for evaluating the performance of Large Language Models (LLMs) in the task of text-to-table generation. The dataset was created to address the limitations of existing text\n",
      "\n"
     ]
    },
    {
     "name": "stderr",
     "output_type": "stream",
     "text": [
      "Setting `pad_token_id` to `eos_token_id`:128001 for open-end generation.\n"
     ]
    },
    {
     "name": "stdout",
     "output_type": "stream",
     "text": [
      "CT-Eval is a Chinese text-to-table evaluation dataset designed to assess the performance of large language models (LLMs) in extracting structured information from unstructured text. The dataset is a collection of document-table pairs in Chinese, specifically curated to mitigate halluc\n",
      "\n"
     ]
    },
    {
     "name": "stderr",
     "output_type": "stream",
     "text": [
      "Setting `pad_token_id` to `eos_token_id`:128001 for open-end generation.\n"
     ]
    },
    {
     "name": "stdout",
     "output_type": "stream",
     "text": [
      "CT-Eval is a text-to-table evaluation dataset specifically designed for benchmarking the performance of Large Language Models (LLMs) in generating structured tables from unstructured text. It is a Chinese dataset, created to assess the ability of LLMs to\n",
      "\n"
     ]
    },
    {
     "name": "stderr",
     "output_type": "stream",
     "text": [
      "Setting `pad_token_id` to `eos_token_id`:128001 for open-end generation.\n"
     ]
    },
    {
     "name": "stdout",
     "output_type": "stream",
     "text": [
      "CT-Eval (Chinese Text-to-Table Evaluation) is a newly proposed dataset for evaluating the performance of Large Language Models (LLMs) in the text-to-table task. It is designed to assess the ability of LLMs to understand and generate\n",
      "\n"
     ]
    },
    {
     "name": "stderr",
     "output_type": "stream",
     "text": [
      "Setting `pad_token_id` to `eos_token_id`:128001 for open-end generation.\n"
     ]
    },
    {
     "name": "stdout",
     "output_type": "stream",
     "text": [
      "CT-Eval is a dataset specifically designed to evaluate the performance of Large Language Models (LLMs) in the Text-to-Table task. It is a collection of Chinese text-to-table pairs, which are extracted from Baidu Baike, a Chinese\n",
      "\n"
     ]
    },
    {
     "name": "stderr",
     "output_type": "stream",
     "text": [
      "Setting `pad_token_id` to `eos_token_id`:128001 for open-end generation.\n"
     ]
    },
    {
     "name": "stdout",
     "output_type": "stream",
     "text": [
      "CT-Eval is a benchmark dataset for text-to-table tasks, specifically designed for evaluating the performance of Large Language Models (LLMs) in generating structured tables from unstructured text documents. The dataset was created to address the limitations of existing datasets, which\n",
      "\n"
     ]
    },
    {
     "name": "stderr",
     "output_type": "stream",
     "text": [
      "Setting `pad_token_id` to `eos_token_id`:128001 for open-end generation.\n"
     ]
    },
    {
     "name": "stdout",
     "output_type": "stream",
     "text": [
      "CT-Eval is a dataset specifically designed for the text-to-table task, which is a sub-task of information extraction (IE). It is a benchmark dataset for evaluating the performance of language models (LLMs) in generating structured tables from unstructured text\n",
      "\n",
      "CT-Eval is a benchmark dataset for the text-to-table task in natural language processing (NLP). It is a collection of Chinese text documents with corresponding tables, designed to evaluate the performance of language models in extracting structured information from unstructured text.\n",
      "\n",
      "\n",
      "\n",
      "CPU times: user 4min 10s, sys: 1min 29s, total: 5min 40s\n",
      "Wall time: 5min 40s\n"
     ]
    }
   ],
   "source": [
    "%%time\n",
    "\n",
    "for i in range(10):\n",
    "    outputs = model.generate(\n",
    "        **input_ids,\n",
    "        max_new_tokens=50,\n",
    "        temperature=1.0,\n",
    "    )\n",
    "    print(tokenizer.decode(outputs[0, input_ids['input_ids'].size(1):]))\n",
    "    print()"
   ]
  },
  {
   "cell_type": "code",
   "execution_count": 25,
   "id": "e98644c6",
   "metadata": {
    "execution": {
     "iopub.execute_input": "2024-05-22T11:36:00.037219Z",
     "iopub.status.busy": "2024-05-22T11:36:00.036873Z",
     "iopub.status.idle": "2024-05-22T11:36:37.797160Z",
     "shell.execute_reply": "2024-05-22T11:36:37.796155Z"
    },
    "papermill": {
     "duration": 37.806688,
     "end_time": "2024-05-22T11:36:37.821829",
     "exception": false,
     "start_time": "2024-05-22T11:36:00.015141",
     "status": "completed"
    },
    "tags": []
   },
   "outputs": [
    {
     "name": "stderr",
     "output_type": "stream",
     "text": [
      "Setting `pad_token_id` to `eos_token_id`:128001 for open-end generation.\n"
     ]
    },
    {
     "name": "stdout",
     "output_type": "stream",
     "text": [
      "GPU Usage Before Inference:\n",
      "[2903, 2949] MiB\n",
      "CT-Eval is a dataset designed for evaluating the performance of large language models (LLMs) in the text-to-table task. It is a Chinese dataset, and it is specifically designed to overcome the limitations of existing datasets used for text-to-table evaluation\n",
      "GPU Usage After Inference:\n",
      "[4037, 7417] MiB\n",
      "Difference in GPU Memory Usage:\n",
      "[1134, 4468] MiB\n"
     ]
    }
   ],
   "source": [
    "clear_cache()\n",
    "\n",
    "# GPU usage before inference\n",
    "memory_before = get_gpu_memory()\n",
    "print(\"GPU Usage Before Inference:\")\n",
    "print(memory_before, \"MiB\")\n",
    "\n",
    "# Inference code here\n",
    "outputs = model.generate(\n",
    "    **input_ids,\n",
    "    max_new_tokens=50,\n",
    "    temperature=1.0,\n",
    ")\n",
    "print(tokenizer.decode(outputs[0, input_ids['input_ids'].size(1):]))\n",
    "\n",
    "# GPU usage after inference\n",
    "memory_after = get_gpu_memory()\n",
    "print(\"GPU Usage After Inference:\")\n",
    "print(memory_after, \"MiB\")\n",
    "\n",
    "# Calculate the difference in memory usage\n",
    "memory_difference = [after - before for before, after in zip(memory_before, memory_after)]\n",
    "print(\"Difference in GPU Memory Usage:\")\n",
    "print(memory_difference, \"MiB\")"
   ]
  },
  {
   "cell_type": "code",
   "execution_count": null,
   "id": "bc1d436d",
   "metadata": {
    "papermill": {
     "duration": 0.021663,
     "end_time": "2024-05-22T11:36:37.866592",
     "exception": false,
     "start_time": "2024-05-22T11:36:37.844929",
     "status": "completed"
    },
    "tags": []
   },
   "outputs": [],
   "source": []
  }
 ],
 "metadata": {
  "kaggle": {
   "accelerator": "nvidiaTeslaT4",
   "dataSources": [],
   "dockerImageVersionId": 30699,
   "isGpuEnabled": true,
   "isInternetEnabled": true,
   "language": "python",
   "sourceType": "notebook"
  },
  "kernelspec": {
   "display_name": "Python 3",
   "language": "python",
   "name": "python3"
  },
  "language_info": {
   "codemirror_mode": {
    "name": "ipython",
    "version": 3
   },
   "file_extension": ".py",
   "mimetype": "text/x-python",
   "name": "python",
   "nbconvert_exporter": "python",
   "pygments_lexer": "ipython3",
   "version": "3.10.13"
  },
  "papermill": {
   "default_parameters": {},
   "duration": 1438.037681,
   "end_time": "2024-05-22T11:36:40.904504",
   "environment_variables": {},
   "exception": null,
   "input_path": "__notebook__.ipynb",
   "output_path": "__notebook__.ipynb",
   "parameters": {},
   "start_time": "2024-05-22T11:12:42.866823",
   "version": "2.5.0"
  },
  "widgets": {
   "application/vnd.jupyter.widget-state+json": {
    "state": {
     "0109311aeb7345958eb2ff0c3933cb26": {
      "model_module": "@jupyter-widgets/controls",
      "model_module_version": "1.5.0",
      "model_name": "DescriptionStyleModel",
      "state": {
       "_model_module": "@jupyter-widgets/controls",
       "_model_module_version": "1.5.0",
       "_model_name": "DescriptionStyleModel",
       "_view_count": null,
       "_view_module": "@jupyter-widgets/base",
       "_view_module_version": "1.2.0",
       "_view_name": "StyleView",
       "description_width": ""
      }
     },
     "028738875a1b470d82da09da3d16818b": {
      "model_module": "@jupyter-widgets/controls",
      "model_module_version": "1.5.0",
      "model_name": "ProgressStyleModel",
      "state": {
       "_model_module": "@jupyter-widgets/controls",
       "_model_module_version": "1.5.0",
       "_model_name": "ProgressStyleModel",
       "_view_count": null,
       "_view_module": "@jupyter-widgets/base",
       "_view_module_version": "1.2.0",
       "_view_name": "StyleView",
       "bar_color": null,
       "description_width": ""
      }
     },
     "03b939b57c8b46cc8af769b07be2770c": {
      "model_module": "@jupyter-widgets/controls",
      "model_module_version": "1.5.0",
      "model_name": "HBoxModel",
      "state": {
       "_dom_classes": [],
       "_model_module": "@jupyter-widgets/controls",
       "_model_module_version": "1.5.0",
       "_model_name": "HBoxModel",
       "_view_count": null,
       "_view_module": "@jupyter-widgets/controls",
       "_view_module_version": "1.5.0",
       "_view_name": "HBoxView",
       "box_style": "",
       "children": [
        "IPY_MODEL_3220eef30a114eb29dd321a5910986dd",
        "IPY_MODEL_ad8839fede4847088c102b2cb7932adf",
        "IPY_MODEL_213494d206d248f2aec3671e1e1ba0e8"
       ],
       "layout": "IPY_MODEL_addd02acc2ef468db492300bef9a8d5a"
      }
     },
     "04e9e2ad7e264e72a80e7b602ed78ea3": {
      "model_module": "@jupyter-widgets/base",
      "model_module_version": "1.2.0",
      "model_name": "LayoutModel",
      "state": {
       "_model_module": "@jupyter-widgets/base",
       "_model_module_version": "1.2.0",
       "_model_name": "LayoutModel",
       "_view_count": null,
       "_view_module": "@jupyter-widgets/base",
       "_view_module_version": "1.2.0",
       "_view_name": "LayoutView",
       "align_content": null,
       "align_items": null,
       "align_self": null,
       "border": null,
       "bottom": null,
       "display": null,
       "flex": null,
       "flex_flow": null,
       "grid_area": null,
       "grid_auto_columns": null,
       "grid_auto_flow": null,
       "grid_auto_rows": null,
       "grid_column": null,
       "grid_gap": null,
       "grid_row": null,
       "grid_template_areas": null,
       "grid_template_columns": null,
       "grid_template_rows": null,
       "height": null,
       "justify_content": null,
       "justify_items": null,
       "left": null,
       "margin": null,
       "max_height": null,
       "max_width": null,
       "min_height": null,
       "min_width": null,
       "object_fit": null,
       "object_position": null,
       "order": null,
       "overflow": null,
       "overflow_x": null,
       "overflow_y": null,
       "padding": null,
       "right": null,
       "top": null,
       "visibility": null,
       "width": null
      }
     },
     "05a42acd21ee4baba19e81d194e59400": {
      "model_module": "@jupyter-widgets/controls",
      "model_module_version": "1.5.0",
      "model_name": "DescriptionStyleModel",
      "state": {
       "_model_module": "@jupyter-widgets/controls",
       "_model_module_version": "1.5.0",
       "_model_name": "DescriptionStyleModel",
       "_view_count": null,
       "_view_module": "@jupyter-widgets/base",
       "_view_module_version": "1.2.0",
       "_view_name": "StyleView",
       "description_width": ""
      }
     },
     "086a3254cd744b628a59f0303dedef82": {
      "model_module": "@jupyter-widgets/controls",
      "model_module_version": "1.5.0",
      "model_name": "HBoxModel",
      "state": {
       "_dom_classes": [],
       "_model_module": "@jupyter-widgets/controls",
       "_model_module_version": "1.5.0",
       "_model_name": "HBoxModel",
       "_view_count": null,
       "_view_module": "@jupyter-widgets/controls",
       "_view_module_version": "1.5.0",
       "_view_name": "HBoxView",
       "box_style": "",
       "children": [
        "IPY_MODEL_166d01508fd74ec8a5c40f2eb2be22a7",
        "IPY_MODEL_310e7a64bc7e4f0a928afa9b7b718241",
        "IPY_MODEL_3e484f6781c146d4a4627aa7c2efd228"
       ],
       "layout": "IPY_MODEL_8f41e2f262e64814a495e89e18523835"
      }
     },
     "0a547a4a20e6410eac21e1dc1ffa2ca4": {
      "model_module": "@jupyter-widgets/controls",
      "model_module_version": "1.5.0",
      "model_name": "HTMLModel",
      "state": {
       "_dom_classes": [],
       "_model_module": "@jupyter-widgets/controls",
       "_model_module_version": "1.5.0",
       "_model_name": "HTMLModel",
       "_view_count": null,
       "_view_module": "@jupyter-widgets/controls",
       "_view_module_version": "1.5.0",
       "_view_name": "HTMLView",
       "description": "",
       "description_tooltip": null,
       "layout": "IPY_MODEL_9b02782351cd4d87a3be6aeeaa01114b",
       "placeholder": "​",
       "style": "IPY_MODEL_05a42acd21ee4baba19e81d194e59400",
       "value": " 23.9k/23.9k [00:00&lt;00:00, 2.00MB/s]"
      }
     },
     "0bc6ef67c9584514ad8ba6d4504375c5": {
      "model_module": "@jupyter-widgets/base",
      "model_module_version": "1.2.0",
      "model_name": "LayoutModel",
      "state": {
       "_model_module": "@jupyter-widgets/base",
       "_model_module_version": "1.2.0",
       "_model_name": "LayoutModel",
       "_view_count": null,
       "_view_module": "@jupyter-widgets/base",
       "_view_module_version": "1.2.0",
       "_view_name": "LayoutView",
       "align_content": null,
       "align_items": null,
       "align_self": null,
       "border": null,
       "bottom": null,
       "display": null,
       "flex": null,
       "flex_flow": null,
       "grid_area": null,
       "grid_auto_columns": null,
       "grid_auto_flow": null,
       "grid_auto_rows": null,
       "grid_column": null,
       "grid_gap": null,
       "grid_row": null,
       "grid_template_areas": null,
       "grid_template_columns": null,
       "grid_template_rows": null,
       "height": null,
       "justify_content": null,
       "justify_items": null,
       "left": null,
       "margin": null,
       "max_height": null,
       "max_width": null,
       "min_height": null,
       "min_width": null,
       "object_fit": null,
       "object_position": null,
       "order": null,
       "overflow": null,
       "overflow_x": null,
       "overflow_y": null,
       "padding": null,
       "right": null,
       "top": null,
       "visibility": null,
       "width": null
      }
     },
     "0edf3d068f754a90a760d85b6b85b683": {
      "model_module": "@jupyter-widgets/controls",
      "model_module_version": "1.5.0",
      "model_name": "FloatProgressModel",
      "state": {
       "_dom_classes": [],
       "_model_module": "@jupyter-widgets/controls",
       "_model_module_version": "1.5.0",
       "_model_name": "FloatProgressModel",
       "_view_count": null,
       "_view_module": "@jupyter-widgets/controls",
       "_view_module_version": "1.5.0",
       "_view_name": "ProgressView",
       "bar_style": "success",
       "description": "",
       "description_tooltip": null,
       "layout": "IPY_MODEL_b6647222c1ff488a900a6c7c06d76707",
       "max": 50977.0,
       "min": 0.0,
       "orientation": "horizontal",
       "style": "IPY_MODEL_d6100ecf5ac14ff19a24b2e6cd1e243c",
       "value": 50977.0
      }
     },
     "1111e1a004dc4a419f96e145499f84c1": {
      "model_module": "@jupyter-widgets/controls",
      "model_module_version": "1.5.0",
      "model_name": "FloatProgressModel",
      "state": {
       "_dom_classes": [],
       "_model_module": "@jupyter-widgets/controls",
       "_model_module_version": "1.5.0",
       "_model_name": "FloatProgressModel",
       "_view_count": null,
       "_view_module": "@jupyter-widgets/controls",
       "_view_module_version": "1.5.0",
       "_view_name": "ProgressView",
       "bar_style": "success",
       "description": "",
       "description_tooltip": null,
       "layout": "IPY_MODEL_edc6cee66b9c4d38ad641bdc8a90dceb",
       "max": 4.0,
       "min": 0.0,
       "orientation": "horizontal",
       "style": "IPY_MODEL_41617f2c1cb2404ab295f4f508993320",
       "value": 4.0
      }
     },
     "13d298c91e1f408fa6f12213cec9f28c": {
      "model_module": "@jupyter-widgets/controls",
      "model_module_version": "1.5.0",
      "model_name": "DescriptionStyleModel",
      "state": {
       "_model_module": "@jupyter-widgets/controls",
       "_model_module_version": "1.5.0",
       "_model_name": "DescriptionStyleModel",
       "_view_count": null,
       "_view_module": "@jupyter-widgets/base",
       "_view_module_version": "1.2.0",
       "_view_name": "StyleView",
       "description_width": ""
      }
     },
     "15e8379c3a604f1c86b8e631df950565": {
      "model_module": "@jupyter-widgets/base",
      "model_module_version": "1.2.0",
      "model_name": "LayoutModel",
      "state": {
       "_model_module": "@jupyter-widgets/base",
       "_model_module_version": "1.2.0",
       "_model_name": "LayoutModel",
       "_view_count": null,
       "_view_module": "@jupyter-widgets/base",
       "_view_module_version": "1.2.0",
       "_view_name": "LayoutView",
       "align_content": null,
       "align_items": null,
       "align_self": null,
       "border": null,
       "bottom": null,
       "display": null,
       "flex": null,
       "flex_flow": null,
       "grid_area": null,
       "grid_auto_columns": null,
       "grid_auto_flow": null,
       "grid_auto_rows": null,
       "grid_column": null,
       "grid_gap": null,
       "grid_row": null,
       "grid_template_areas": null,
       "grid_template_columns": null,
       "grid_template_rows": null,
       "height": null,
       "justify_content": null,
       "justify_items": null,
       "left": null,
       "margin": null,
       "max_height": null,
       "max_width": null,
       "min_height": null,
       "min_width": null,
       "object_fit": null,
       "object_position": null,
       "order": null,
       "overflow": null,
       "overflow_x": null,
       "overflow_y": null,
       "padding": null,
       "right": null,
       "top": null,
       "visibility": null,
       "width": null
      }
     },
     "166d01508fd74ec8a5c40f2eb2be22a7": {
      "model_module": "@jupyter-widgets/controls",
      "model_module_version": "1.5.0",
      "model_name": "HTMLModel",
      "state": {
       "_dom_classes": [],
       "_model_module": "@jupyter-widgets/controls",
       "_model_module_version": "1.5.0",
       "_model_name": "HTMLModel",
       "_view_count": null,
       "_view_module": "@jupyter-widgets/controls",
       "_view_module_version": "1.5.0",
       "_view_name": "HTMLView",
       "description": "",
       "description_tooltip": null,
       "layout": "IPY_MODEL_4cced04d7f03419a87b4b4a407d0acf4",
       "placeholder": "​",
       "style": "IPY_MODEL_1f2a82c291c746e39460af0d7c02cb67",
       "value": "model-00001-of-00004.safetensors: 100%"
      }
     },
     "17a3cc244f334709bb4939a1eeae913e": {
      "model_module": "@jupyter-widgets/controls",
      "model_module_version": "1.5.0",
      "model_name": "DescriptionStyleModel",
      "state": {
       "_model_module": "@jupyter-widgets/controls",
       "_model_module_version": "1.5.0",
       "_model_name": "DescriptionStyleModel",
       "_view_count": null,
       "_view_module": "@jupyter-widgets/base",
       "_view_module_version": "1.2.0",
       "_view_name": "StyleView",
       "description_width": ""
      }
     },
     "1a3d4791976d45b8a0ed6daf966f1b58": {
      "model_module": "@jupyter-widgets/controls",
      "model_module_version": "1.5.0",
      "model_name": "DescriptionStyleModel",
      "state": {
       "_model_module": "@jupyter-widgets/controls",
       "_model_module_version": "1.5.0",
       "_model_name": "DescriptionStyleModel",
       "_view_count": null,
       "_view_module": "@jupyter-widgets/base",
       "_view_module_version": "1.2.0",
       "_view_name": "StyleView",
       "description_width": ""
      }
     },
     "1e62ff0a884e4eb4bbf7584820e93b03": {
      "model_module": "@jupyter-widgets/controls",
      "model_module_version": "1.5.0",
      "model_name": "FloatProgressModel",
      "state": {
       "_dom_classes": [],
       "_model_module": "@jupyter-widgets/controls",
       "_model_module_version": "1.5.0",
       "_model_name": "FloatProgressModel",
       "_view_count": null,
       "_view_module": "@jupyter-widgets/controls",
       "_view_module_version": "1.5.0",
       "_view_name": "ProgressView",
       "bar_style": "success",
       "description": "",
       "description_tooltip": null,
       "layout": "IPY_MODEL_04e9e2ad7e264e72a80e7b602ed78ea3",
       "max": 73.0,
       "min": 0.0,
       "orientation": "horizontal",
       "style": "IPY_MODEL_4d30ece148d44283856491e117b4480f",
       "value": 73.0
      }
     },
     "1f2a82c291c746e39460af0d7c02cb67": {
      "model_module": "@jupyter-widgets/controls",
      "model_module_version": "1.5.0",
      "model_name": "DescriptionStyleModel",
      "state": {
       "_model_module": "@jupyter-widgets/controls",
       "_model_module_version": "1.5.0",
       "_model_name": "DescriptionStyleModel",
       "_view_count": null,
       "_view_module": "@jupyter-widgets/base",
       "_view_module_version": "1.2.0",
       "_view_name": "StyleView",
       "description_width": ""
      }
     },
     "1f7282ff0b3744cebef6c5fa8e161485": {
      "model_module": "@jupyter-widgets/base",
      "model_module_version": "1.2.0",
      "model_name": "LayoutModel",
      "state": {
       "_model_module": "@jupyter-widgets/base",
       "_model_module_version": "1.2.0",
       "_model_name": "LayoutModel",
       "_view_count": null,
       "_view_module": "@jupyter-widgets/base",
       "_view_module_version": "1.2.0",
       "_view_name": "LayoutView",
       "align_content": null,
       "align_items": null,
       "align_self": null,
       "border": null,
       "bottom": null,
       "display": null,
       "flex": null,
       "flex_flow": null,
       "grid_area": null,
       "grid_auto_columns": null,
       "grid_auto_flow": null,
       "grid_auto_rows": null,
       "grid_column": null,
       "grid_gap": null,
       "grid_row": null,
       "grid_template_areas": null,
       "grid_template_columns": null,
       "grid_template_rows": null,
       "height": null,
       "justify_content": null,
       "justify_items": null,
       "left": null,
       "margin": null,
       "max_height": null,
       "max_width": null,
       "min_height": null,
       "min_width": null,
       "object_fit": null,
       "object_position": null,
       "order": null,
       "overflow": null,
       "overflow_x": null,
       "overflow_y": null,
       "padding": null,
       "right": null,
       "top": null,
       "visibility": null,
       "width": null
      }
     },
     "213494d206d248f2aec3671e1e1ba0e8": {
      "model_module": "@jupyter-widgets/controls",
      "model_module_version": "1.5.0",
      "model_name": "HTMLModel",
      "state": {
       "_dom_classes": [],
       "_model_module": "@jupyter-widgets/controls",
       "_model_module_version": "1.5.0",
       "_model_name": "HTMLModel",
       "_view_count": null,
       "_view_module": "@jupyter-widgets/controls",
       "_view_module_version": "1.5.0",
       "_view_name": "HTMLView",
       "description": "",
       "description_tooltip": null,
       "layout": "IPY_MODEL_9413bea0e7ec4722abf436786d52a0d8",
       "placeholder": "​",
       "style": "IPY_MODEL_39784dc95ec94602ba92c16e7249e578",
       "value": " 5.00G/5.00G [00:26&lt;00:00, 201MB/s]"
      }
     },
     "21901ded611f46349af56affc2682ce0": {
      "model_module": "@jupyter-widgets/controls",
      "model_module_version": "1.5.0",
      "model_name": "HTMLModel",
      "state": {
       "_dom_classes": [],
       "_model_module": "@jupyter-widgets/controls",
       "_model_module_version": "1.5.0",
       "_model_name": "HTMLModel",
       "_view_count": null,
       "_view_module": "@jupyter-widgets/controls",
       "_view_module_version": "1.5.0",
       "_view_name": "HTMLView",
       "description": "",
       "description_tooltip": null,
       "layout": "IPY_MODEL_c7c9f97da999401bbffdb567b38d7133",
       "placeholder": "​",
       "style": "IPY_MODEL_4a630e7d999c45ff8a8a806b8bf90eb8",
       "value": " 4/4 [01:13&lt;00:00, 14.98s/it]"
      }
     },
     "22ba77c46ce049babb0983bfa15f084c": {
      "model_module": "@jupyter-widgets/controls",
      "model_module_version": "1.5.0",
      "model_name": "DescriptionStyleModel",
      "state": {
       "_model_module": "@jupyter-widgets/controls",
       "_model_module_version": "1.5.0",
       "_model_name": "DescriptionStyleModel",
       "_view_count": null,
       "_view_module": "@jupyter-widgets/base",
       "_view_module_version": "1.2.0",
       "_view_name": "StyleView",
       "description_width": ""
      }
     },
     "24fe49a05aa64270ab00aadcfbc6b5f0": {
      "model_module": "@jupyter-widgets/base",
      "model_module_version": "1.2.0",
      "model_name": "LayoutModel",
      "state": {
       "_model_module": "@jupyter-widgets/base",
       "_model_module_version": "1.2.0",
       "_model_name": "LayoutModel",
       "_view_count": null,
       "_view_module": "@jupyter-widgets/base",
       "_view_module_version": "1.2.0",
       "_view_name": "LayoutView",
       "align_content": null,
       "align_items": null,
       "align_self": null,
       "border": null,
       "bottom": null,
       "display": null,
       "flex": null,
       "flex_flow": null,
       "grid_area": null,
       "grid_auto_columns": null,
       "grid_auto_flow": null,
       "grid_auto_rows": null,
       "grid_column": null,
       "grid_gap": null,
       "grid_row": null,
       "grid_template_areas": null,
       "grid_template_columns": null,
       "grid_template_rows": null,
       "height": null,
       "justify_content": null,
       "justify_items": null,
       "left": null,
       "margin": null,
       "max_height": null,
       "max_width": null,
       "min_height": null,
       "min_width": null,
       "object_fit": null,
       "object_position": null,
       "order": null,
       "overflow": null,
       "overflow_x": null,
       "overflow_y": null,
       "padding": null,
       "right": null,
       "top": null,
       "visibility": null,
       "width": null
      }
     },
     "250de3be457340bd96c4c0234076712d": {
      "model_module": "@jupyter-widgets/base",
      "model_module_version": "1.2.0",
      "model_name": "LayoutModel",
      "state": {
       "_model_module": "@jupyter-widgets/base",
       "_model_module_version": "1.2.0",
       "_model_name": "LayoutModel",
       "_view_count": null,
       "_view_module": "@jupyter-widgets/base",
       "_view_module_version": "1.2.0",
       "_view_name": "LayoutView",
       "align_content": null,
       "align_items": null,
       "align_self": null,
       "border": null,
       "bottom": null,
       "display": null,
       "flex": null,
       "flex_flow": null,
       "grid_area": null,
       "grid_auto_columns": null,
       "grid_auto_flow": null,
       "grid_auto_rows": null,
       "grid_column": null,
       "grid_gap": null,
       "grid_row": null,
       "grid_template_areas": null,
       "grid_template_columns": null,
       "grid_template_rows": null,
       "height": null,
       "justify_content": null,
       "justify_items": null,
       "left": null,
       "margin": null,
       "max_height": null,
       "max_width": null,
       "min_height": null,
       "min_width": null,
       "object_fit": null,
       "object_position": null,
       "order": null,
       "overflow": null,
       "overflow_x": null,
       "overflow_y": null,
       "padding": null,
       "right": null,
       "top": null,
       "visibility": null,
       "width": null
      }
     },
     "271bfa247ad240f0b32c3eee1e8c911a": {
      "model_module": "@jupyter-widgets/controls",
      "model_module_version": "1.5.0",
      "model_name": "ProgressStyleModel",
      "state": {
       "_model_module": "@jupyter-widgets/controls",
       "_model_module_version": "1.5.0",
       "_model_name": "ProgressStyleModel",
       "_view_count": null,
       "_view_module": "@jupyter-widgets/base",
       "_view_module_version": "1.2.0",
       "_view_name": "StyleView",
       "bar_color": null,
       "description_width": ""
      }
     },
     "2912a49b2ca64b0d95986f100a16829b": {
      "model_module": "@jupyter-widgets/controls",
      "model_module_version": "1.5.0",
      "model_name": "HBoxModel",
      "state": {
       "_dom_classes": [],
       "_model_module": "@jupyter-widgets/controls",
       "_model_module_version": "1.5.0",
       "_model_name": "HBoxModel",
       "_view_count": null,
       "_view_module": "@jupyter-widgets/controls",
       "_view_module_version": "1.5.0",
       "_view_name": "HBoxView",
       "box_style": "",
       "children": [
        "IPY_MODEL_b1e0551cac8a4377a80ba8be0e9cf92e",
        "IPY_MODEL_8ab1f8385f03460fb666ac2cade2a5a1",
        "IPY_MODEL_2d0de2caf83f4e6e94c675c7c045e1d9"
       ],
       "layout": "IPY_MODEL_e1194bd0259943a9b1a7de24c5209d77"
      }
     },
     "2aa50ee10a514bc69011c082c70f0d48": {
      "model_module": "@jupyter-widgets/controls",
      "model_module_version": "1.5.0",
      "model_name": "DescriptionStyleModel",
      "state": {
       "_model_module": "@jupyter-widgets/controls",
       "_model_module_version": "1.5.0",
       "_model_name": "DescriptionStyleModel",
       "_view_count": null,
       "_view_module": "@jupyter-widgets/base",
       "_view_module_version": "1.2.0",
       "_view_name": "StyleView",
       "description_width": ""
      }
     },
     "2ab1960c29ca4a938900921da2ccd2f5": {
      "model_module": "@jupyter-widgets/controls",
      "model_module_version": "1.5.0",
      "model_name": "DescriptionStyleModel",
      "state": {
       "_model_module": "@jupyter-widgets/controls",
       "_model_module_version": "1.5.0",
       "_model_name": "DescriptionStyleModel",
       "_view_count": null,
       "_view_module": "@jupyter-widgets/base",
       "_view_module_version": "1.2.0",
       "_view_name": "StyleView",
       "description_width": ""
      }
     },
     "2d0de2caf83f4e6e94c675c7c045e1d9": {
      "model_module": "@jupyter-widgets/controls",
      "model_module_version": "1.5.0",
      "model_name": "HTMLModel",
      "state": {
       "_dom_classes": [],
       "_model_module": "@jupyter-widgets/controls",
       "_model_module_version": "1.5.0",
       "_model_name": "HTMLModel",
       "_view_count": null,
       "_view_module": "@jupyter-widgets/controls",
       "_view_module_version": "1.5.0",
       "_view_name": "HTMLView",
       "description": "",
       "description_tooltip": null,
       "layout": "IPY_MODEL_ef3570057cf24f7c8a8ceccef245ef1e",
       "placeholder": "​",
       "style": "IPY_MODEL_85642cf10572417e8491b37eddab9d5a",
       "value": " 4.92G/4.92G [00:28&lt;00:00, 205MB/s]"
      }
     },
     "2d87e58acd234bf098b1c18c0705402e": {
      "model_module": "@jupyter-widgets/base",
      "model_module_version": "1.2.0",
      "model_name": "LayoutModel",
      "state": {
       "_model_module": "@jupyter-widgets/base",
       "_model_module_version": "1.2.0",
       "_model_name": "LayoutModel",
       "_view_count": null,
       "_view_module": "@jupyter-widgets/base",
       "_view_module_version": "1.2.0",
       "_view_name": "LayoutView",
       "align_content": null,
       "align_items": null,
       "align_self": null,
       "border": null,
       "bottom": null,
       "display": null,
       "flex": null,
       "flex_flow": null,
       "grid_area": null,
       "grid_auto_columns": null,
       "grid_auto_flow": null,
       "grid_auto_rows": null,
       "grid_column": null,
       "grid_gap": null,
       "grid_row": null,
       "grid_template_areas": null,
       "grid_template_columns": null,
       "grid_template_rows": null,
       "height": null,
       "justify_content": null,
       "justify_items": null,
       "left": null,
       "margin": null,
       "max_height": null,
       "max_width": null,
       "min_height": null,
       "min_width": null,
       "object_fit": null,
       "object_position": null,
       "order": null,
       "overflow": null,
       "overflow_x": null,
       "overflow_y": null,
       "padding": null,
       "right": null,
       "top": null,
       "visibility": null,
       "width": null
      }
     },
     "2df01ffaf374437e8f6626f4e62fa877": {
      "model_module": "@jupyter-widgets/base",
      "model_module_version": "1.2.0",
      "model_name": "LayoutModel",
      "state": {
       "_model_module": "@jupyter-widgets/base",
       "_model_module_version": "1.2.0",
       "_model_name": "LayoutModel",
       "_view_count": null,
       "_view_module": "@jupyter-widgets/base",
       "_view_module_version": "1.2.0",
       "_view_name": "LayoutView",
       "align_content": null,
       "align_items": null,
       "align_self": null,
       "border": null,
       "bottom": null,
       "display": null,
       "flex": null,
       "flex_flow": null,
       "grid_area": null,
       "grid_auto_columns": null,
       "grid_auto_flow": null,
       "grid_auto_rows": null,
       "grid_column": null,
       "grid_gap": null,
       "grid_row": null,
       "grid_template_areas": null,
       "grid_template_columns": null,
       "grid_template_rows": null,
       "height": null,
       "justify_content": null,
       "justify_items": null,
       "left": null,
       "margin": null,
       "max_height": null,
       "max_width": null,
       "min_height": null,
       "min_width": null,
       "object_fit": null,
       "object_position": null,
       "order": null,
       "overflow": null,
       "overflow_x": null,
       "overflow_y": null,
       "padding": null,
       "right": null,
       "top": null,
       "visibility": null,
       "width": null
      }
     },
     "310e7a64bc7e4f0a928afa9b7b718241": {
      "model_module": "@jupyter-widgets/controls",
      "model_module_version": "1.5.0",
      "model_name": "FloatProgressModel",
      "state": {
       "_dom_classes": [],
       "_model_module": "@jupyter-widgets/controls",
       "_model_module_version": "1.5.0",
       "_model_name": "FloatProgressModel",
       "_view_count": null,
       "_view_module": "@jupyter-widgets/controls",
       "_view_module_version": "1.5.0",
       "_view_name": "ProgressView",
       "bar_style": "success",
       "description": "",
       "description_tooltip": null,
       "layout": "IPY_MODEL_61ea87ff074441c1b0003ec48b6a568e",
       "max": 4976698672.0,
       "min": 0.0,
       "orientation": "horizontal",
       "style": "IPY_MODEL_271bfa247ad240f0b32c3eee1e8c911a",
       "value": 4976698672.0
      }
     },
     "3220eef30a114eb29dd321a5910986dd": {
      "model_module": "@jupyter-widgets/controls",
      "model_module_version": "1.5.0",
      "model_name": "HTMLModel",
      "state": {
       "_dom_classes": [],
       "_model_module": "@jupyter-widgets/controls",
       "_model_module_version": "1.5.0",
       "_model_name": "HTMLModel",
       "_view_count": null,
       "_view_module": "@jupyter-widgets/controls",
       "_view_module_version": "1.5.0",
       "_view_name": "HTMLView",
       "description": "",
       "description_tooltip": null,
       "layout": "IPY_MODEL_2df01ffaf374437e8f6626f4e62fa877",
       "placeholder": "​",
       "style": "IPY_MODEL_59654944ae20497e983952bf929b478e",
       "value": "model-00002-of-00004.safetensors: 100%"
      }
     },
     "33fa774b6a374eaa9a03ed1aa8ba9fa7": {
      "model_module": "@jupyter-widgets/base",
      "model_module_version": "1.2.0",
      "model_name": "LayoutModel",
      "state": {
       "_model_module": "@jupyter-widgets/base",
       "_model_module_version": "1.2.0",
       "_model_name": "LayoutModel",
       "_view_count": null,
       "_view_module": "@jupyter-widgets/base",
       "_view_module_version": "1.2.0",
       "_view_name": "LayoutView",
       "align_content": null,
       "align_items": null,
       "align_self": null,
       "border": null,
       "bottom": null,
       "display": null,
       "flex": null,
       "flex_flow": null,
       "grid_area": null,
       "grid_auto_columns": null,
       "grid_auto_flow": null,
       "grid_auto_rows": null,
       "grid_column": null,
       "grid_gap": null,
       "grid_row": null,
       "grid_template_areas": null,
       "grid_template_columns": null,
       "grid_template_rows": null,
       "height": null,
       "justify_content": null,
       "justify_items": null,
       "left": null,
       "margin": null,
       "max_height": null,
       "max_width": null,
       "min_height": null,
       "min_width": null,
       "object_fit": null,
       "object_position": null,
       "order": null,
       "overflow": null,
       "overflow_x": null,
       "overflow_y": null,
       "padding": null,
       "right": null,
       "top": null,
       "visibility": null,
       "width": null
      }
     },
     "3623a59b0a7b40cc960a688c97cb4494": {
      "model_module": "@jupyter-widgets/controls",
      "model_module_version": "1.5.0",
      "model_name": "DescriptionStyleModel",
      "state": {
       "_model_module": "@jupyter-widgets/controls",
       "_model_module_version": "1.5.0",
       "_model_name": "DescriptionStyleModel",
       "_view_count": null,
       "_view_module": "@jupyter-widgets/base",
       "_view_module_version": "1.2.0",
       "_view_name": "StyleView",
       "description_width": ""
      }
     },
     "366370b77fc94f34a11aad7d859c996d": {
      "model_module": "@jupyter-widgets/base",
      "model_module_version": "1.2.0",
      "model_name": "LayoutModel",
      "state": {
       "_model_module": "@jupyter-widgets/base",
       "_model_module_version": "1.2.0",
       "_model_name": "LayoutModel",
       "_view_count": null,
       "_view_module": "@jupyter-widgets/base",
       "_view_module_version": "1.2.0",
       "_view_name": "LayoutView",
       "align_content": null,
       "align_items": null,
       "align_self": null,
       "border": null,
       "bottom": null,
       "display": null,
       "flex": null,
       "flex_flow": null,
       "grid_area": null,
       "grid_auto_columns": null,
       "grid_auto_flow": null,
       "grid_auto_rows": null,
       "grid_column": null,
       "grid_gap": null,
       "grid_row": null,
       "grid_template_areas": null,
       "grid_template_columns": null,
       "grid_template_rows": null,
       "height": null,
       "justify_content": null,
       "justify_items": null,
       "left": null,
       "margin": null,
       "max_height": null,
       "max_width": null,
       "min_height": null,
       "min_width": null,
       "object_fit": null,
       "object_position": null,
       "order": null,
       "overflow": null,
       "overflow_x": null,
       "overflow_y": null,
       "padding": null,
       "right": null,
       "top": null,
       "visibility": null,
       "width": null
      }
     },
     "36e1c737e140462683e0cad3dab60c44": {
      "model_module": "@jupyter-widgets/base",
      "model_module_version": "1.2.0",
      "model_name": "LayoutModel",
      "state": {
       "_model_module": "@jupyter-widgets/base",
       "_model_module_version": "1.2.0",
       "_model_name": "LayoutModel",
       "_view_count": null,
       "_view_module": "@jupyter-widgets/base",
       "_view_module_version": "1.2.0",
       "_view_name": "LayoutView",
       "align_content": null,
       "align_items": null,
       "align_self": null,
       "border": null,
       "bottom": null,
       "display": null,
       "flex": null,
       "flex_flow": null,
       "grid_area": null,
       "grid_auto_columns": null,
       "grid_auto_flow": null,
       "grid_auto_rows": null,
       "grid_column": null,
       "grid_gap": null,
       "grid_row": null,
       "grid_template_areas": null,
       "grid_template_columns": null,
       "grid_template_rows": null,
       "height": null,
       "justify_content": null,
       "justify_items": null,
       "left": null,
       "margin": null,
       "max_height": null,
       "max_width": null,
       "min_height": null,
       "min_width": null,
       "object_fit": null,
       "object_position": null,
       "order": null,
       "overflow": null,
       "overflow_x": null,
       "overflow_y": null,
       "padding": null,
       "right": null,
       "top": null,
       "visibility": null,
       "width": null
      }
     },
     "38a1bca1852f4e538af707c5b3e7d071": {
      "model_module": "@jupyter-widgets/base",
      "model_module_version": "1.2.0",
      "model_name": "LayoutModel",
      "state": {
       "_model_module": "@jupyter-widgets/base",
       "_model_module_version": "1.2.0",
       "_model_name": "LayoutModel",
       "_view_count": null,
       "_view_module": "@jupyter-widgets/base",
       "_view_module_version": "1.2.0",
       "_view_name": "LayoutView",
       "align_content": null,
       "align_items": null,
       "align_self": null,
       "border": null,
       "bottom": null,
       "display": null,
       "flex": null,
       "flex_flow": null,
       "grid_area": null,
       "grid_auto_columns": null,
       "grid_auto_flow": null,
       "grid_auto_rows": null,
       "grid_column": null,
       "grid_gap": null,
       "grid_row": null,
       "grid_template_areas": null,
       "grid_template_columns": null,
       "grid_template_rows": null,
       "height": null,
       "justify_content": null,
       "justify_items": null,
       "left": null,
       "margin": null,
       "max_height": null,
       "max_width": null,
       "min_height": null,
       "min_width": null,
       "object_fit": null,
       "object_position": null,
       "order": null,
       "overflow": null,
       "overflow_x": null,
       "overflow_y": null,
       "padding": null,
       "right": null,
       "top": null,
       "visibility": null,
       "width": null
      }
     },
     "39784dc95ec94602ba92c16e7249e578": {
      "model_module": "@jupyter-widgets/controls",
      "model_module_version": "1.5.0",
      "model_name": "DescriptionStyleModel",
      "state": {
       "_model_module": "@jupyter-widgets/controls",
       "_model_module_version": "1.5.0",
       "_model_name": "DescriptionStyleModel",
       "_view_count": null,
       "_view_module": "@jupyter-widgets/base",
       "_view_module_version": "1.2.0",
       "_view_name": "StyleView",
       "description_width": ""
      }
     },
     "39b474d95ff74871b0a54a44b8b72003": {
      "model_module": "@jupyter-widgets/base",
      "model_module_version": "1.2.0",
      "model_name": "LayoutModel",
      "state": {
       "_model_module": "@jupyter-widgets/base",
       "_model_module_version": "1.2.0",
       "_model_name": "LayoutModel",
       "_view_count": null,
       "_view_module": "@jupyter-widgets/base",
       "_view_module_version": "1.2.0",
       "_view_name": "LayoutView",
       "align_content": null,
       "align_items": null,
       "align_self": null,
       "border": null,
       "bottom": null,
       "display": null,
       "flex": null,
       "flex_flow": null,
       "grid_area": null,
       "grid_auto_columns": null,
       "grid_auto_flow": null,
       "grid_auto_rows": null,
       "grid_column": null,
       "grid_gap": null,
       "grid_row": null,
       "grid_template_areas": null,
       "grid_template_columns": null,
       "grid_template_rows": null,
       "height": null,
       "justify_content": null,
       "justify_items": null,
       "left": null,
       "margin": null,
       "max_height": null,
       "max_width": null,
       "min_height": null,
       "min_width": null,
       "object_fit": null,
       "object_position": null,
       "order": null,
       "overflow": null,
       "overflow_x": null,
       "overflow_y": null,
       "padding": null,
       "right": null,
       "top": null,
       "visibility": null,
       "width": null
      }
     },
     "3c59899a3c4949cc8c7139ba1954a67b": {
      "model_module": "@jupyter-widgets/base",
      "model_module_version": "1.2.0",
      "model_name": "LayoutModel",
      "state": {
       "_model_module": "@jupyter-widgets/base",
       "_model_module_version": "1.2.0",
       "_model_name": "LayoutModel",
       "_view_count": null,
       "_view_module": "@jupyter-widgets/base",
       "_view_module_version": "1.2.0",
       "_view_name": "LayoutView",
       "align_content": null,
       "align_items": null,
       "align_self": null,
       "border": null,
       "bottom": null,
       "display": null,
       "flex": null,
       "flex_flow": null,
       "grid_area": null,
       "grid_auto_columns": null,
       "grid_auto_flow": null,
       "grid_auto_rows": null,
       "grid_column": null,
       "grid_gap": null,
       "grid_row": null,
       "grid_template_areas": null,
       "grid_template_columns": null,
       "grid_template_rows": null,
       "height": null,
       "justify_content": null,
       "justify_items": null,
       "left": null,
       "margin": null,
       "max_height": null,
       "max_width": null,
       "min_height": null,
       "min_width": null,
       "object_fit": null,
       "object_position": null,
       "order": null,
       "overflow": null,
       "overflow_x": null,
       "overflow_y": null,
       "padding": null,
       "right": null,
       "top": null,
       "visibility": null,
       "width": null
      }
     },
     "3e484f6781c146d4a4627aa7c2efd228": {
      "model_module": "@jupyter-widgets/controls",
      "model_module_version": "1.5.0",
      "model_name": "HTMLModel",
      "state": {
       "_dom_classes": [],
       "_model_module": "@jupyter-widgets/controls",
       "_model_module_version": "1.5.0",
       "_model_name": "HTMLModel",
       "_view_count": null,
       "_view_module": "@jupyter-widgets/controls",
       "_view_module_version": "1.5.0",
       "_view_name": "HTMLView",
       "description": "",
       "description_tooltip": null,
       "layout": "IPY_MODEL_1f7282ff0b3744cebef6c5fa8e161485",
       "placeholder": "​",
       "style": "IPY_MODEL_71ee315b32484e05bf8511c4a5dfffdc",
       "value": " 4.98G/4.98G [00:28&lt;00:00, 204MB/s]"
      }
     },
     "3f51a14d34954fe28887b91f9a58fa2e": {
      "model_module": "@jupyter-widgets/controls",
      "model_module_version": "1.5.0",
      "model_name": "FloatProgressModel",
      "state": {
       "_dom_classes": [],
       "_model_module": "@jupyter-widgets/controls",
       "_model_module_version": "1.5.0",
       "_model_name": "FloatProgressModel",
       "_view_count": null,
       "_view_module": "@jupyter-widgets/controls",
       "_view_module_version": "1.5.0",
       "_view_name": "ProgressView",
       "bar_style": "success",
       "description": "",
       "description_tooltip": null,
       "layout": "IPY_MODEL_42a4f16356c94d708aefb03ff6be020e",
       "max": 187.0,
       "min": 0.0,
       "orientation": "horizontal",
       "style": "IPY_MODEL_8431847a05794f77a6f2cbea9bf2819c",
       "value": 187.0
      }
     },
     "40073e1dd74b40898fbe0ed5bb50fecd": {
      "model_module": "@jupyter-widgets/controls",
      "model_module_version": "1.5.0",
      "model_name": "HTMLModel",
      "state": {
       "_dom_classes": [],
       "_model_module": "@jupyter-widgets/controls",
       "_model_module_version": "1.5.0",
       "_model_name": "HTMLModel",
       "_view_count": null,
       "_view_module": "@jupyter-widgets/controls",
       "_view_module_version": "1.5.0",
       "_view_name": "HTMLView",
       "description": "",
       "description_tooltip": null,
       "layout": "IPY_MODEL_6e439e7c832b41e0a5cfcf8feb414009",
       "placeholder": "​",
       "style": "IPY_MODEL_c664ef7d30d143ab8ea759e514af184e",
       "value": " 4/4 [01:30&lt;00:00, 19.41s/it]"
      }
     },
     "41617f2c1cb2404ab295f4f508993320": {
      "model_module": "@jupyter-widgets/controls",
      "model_module_version": "1.5.0",
      "model_name": "ProgressStyleModel",
      "state": {
       "_model_module": "@jupyter-widgets/controls",
       "_model_module_version": "1.5.0",
       "_model_name": "ProgressStyleModel",
       "_view_count": null,
       "_view_module": "@jupyter-widgets/base",
       "_view_module_version": "1.2.0",
       "_view_name": "StyleView",
       "bar_color": null,
       "description_width": ""
      }
     },
     "426b28d1112247288da6f444d4dc0fc0": {
      "model_module": "@jupyter-widgets/controls",
      "model_module_version": "1.5.0",
      "model_name": "HTMLModel",
      "state": {
       "_dom_classes": [],
       "_model_module": "@jupyter-widgets/controls",
       "_model_module_version": "1.5.0",
       "_model_name": "HTMLModel",
       "_view_count": null,
       "_view_module": "@jupyter-widgets/controls",
       "_view_module_version": "1.5.0",
       "_view_name": "HTMLView",
       "description": "",
       "description_tooltip": null,
       "layout": "IPY_MODEL_5f72ce838d0841318546f848e3ca3082",
       "placeholder": "​",
       "style": "IPY_MODEL_ea36c631534e41408f2edc0f3dd02429",
       "value": " 73.0/73.0 [00:00&lt;00:00, 6.20kB/s]"
      }
     },
     "42a4f16356c94d708aefb03ff6be020e": {
      "model_module": "@jupyter-widgets/base",
      "model_module_version": "1.2.0",
      "model_name": "LayoutModel",
      "state": {
       "_model_module": "@jupyter-widgets/base",
       "_model_module_version": "1.2.0",
       "_model_name": "LayoutModel",
       "_view_count": null,
       "_view_module": "@jupyter-widgets/base",
       "_view_module_version": "1.2.0",
       "_view_name": "LayoutView",
       "align_content": null,
       "align_items": null,
       "align_self": null,
       "border": null,
       "bottom": null,
       "display": null,
       "flex": null,
       "flex_flow": null,
       "grid_area": null,
       "grid_auto_columns": null,
       "grid_auto_flow": null,
       "grid_auto_rows": null,
       "grid_column": null,
       "grid_gap": null,
       "grid_row": null,
       "grid_template_areas": null,
       "grid_template_columns": null,
       "grid_template_rows": null,
       "height": null,
       "justify_content": null,
       "justify_items": null,
       "left": null,
       "margin": null,
       "max_height": null,
       "max_width": null,
       "min_height": null,
       "min_width": null,
       "object_fit": null,
       "object_position": null,
       "order": null,
       "overflow": null,
       "overflow_x": null,
       "overflow_y": null,
       "padding": null,
       "right": null,
       "top": null,
       "visibility": null,
       "width": null
      }
     },
     "469f85eb54a4443fb7e8cf8f21f17eb2": {
      "model_module": "@jupyter-widgets/controls",
      "model_module_version": "1.5.0",
      "model_name": "HTMLModel",
      "state": {
       "_dom_classes": [],
       "_model_module": "@jupyter-widgets/controls",
       "_model_module_version": "1.5.0",
       "_model_name": "HTMLModel",
       "_view_count": null,
       "_view_module": "@jupyter-widgets/controls",
       "_view_module_version": "1.5.0",
       "_view_name": "HTMLView",
       "description": "",
       "description_tooltip": null,
       "layout": "IPY_MODEL_ff791bb4894b413ab29fd8d01e0b1fdb",
       "placeholder": "​",
       "style": "IPY_MODEL_8aa43dd5bf2046958c90af3974bb1fbc",
       "value": "model.safetensors.index.json: 100%"
      }
     },
     "4a630e7d999c45ff8a8a806b8bf90eb8": {
      "model_module": "@jupyter-widgets/controls",
      "model_module_version": "1.5.0",
      "model_name": "DescriptionStyleModel",
      "state": {
       "_model_module": "@jupyter-widgets/controls",
       "_model_module_version": "1.5.0",
       "_model_name": "DescriptionStyleModel",
       "_view_count": null,
       "_view_module": "@jupyter-widgets/base",
       "_view_module_version": "1.2.0",
       "_view_name": "StyleView",
       "description_width": ""
      }
     },
     "4b351a1fcb34455494bee7d7bf0b0219": {
      "model_module": "@jupyter-widgets/controls",
      "model_module_version": "1.5.0",
      "model_name": "ProgressStyleModel",
      "state": {
       "_model_module": "@jupyter-widgets/controls",
       "_model_module_version": "1.5.0",
       "_model_name": "ProgressStyleModel",
       "_view_count": null,
       "_view_module": "@jupyter-widgets/base",
       "_view_module_version": "1.2.0",
       "_view_name": "StyleView",
       "bar_color": null,
       "description_width": ""
      }
     },
     "4c1a7faf2ef24e29a0042f0f9e83999c": {
      "model_module": "@jupyter-widgets/controls",
      "model_module_version": "1.5.0",
      "model_name": "FloatProgressModel",
      "state": {
       "_dom_classes": [],
       "_model_module": "@jupyter-widgets/controls",
       "_model_module_version": "1.5.0",
       "_model_name": "FloatProgressModel",
       "_view_count": null,
       "_view_module": "@jupyter-widgets/controls",
       "_view_module_version": "1.5.0",
       "_view_name": "ProgressView",
       "bar_style": "success",
       "description": "",
       "description_tooltip": null,
       "layout": "IPY_MODEL_b41a4741c3c8462194ab44eeefa035fb",
       "max": 23950.0,
       "min": 0.0,
       "orientation": "horizontal",
       "style": "IPY_MODEL_028738875a1b470d82da09da3d16818b",
       "value": 23950.0
      }
     },
     "4cced04d7f03419a87b4b4a407d0acf4": {
      "model_module": "@jupyter-widgets/base",
      "model_module_version": "1.2.0",
      "model_name": "LayoutModel",
      "state": {
       "_model_module": "@jupyter-widgets/base",
       "_model_module_version": "1.2.0",
       "_model_name": "LayoutModel",
       "_view_count": null,
       "_view_module": "@jupyter-widgets/base",
       "_view_module_version": "1.2.0",
       "_view_name": "LayoutView",
       "align_content": null,
       "align_items": null,
       "align_self": null,
       "border": null,
       "bottom": null,
       "display": null,
       "flex": null,
       "flex_flow": null,
       "grid_area": null,
       "grid_auto_columns": null,
       "grid_auto_flow": null,
       "grid_auto_rows": null,
       "grid_column": null,
       "grid_gap": null,
       "grid_row": null,
       "grid_template_areas": null,
       "grid_template_columns": null,
       "grid_template_rows": null,
       "height": null,
       "justify_content": null,
       "justify_items": null,
       "left": null,
       "margin": null,
       "max_height": null,
       "max_width": null,
       "min_height": null,
       "min_width": null,
       "object_fit": null,
       "object_position": null,
       "order": null,
       "overflow": null,
       "overflow_x": null,
       "overflow_y": null,
       "padding": null,
       "right": null,
       "top": null,
       "visibility": null,
       "width": null
      }
     },
     "4d30ece148d44283856491e117b4480f": {
      "model_module": "@jupyter-widgets/controls",
      "model_module_version": "1.5.0",
      "model_name": "ProgressStyleModel",
      "state": {
       "_model_module": "@jupyter-widgets/controls",
       "_model_module_version": "1.5.0",
       "_model_name": "ProgressStyleModel",
       "_view_count": null,
       "_view_module": "@jupyter-widgets/base",
       "_view_module_version": "1.2.0",
       "_view_name": "StyleView",
       "bar_color": null,
       "description_width": ""
      }
     },
     "4dde931e9d0248cca77f00ea81ff8a16": {
      "model_module": "@jupyter-widgets/base",
      "model_module_version": "1.2.0",
      "model_name": "LayoutModel",
      "state": {
       "_model_module": "@jupyter-widgets/base",
       "_model_module_version": "1.2.0",
       "_model_name": "LayoutModel",
       "_view_count": null,
       "_view_module": "@jupyter-widgets/base",
       "_view_module_version": "1.2.0",
       "_view_name": "LayoutView",
       "align_content": null,
       "align_items": null,
       "align_self": null,
       "border": null,
       "bottom": null,
       "display": null,
       "flex": null,
       "flex_flow": null,
       "grid_area": null,
       "grid_auto_columns": null,
       "grid_auto_flow": null,
       "grid_auto_rows": null,
       "grid_column": null,
       "grid_gap": null,
       "grid_row": null,
       "grid_template_areas": null,
       "grid_template_columns": null,
       "grid_template_rows": null,
       "height": null,
       "justify_content": null,
       "justify_items": null,
       "left": null,
       "margin": null,
       "max_height": null,
       "max_width": null,
       "min_height": null,
       "min_width": null,
       "object_fit": null,
       "object_position": null,
       "order": null,
       "overflow": null,
       "overflow_x": null,
       "overflow_y": null,
       "padding": null,
       "right": null,
       "top": null,
       "visibility": null,
       "width": null
      }
     },
     "59654944ae20497e983952bf929b478e": {
      "model_module": "@jupyter-widgets/controls",
      "model_module_version": "1.5.0",
      "model_name": "DescriptionStyleModel",
      "state": {
       "_model_module": "@jupyter-widgets/controls",
       "_model_module_version": "1.5.0",
       "_model_name": "DescriptionStyleModel",
       "_view_count": null,
       "_view_module": "@jupyter-widgets/base",
       "_view_module_version": "1.2.0",
       "_view_name": "StyleView",
       "description_width": ""
      }
     },
     "5dc89fda744e434cbe55927d105911df": {
      "model_module": "@jupyter-widgets/base",
      "model_module_version": "1.2.0",
      "model_name": "LayoutModel",
      "state": {
       "_model_module": "@jupyter-widgets/base",
       "_model_module_version": "1.2.0",
       "_model_name": "LayoutModel",
       "_view_count": null,
       "_view_module": "@jupyter-widgets/base",
       "_view_module_version": "1.2.0",
       "_view_name": "LayoutView",
       "align_content": null,
       "align_items": null,
       "align_self": null,
       "border": null,
       "bottom": null,
       "display": null,
       "flex": null,
       "flex_flow": null,
       "grid_area": null,
       "grid_auto_columns": null,
       "grid_auto_flow": null,
       "grid_auto_rows": null,
       "grid_column": null,
       "grid_gap": null,
       "grid_row": null,
       "grid_template_areas": null,
       "grid_template_columns": null,
       "grid_template_rows": null,
       "height": null,
       "justify_content": null,
       "justify_items": null,
       "left": null,
       "margin": null,
       "max_height": null,
       "max_width": null,
       "min_height": null,
       "min_width": null,
       "object_fit": null,
       "object_position": null,
       "order": null,
       "overflow": null,
       "overflow_x": null,
       "overflow_y": null,
       "padding": null,
       "right": null,
       "top": null,
       "visibility": null,
       "width": null
      }
     },
     "5e5b50a193f04d7dbf35c9b29ac27b60": {
      "model_module": "@jupyter-widgets/controls",
      "model_module_version": "1.5.0",
      "model_name": "DescriptionStyleModel",
      "state": {
       "_model_module": "@jupyter-widgets/controls",
       "_model_module_version": "1.5.0",
       "_model_name": "DescriptionStyleModel",
       "_view_count": null,
       "_view_module": "@jupyter-widgets/base",
       "_view_module_version": "1.2.0",
       "_view_name": "StyleView",
       "description_width": ""
      }
     },
     "5ec866233dc046908a980b31f5dc09f9": {
      "model_module": "@jupyter-widgets/controls",
      "model_module_version": "1.5.0",
      "model_name": "HBoxModel",
      "state": {
       "_dom_classes": [],
       "_model_module": "@jupyter-widgets/controls",
       "_model_module_version": "1.5.0",
       "_model_name": "HBoxModel",
       "_view_count": null,
       "_view_module": "@jupyter-widgets/controls",
       "_view_module_version": "1.5.0",
       "_view_name": "HBoxView",
       "box_style": "",
       "children": [
        "IPY_MODEL_469f85eb54a4443fb7e8cf8f21f17eb2",
        "IPY_MODEL_4c1a7faf2ef24e29a0042f0f9e83999c",
        "IPY_MODEL_0a547a4a20e6410eac21e1dc1ffa2ca4"
       ],
       "layout": "IPY_MODEL_add7f0f456834c5595876f5e69fc06b6"
      }
     },
     "5f72ce838d0841318546f848e3ca3082": {
      "model_module": "@jupyter-widgets/base",
      "model_module_version": "1.2.0",
      "model_name": "LayoutModel",
      "state": {
       "_model_module": "@jupyter-widgets/base",
       "_model_module_version": "1.2.0",
       "_model_name": "LayoutModel",
       "_view_count": null,
       "_view_module": "@jupyter-widgets/base",
       "_view_module_version": "1.2.0",
       "_view_name": "LayoutView",
       "align_content": null,
       "align_items": null,
       "align_self": null,
       "border": null,
       "bottom": null,
       "display": null,
       "flex": null,
       "flex_flow": null,
       "grid_area": null,
       "grid_auto_columns": null,
       "grid_auto_flow": null,
       "grid_auto_rows": null,
       "grid_column": null,
       "grid_gap": null,
       "grid_row": null,
       "grid_template_areas": null,
       "grid_template_columns": null,
       "grid_template_rows": null,
       "height": null,
       "justify_content": null,
       "justify_items": null,
       "left": null,
       "margin": null,
       "max_height": null,
       "max_width": null,
       "min_height": null,
       "min_width": null,
       "object_fit": null,
       "object_position": null,
       "order": null,
       "overflow": null,
       "overflow_x": null,
       "overflow_y": null,
       "padding": null,
       "right": null,
       "top": null,
       "visibility": null,
       "width": null
      }
     },
     "61ea87ff074441c1b0003ec48b6a568e": {
      "model_module": "@jupyter-widgets/base",
      "model_module_version": "1.2.0",
      "model_name": "LayoutModel",
      "state": {
       "_model_module": "@jupyter-widgets/base",
       "_model_module_version": "1.2.0",
       "_model_name": "LayoutModel",
       "_view_count": null,
       "_view_module": "@jupyter-widgets/base",
       "_view_module_version": "1.2.0",
       "_view_name": "LayoutView",
       "align_content": null,
       "align_items": null,
       "align_self": null,
       "border": null,
       "bottom": null,
       "display": null,
       "flex": null,
       "flex_flow": null,
       "grid_area": null,
       "grid_auto_columns": null,
       "grid_auto_flow": null,
       "grid_auto_rows": null,
       "grid_column": null,
       "grid_gap": null,
       "grid_row": null,
       "grid_template_areas": null,
       "grid_template_columns": null,
       "grid_template_rows": null,
       "height": null,
       "justify_content": null,
       "justify_items": null,
       "left": null,
       "margin": null,
       "max_height": null,
       "max_width": null,
       "min_height": null,
       "min_width": null,
       "object_fit": null,
       "object_position": null,
       "order": null,
       "overflow": null,
       "overflow_x": null,
       "overflow_y": null,
       "padding": null,
       "right": null,
       "top": null,
       "visibility": null,
       "width": null
      }
     },
     "632a89d3d6b84b26b9f1b972523607c6": {
      "model_module": "@jupyter-widgets/base",
      "model_module_version": "1.2.0",
      "model_name": "LayoutModel",
      "state": {
       "_model_module": "@jupyter-widgets/base",
       "_model_module_version": "1.2.0",
       "_model_name": "LayoutModel",
       "_view_count": null,
       "_view_module": "@jupyter-widgets/base",
       "_view_module_version": "1.2.0",
       "_view_name": "LayoutView",
       "align_content": null,
       "align_items": null,
       "align_self": null,
       "border": null,
       "bottom": null,
       "display": null,
       "flex": null,
       "flex_flow": null,
       "grid_area": null,
       "grid_auto_columns": null,
       "grid_auto_flow": null,
       "grid_auto_rows": null,
       "grid_column": null,
       "grid_gap": null,
       "grid_row": null,
       "grid_template_areas": null,
       "grid_template_columns": null,
       "grid_template_rows": null,
       "height": null,
       "justify_content": null,
       "justify_items": null,
       "left": null,
       "margin": null,
       "max_height": null,
       "max_width": null,
       "min_height": null,
       "min_width": null,
       "object_fit": null,
       "object_position": null,
       "order": null,
       "overflow": null,
       "overflow_x": null,
       "overflow_y": null,
       "padding": null,
       "right": null,
       "top": null,
       "visibility": null,
       "width": null
      }
     },
     "66d50bcfaae242cf9915a7802d399e1f": {
      "model_module": "@jupyter-widgets/controls",
      "model_module_version": "1.5.0",
      "model_name": "HBoxModel",
      "state": {
       "_dom_classes": [],
       "_model_module": "@jupyter-widgets/controls",
       "_model_module_version": "1.5.0",
       "_model_name": "HBoxModel",
       "_view_count": null,
       "_view_module": "@jupyter-widgets/controls",
       "_view_module_version": "1.5.0",
       "_view_name": "HBoxView",
       "box_style": "",
       "children": [
        "IPY_MODEL_e205256cf5954ccead28caa95ed3d05a",
        "IPY_MODEL_0edf3d068f754a90a760d85b6b85b683",
        "IPY_MODEL_c3fa22c4a5bb4594ac3c7a5ea65177c3"
       ],
       "layout": "IPY_MODEL_c85f557cb1c647e493e6f5eee7dfa4a3"
      }
     },
     "68e120a3748f4207829e307fc5b488d9": {
      "model_module": "@jupyter-widgets/controls",
      "model_module_version": "1.5.0",
      "model_name": "FloatProgressModel",
      "state": {
       "_dom_classes": [],
       "_model_module": "@jupyter-widgets/controls",
       "_model_module_version": "1.5.0",
       "_model_name": "FloatProgressModel",
       "_view_count": null,
       "_view_module": "@jupyter-widgets/controls",
       "_view_module_version": "1.5.0",
       "_view_name": "ProgressView",
       "bar_style": "success",
       "description": "",
       "description_tooltip": null,
       "layout": "IPY_MODEL_632a89d3d6b84b26b9f1b972523607c6",
       "max": 4.0,
       "min": 0.0,
       "orientation": "horizontal",
       "style": "IPY_MODEL_4b351a1fcb34455494bee7d7bf0b0219",
       "value": 4.0
      }
     },
     "69fcebcba4e34c439b863d0077b7baec": {
      "model_module": "@jupyter-widgets/controls",
      "model_module_version": "1.5.0",
      "model_name": "HBoxModel",
      "state": {
       "_dom_classes": [],
       "_model_module": "@jupyter-widgets/controls",
       "_model_module_version": "1.5.0",
       "_model_name": "HBoxModel",
       "_view_count": null,
       "_view_module": "@jupyter-widgets/controls",
       "_view_module_version": "1.5.0",
       "_view_name": "HBoxView",
       "box_style": "",
       "children": [
        "IPY_MODEL_fb376045012e400eb5e2d8cab2e755fc",
        "IPY_MODEL_3f51a14d34954fe28887b91f9a58fa2e",
        "IPY_MODEL_9f1efbebd0fd4027800a6620dcd61f00"
       ],
       "layout": "IPY_MODEL_70948c582cd64e898c1a9ef7cb7e444a"
      }
     },
     "6a5309fe22d640babad6ba795a4a0e67": {
      "model_module": "@jupyter-widgets/base",
      "model_module_version": "1.2.0",
      "model_name": "LayoutModel",
      "state": {
       "_model_module": "@jupyter-widgets/base",
       "_model_module_version": "1.2.0",
       "_model_name": "LayoutModel",
       "_view_count": null,
       "_view_module": "@jupyter-widgets/base",
       "_view_module_version": "1.2.0",
       "_view_name": "LayoutView",
       "align_content": null,
       "align_items": null,
       "align_self": null,
       "border": null,
       "bottom": null,
       "display": null,
       "flex": null,
       "flex_flow": null,
       "grid_area": null,
       "grid_auto_columns": null,
       "grid_auto_flow": null,
       "grid_auto_rows": null,
       "grid_column": null,
       "grid_gap": null,
       "grid_row": null,
       "grid_template_areas": null,
       "grid_template_columns": null,
       "grid_template_rows": null,
       "height": null,
       "justify_content": null,
       "justify_items": null,
       "left": null,
       "margin": null,
       "max_height": null,
       "max_width": null,
       "min_height": null,
       "min_width": null,
       "object_fit": null,
       "object_position": null,
       "order": null,
       "overflow": null,
       "overflow_x": null,
       "overflow_y": null,
       "padding": null,
       "right": null,
       "top": null,
       "visibility": null,
       "width": null
      }
     },
     "6dd7781380af4ed283772a26ef7a9c35": {
      "model_module": "@jupyter-widgets/controls",
      "model_module_version": "1.5.0",
      "model_name": "DescriptionStyleModel",
      "state": {
       "_model_module": "@jupyter-widgets/controls",
       "_model_module_version": "1.5.0",
       "_model_name": "DescriptionStyleModel",
       "_view_count": null,
       "_view_module": "@jupyter-widgets/base",
       "_view_module_version": "1.2.0",
       "_view_name": "StyleView",
       "description_width": ""
      }
     },
     "6e439e7c832b41e0a5cfcf8feb414009": {
      "model_module": "@jupyter-widgets/base",
      "model_module_version": "1.2.0",
      "model_name": "LayoutModel",
      "state": {
       "_model_module": "@jupyter-widgets/base",
       "_model_module_version": "1.2.0",
       "_model_name": "LayoutModel",
       "_view_count": null,
       "_view_module": "@jupyter-widgets/base",
       "_view_module_version": "1.2.0",
       "_view_name": "LayoutView",
       "align_content": null,
       "align_items": null,
       "align_self": null,
       "border": null,
       "bottom": null,
       "display": null,
       "flex": null,
       "flex_flow": null,
       "grid_area": null,
       "grid_auto_columns": null,
       "grid_auto_flow": null,
       "grid_auto_rows": null,
       "grid_column": null,
       "grid_gap": null,
       "grid_row": null,
       "grid_template_areas": null,
       "grid_template_columns": null,
       "grid_template_rows": null,
       "height": null,
       "justify_content": null,
       "justify_items": null,
       "left": null,
       "margin": null,
       "max_height": null,
       "max_width": null,
       "min_height": null,
       "min_width": null,
       "object_fit": null,
       "object_position": null,
       "order": null,
       "overflow": null,
       "overflow_x": null,
       "overflow_y": null,
       "padding": null,
       "right": null,
       "top": null,
       "visibility": null,
       "width": null
      }
     },
     "70948c582cd64e898c1a9ef7cb7e444a": {
      "model_module": "@jupyter-widgets/base",
      "model_module_version": "1.2.0",
      "model_name": "LayoutModel",
      "state": {
       "_model_module": "@jupyter-widgets/base",
       "_model_module_version": "1.2.0",
       "_model_name": "LayoutModel",
       "_view_count": null,
       "_view_module": "@jupyter-widgets/base",
       "_view_module_version": "1.2.0",
       "_view_name": "LayoutView",
       "align_content": null,
       "align_items": null,
       "align_self": null,
       "border": null,
       "bottom": null,
       "display": null,
       "flex": null,
       "flex_flow": null,
       "grid_area": null,
       "grid_auto_columns": null,
       "grid_auto_flow": null,
       "grid_auto_rows": null,
       "grid_column": null,
       "grid_gap": null,
       "grid_row": null,
       "grid_template_areas": null,
       "grid_template_columns": null,
       "grid_template_rows": null,
       "height": null,
       "justify_content": null,
       "justify_items": null,
       "left": null,
       "margin": null,
       "max_height": null,
       "max_width": null,
       "min_height": null,
       "min_width": null,
       "object_fit": null,
       "object_position": null,
       "order": null,
       "overflow": null,
       "overflow_x": null,
       "overflow_y": null,
       "padding": null,
       "right": null,
       "top": null,
       "visibility": null,
       "width": null
      }
     },
     "71ee315b32484e05bf8511c4a5dfffdc": {
      "model_module": "@jupyter-widgets/controls",
      "model_module_version": "1.5.0",
      "model_name": "DescriptionStyleModel",
      "state": {
       "_model_module": "@jupyter-widgets/controls",
       "_model_module_version": "1.5.0",
       "_model_name": "DescriptionStyleModel",
       "_view_count": null,
       "_view_module": "@jupyter-widgets/base",
       "_view_module_version": "1.2.0",
       "_view_name": "StyleView",
       "description_width": ""
      }
     },
     "728fa07215954f15bf409f0464374e29": {
      "model_module": "@jupyter-widgets/controls",
      "model_module_version": "1.5.0",
      "model_name": "FloatProgressModel",
      "state": {
       "_dom_classes": [],
       "_model_module": "@jupyter-widgets/controls",
       "_model_module_version": "1.5.0",
       "_model_name": "FloatProgressModel",
       "_view_count": null,
       "_view_module": "@jupyter-widgets/controls",
       "_view_module_version": "1.5.0",
       "_view_name": "ProgressView",
       "bar_style": "success",
       "description": "",
       "description_tooltip": null,
       "layout": "IPY_MODEL_33fa774b6a374eaa9a03ed1aa8ba9fa7",
       "max": 9085698.0,
       "min": 0.0,
       "orientation": "horizontal",
       "style": "IPY_MODEL_9da8c21816094730950dca1a77687f3c",
       "value": 9085698.0
      }
     },
     "73f67d8075924dfda5f077ffc7d7309c": {
      "model_module": "@jupyter-widgets/base",
      "model_module_version": "1.2.0",
      "model_name": "LayoutModel",
      "state": {
       "_model_module": "@jupyter-widgets/base",
       "_model_module_version": "1.2.0",
       "_model_name": "LayoutModel",
       "_view_count": null,
       "_view_module": "@jupyter-widgets/base",
       "_view_module_version": "1.2.0",
       "_view_name": "LayoutView",
       "align_content": null,
       "align_items": null,
       "align_self": null,
       "border": null,
       "bottom": null,
       "display": null,
       "flex": null,
       "flex_flow": null,
       "grid_area": null,
       "grid_auto_columns": null,
       "grid_auto_flow": null,
       "grid_auto_rows": null,
       "grid_column": null,
       "grid_gap": null,
       "grid_row": null,
       "grid_template_areas": null,
       "grid_template_columns": null,
       "grid_template_rows": null,
       "height": null,
       "justify_content": null,
       "justify_items": null,
       "left": null,
       "margin": null,
       "max_height": null,
       "max_width": null,
       "min_height": null,
       "min_width": null,
       "object_fit": null,
       "object_position": null,
       "order": null,
       "overflow": null,
       "overflow_x": null,
       "overflow_y": null,
       "padding": null,
       "right": null,
       "top": null,
       "visibility": null,
       "width": null
      }
     },
     "7504385051a04152aca539d9f5d5a45c": {
      "model_module": "@jupyter-widgets/base",
      "model_module_version": "1.2.0",
      "model_name": "LayoutModel",
      "state": {
       "_model_module": "@jupyter-widgets/base",
       "_model_module_version": "1.2.0",
       "_model_name": "LayoutModel",
       "_view_count": null,
       "_view_module": "@jupyter-widgets/base",
       "_view_module_version": "1.2.0",
       "_view_name": "LayoutView",
       "align_content": null,
       "align_items": null,
       "align_self": null,
       "border": null,
       "bottom": null,
       "display": null,
       "flex": null,
       "flex_flow": null,
       "grid_area": null,
       "grid_auto_columns": null,
       "grid_auto_flow": null,
       "grid_auto_rows": null,
       "grid_column": null,
       "grid_gap": null,
       "grid_row": null,
       "grid_template_areas": null,
       "grid_template_columns": null,
       "grid_template_rows": null,
       "height": null,
       "justify_content": null,
       "justify_items": null,
       "left": null,
       "margin": null,
       "max_height": null,
       "max_width": null,
       "min_height": null,
       "min_width": null,
       "object_fit": null,
       "object_position": null,
       "order": null,
       "overflow": null,
       "overflow_x": null,
       "overflow_y": null,
       "padding": null,
       "right": null,
       "top": null,
       "visibility": null,
       "width": null
      }
     },
     "7752c190ab41455dbda100fe6b3d7db4": {
      "model_module": "@jupyter-widgets/controls",
      "model_module_version": "1.5.0",
      "model_name": "HTMLModel",
      "state": {
       "_dom_classes": [],
       "_model_module": "@jupyter-widgets/controls",
       "_model_module_version": "1.5.0",
       "_model_name": "HTMLModel",
       "_view_count": null,
       "_view_module": "@jupyter-widgets/controls",
       "_view_module_version": "1.5.0",
       "_view_name": "HTMLView",
       "description": "",
       "description_tooltip": null,
       "layout": "IPY_MODEL_5dc89fda744e434cbe55927d105911df",
       "placeholder": "​",
       "style": "IPY_MODEL_0109311aeb7345958eb2ff0c3933cb26",
       "value": " 9.09M/9.09M [00:00&lt;00:00, 14.7MB/s]"
      }
     },
     "7ad36d6ea32845b28c7af96a598ed790": {
      "model_module": "@jupyter-widgets/base",
      "model_module_version": "1.2.0",
      "model_name": "LayoutModel",
      "state": {
       "_model_module": "@jupyter-widgets/base",
       "_model_module_version": "1.2.0",
       "_model_name": "LayoutModel",
       "_view_count": null,
       "_view_module": "@jupyter-widgets/base",
       "_view_module_version": "1.2.0",
       "_view_name": "LayoutView",
       "align_content": null,
       "align_items": null,
       "align_self": null,
       "border": null,
       "bottom": null,
       "display": null,
       "flex": null,
       "flex_flow": null,
       "grid_area": null,
       "grid_auto_columns": null,
       "grid_auto_flow": null,
       "grid_auto_rows": null,
       "grid_column": null,
       "grid_gap": null,
       "grid_row": null,
       "grid_template_areas": null,
       "grid_template_columns": null,
       "grid_template_rows": null,
       "height": null,
       "justify_content": null,
       "justify_items": null,
       "left": null,
       "margin": null,
       "max_height": null,
       "max_width": null,
       "min_height": null,
       "min_width": null,
       "object_fit": null,
       "object_position": null,
       "order": null,
       "overflow": null,
       "overflow_x": null,
       "overflow_y": null,
       "padding": null,
       "right": null,
       "top": null,
       "visibility": null,
       "width": null
      }
     },
     "7bf4043165794bff839ce02bfa58f8b1": {
      "model_module": "@jupyter-widgets/controls",
      "model_module_version": "1.5.0",
      "model_name": "DescriptionStyleModel",
      "state": {
       "_model_module": "@jupyter-widgets/controls",
       "_model_module_version": "1.5.0",
       "_model_name": "DescriptionStyleModel",
       "_view_count": null,
       "_view_module": "@jupyter-widgets/base",
       "_view_module_version": "1.2.0",
       "_view_name": "StyleView",
       "description_width": ""
      }
     },
     "8431847a05794f77a6f2cbea9bf2819c": {
      "model_module": "@jupyter-widgets/controls",
      "model_module_version": "1.5.0",
      "model_name": "ProgressStyleModel",
      "state": {
       "_model_module": "@jupyter-widgets/controls",
       "_model_module_version": "1.5.0",
       "_model_name": "ProgressStyleModel",
       "_view_count": null,
       "_view_module": "@jupyter-widgets/base",
       "_view_module_version": "1.2.0",
       "_view_name": "StyleView",
       "bar_color": null,
       "description_width": ""
      }
     },
     "85642cf10572417e8491b37eddab9d5a": {
      "model_module": "@jupyter-widgets/controls",
      "model_module_version": "1.5.0",
      "model_name": "DescriptionStyleModel",
      "state": {
       "_model_module": "@jupyter-widgets/controls",
       "_model_module_version": "1.5.0",
       "_model_name": "DescriptionStyleModel",
       "_view_count": null,
       "_view_module": "@jupyter-widgets/base",
       "_view_module_version": "1.2.0",
       "_view_name": "StyleView",
       "description_width": ""
      }
     },
     "871775de282d45ff98c801b8995220aa": {
      "model_module": "@jupyter-widgets/controls",
      "model_module_version": "1.5.0",
      "model_name": "ProgressStyleModel",
      "state": {
       "_model_module": "@jupyter-widgets/controls",
       "_model_module_version": "1.5.0",
       "_model_name": "ProgressStyleModel",
       "_view_count": null,
       "_view_module": "@jupyter-widgets/base",
       "_view_module_version": "1.2.0",
       "_view_name": "StyleView",
       "bar_color": null,
       "description_width": ""
      }
     },
     "87285a38997448ff886a1f4c08fb01a1": {
      "model_module": "@jupyter-widgets/controls",
      "model_module_version": "1.5.0",
      "model_name": "ProgressStyleModel",
      "state": {
       "_model_module": "@jupyter-widgets/controls",
       "_model_module_version": "1.5.0",
       "_model_name": "ProgressStyleModel",
       "_view_count": null,
       "_view_module": "@jupyter-widgets/base",
       "_view_module_version": "1.2.0",
       "_view_name": "StyleView",
       "bar_color": null,
       "description_width": ""
      }
     },
     "8a871583bd5c4c14ae5a9aca2366d330": {
      "model_module": "@jupyter-widgets/controls",
      "model_module_version": "1.5.0",
      "model_name": "HTMLModel",
      "state": {
       "_dom_classes": [],
       "_model_module": "@jupyter-widgets/controls",
       "_model_module_version": "1.5.0",
       "_model_name": "HTMLModel",
       "_view_count": null,
       "_view_module": "@jupyter-widgets/controls",
       "_view_module_version": "1.5.0",
       "_view_name": "HTMLView",
       "description": "",
       "description_tooltip": null,
       "layout": "IPY_MODEL_250de3be457340bd96c4c0234076712d",
       "placeholder": "​",
       "style": "IPY_MODEL_13d298c91e1f408fa6f12213cec9f28c",
       "value": " 654/654 [00:00&lt;00:00, 59.7kB/s]"
      }
     },
     "8aa43dd5bf2046958c90af3974bb1fbc": {
      "model_module": "@jupyter-widgets/controls",
      "model_module_version": "1.5.0",
      "model_name": "DescriptionStyleModel",
      "state": {
       "_model_module": "@jupyter-widgets/controls",
       "_model_module_version": "1.5.0",
       "_model_name": "DescriptionStyleModel",
       "_view_count": null,
       "_view_module": "@jupyter-widgets/base",
       "_view_module_version": "1.2.0",
       "_view_name": "StyleView",
       "description_width": ""
      }
     },
     "8ab1f8385f03460fb666ac2cade2a5a1": {
      "model_module": "@jupyter-widgets/controls",
      "model_module_version": "1.5.0",
      "model_name": "FloatProgressModel",
      "state": {
       "_dom_classes": [],
       "_model_module": "@jupyter-widgets/controls",
       "_model_module_version": "1.5.0",
       "_model_name": "FloatProgressModel",
       "_view_count": null,
       "_view_module": "@jupyter-widgets/controls",
       "_view_module_version": "1.5.0",
       "_view_name": "ProgressView",
       "bar_style": "success",
       "description": "",
       "description_tooltip": null,
       "layout": "IPY_MODEL_38a1bca1852f4e538af707c5b3e7d071",
       "max": 4915916176.0,
       "min": 0.0,
       "orientation": "horizontal",
       "style": "IPY_MODEL_87285a38997448ff886a1f4c08fb01a1",
       "value": 4915916176.0
      }
     },
     "8bfbd119ff4f423097e80cb8562cefa6": {
      "model_module": "@jupyter-widgets/base",
      "model_module_version": "1.2.0",
      "model_name": "LayoutModel",
      "state": {
       "_model_module": "@jupyter-widgets/base",
       "_model_module_version": "1.2.0",
       "_model_name": "LayoutModel",
       "_view_count": null,
       "_view_module": "@jupyter-widgets/base",
       "_view_module_version": "1.2.0",
       "_view_name": "LayoutView",
       "align_content": null,
       "align_items": null,
       "align_self": null,
       "border": null,
       "bottom": null,
       "display": null,
       "flex": null,
       "flex_flow": null,
       "grid_area": null,
       "grid_auto_columns": null,
       "grid_auto_flow": null,
       "grid_auto_rows": null,
       "grid_column": null,
       "grid_gap": null,
       "grid_row": null,
       "grid_template_areas": null,
       "grid_template_columns": null,
       "grid_template_rows": null,
       "height": null,
       "justify_content": null,
       "justify_items": null,
       "left": null,
       "margin": null,
       "max_height": null,
       "max_width": null,
       "min_height": null,
       "min_width": null,
       "object_fit": null,
       "object_position": null,
       "order": null,
       "overflow": null,
       "overflow_x": null,
       "overflow_y": null,
       "padding": null,
       "right": null,
       "top": null,
       "visibility": null,
       "width": null
      }
     },
     "8ca0993af6d245efb0b40c1736fb47c3": {
      "model_module": "@jupyter-widgets/controls",
      "model_module_version": "1.5.0",
      "model_name": "HBoxModel",
      "state": {
       "_dom_classes": [],
       "_model_module": "@jupyter-widgets/controls",
       "_model_module_version": "1.5.0",
       "_model_name": "HBoxModel",
       "_view_count": null,
       "_view_module": "@jupyter-widgets/controls",
       "_view_module_version": "1.5.0",
       "_view_name": "HBoxView",
       "box_style": "",
       "children": [
        "IPY_MODEL_9eb5969935d4411cbd4a8897896134d8",
        "IPY_MODEL_ccd8d6d7cf524aa1af48b77941ced8a6",
        "IPY_MODEL_8a871583bd5c4c14ae5a9aca2366d330"
       ],
       "layout": "IPY_MODEL_e55915c4881a49a7a526c75fb68b074b"
      }
     },
     "8f41e2f262e64814a495e89e18523835": {
      "model_module": "@jupyter-widgets/base",
      "model_module_version": "1.2.0",
      "model_name": "LayoutModel",
      "state": {
       "_model_module": "@jupyter-widgets/base",
       "_model_module_version": "1.2.0",
       "_model_name": "LayoutModel",
       "_view_count": null,
       "_view_module": "@jupyter-widgets/base",
       "_view_module_version": "1.2.0",
       "_view_name": "LayoutView",
       "align_content": null,
       "align_items": null,
       "align_self": null,
       "border": null,
       "bottom": null,
       "display": null,
       "flex": null,
       "flex_flow": null,
       "grid_area": null,
       "grid_auto_columns": null,
       "grid_auto_flow": null,
       "grid_auto_rows": null,
       "grid_column": null,
       "grid_gap": null,
       "grid_row": null,
       "grid_template_areas": null,
       "grid_template_columns": null,
       "grid_template_rows": null,
       "height": null,
       "justify_content": null,
       "justify_items": null,
       "left": null,
       "margin": null,
       "max_height": null,
       "max_width": null,
       "min_height": null,
       "min_width": null,
       "object_fit": null,
       "object_position": null,
       "order": null,
       "overflow": null,
       "overflow_x": null,
       "overflow_y": null,
       "padding": null,
       "right": null,
       "top": null,
       "visibility": null,
       "width": null
      }
     },
     "90143d08590b44b2ab812846d7311c04": {
      "model_module": "@jupyter-widgets/controls",
      "model_module_version": "1.5.0",
      "model_name": "DescriptionStyleModel",
      "state": {
       "_model_module": "@jupyter-widgets/controls",
       "_model_module_version": "1.5.0",
       "_model_name": "DescriptionStyleModel",
       "_view_count": null,
       "_view_module": "@jupyter-widgets/base",
       "_view_module_version": "1.2.0",
       "_view_name": "StyleView",
       "description_width": ""
      }
     },
     "92696b95f7ba4ca8bee91f5e0e9bddc4": {
      "model_module": "@jupyter-widgets/controls",
      "model_module_version": "1.5.0",
      "model_name": "DescriptionStyleModel",
      "state": {
       "_model_module": "@jupyter-widgets/controls",
       "_model_module_version": "1.5.0",
       "_model_name": "DescriptionStyleModel",
       "_view_count": null,
       "_view_module": "@jupyter-widgets/base",
       "_view_module_version": "1.2.0",
       "_view_name": "StyleView",
       "description_width": ""
      }
     },
     "93bfe4aacdf04a70baae240b88650774": {
      "model_module": "@jupyter-widgets/base",
      "model_module_version": "1.2.0",
      "model_name": "LayoutModel",
      "state": {
       "_model_module": "@jupyter-widgets/base",
       "_model_module_version": "1.2.0",
       "_model_name": "LayoutModel",
       "_view_count": null,
       "_view_module": "@jupyter-widgets/base",
       "_view_module_version": "1.2.0",
       "_view_name": "LayoutView",
       "align_content": null,
       "align_items": null,
       "align_self": null,
       "border": null,
       "bottom": null,
       "display": null,
       "flex": null,
       "flex_flow": null,
       "grid_area": null,
       "grid_auto_columns": null,
       "grid_auto_flow": null,
       "grid_auto_rows": null,
       "grid_column": null,
       "grid_gap": null,
       "grid_row": null,
       "grid_template_areas": null,
       "grid_template_columns": null,
       "grid_template_rows": null,
       "height": null,
       "justify_content": null,
       "justify_items": null,
       "left": null,
       "margin": null,
       "max_height": null,
       "max_width": null,
       "min_height": null,
       "min_width": null,
       "object_fit": null,
       "object_position": null,
       "order": null,
       "overflow": null,
       "overflow_x": null,
       "overflow_y": null,
       "padding": null,
       "right": null,
       "top": null,
       "visibility": null,
       "width": null
      }
     },
     "9413bea0e7ec4722abf436786d52a0d8": {
      "model_module": "@jupyter-widgets/base",
      "model_module_version": "1.2.0",
      "model_name": "LayoutModel",
      "state": {
       "_model_module": "@jupyter-widgets/base",
       "_model_module_version": "1.2.0",
       "_model_name": "LayoutModel",
       "_view_count": null,
       "_view_module": "@jupyter-widgets/base",
       "_view_module_version": "1.2.0",
       "_view_name": "LayoutView",
       "align_content": null,
       "align_items": null,
       "align_self": null,
       "border": null,
       "bottom": null,
       "display": null,
       "flex": null,
       "flex_flow": null,
       "grid_area": null,
       "grid_auto_columns": null,
       "grid_auto_flow": null,
       "grid_auto_rows": null,
       "grid_column": null,
       "grid_gap": null,
       "grid_row": null,
       "grid_template_areas": null,
       "grid_template_columns": null,
       "grid_template_rows": null,
       "height": null,
       "justify_content": null,
       "justify_items": null,
       "left": null,
       "margin": null,
       "max_height": null,
       "max_width": null,
       "min_height": null,
       "min_width": null,
       "object_fit": null,
       "object_position": null,
       "order": null,
       "overflow": null,
       "overflow_x": null,
       "overflow_y": null,
       "padding": null,
       "right": null,
       "top": null,
       "visibility": null,
       "width": null
      }
     },
     "97fd07796d044eb8ac1c4620e50dacd0": {
      "model_module": "@jupyter-widgets/controls",
      "model_module_version": "1.5.0",
      "model_name": "HTMLModel",
      "state": {
       "_dom_classes": [],
       "_model_module": "@jupyter-widgets/controls",
       "_model_module_version": "1.5.0",
       "_model_name": "HTMLModel",
       "_view_count": null,
       "_view_module": "@jupyter-widgets/controls",
       "_view_module_version": "1.5.0",
       "_view_name": "HTMLView",
       "description": "",
       "description_tooltip": null,
       "layout": "IPY_MODEL_4dde931e9d0248cca77f00ea81ff8a16",
       "placeholder": "​",
       "style": "IPY_MODEL_5e5b50a193f04d7dbf35c9b29ac27b60",
       "value": "special_tokens_map.json: 100%"
      }
     },
     "9b02782351cd4d87a3be6aeeaa01114b": {
      "model_module": "@jupyter-widgets/base",
      "model_module_version": "1.2.0",
      "model_name": "LayoutModel",
      "state": {
       "_model_module": "@jupyter-widgets/base",
       "_model_module_version": "1.2.0",
       "_model_name": "LayoutModel",
       "_view_count": null,
       "_view_module": "@jupyter-widgets/base",
       "_view_module_version": "1.2.0",
       "_view_name": "LayoutView",
       "align_content": null,
       "align_items": null,
       "align_self": null,
       "border": null,
       "bottom": null,
       "display": null,
       "flex": null,
       "flex_flow": null,
       "grid_area": null,
       "grid_auto_columns": null,
       "grid_auto_flow": null,
       "grid_auto_rows": null,
       "grid_column": null,
       "grid_gap": null,
       "grid_row": null,
       "grid_template_areas": null,
       "grid_template_columns": null,
       "grid_template_rows": null,
       "height": null,
       "justify_content": null,
       "justify_items": null,
       "left": null,
       "margin": null,
       "max_height": null,
       "max_width": null,
       "min_height": null,
       "min_width": null,
       "object_fit": null,
       "object_position": null,
       "order": null,
       "overflow": null,
       "overflow_x": null,
       "overflow_y": null,
       "padding": null,
       "right": null,
       "top": null,
       "visibility": null,
       "width": null
      }
     },
     "9da8c21816094730950dca1a77687f3c": {
      "model_module": "@jupyter-widgets/controls",
      "model_module_version": "1.5.0",
      "model_name": "ProgressStyleModel",
      "state": {
       "_model_module": "@jupyter-widgets/controls",
       "_model_module_version": "1.5.0",
       "_model_name": "ProgressStyleModel",
       "_view_count": null,
       "_view_module": "@jupyter-widgets/base",
       "_view_module_version": "1.2.0",
       "_view_name": "StyleView",
       "bar_color": null,
       "description_width": ""
      }
     },
     "9dbff2cc65604ac58d0ccb8541d98f9c": {
      "model_module": "@jupyter-widgets/controls",
      "model_module_version": "1.5.0",
      "model_name": "HTMLModel",
      "state": {
       "_dom_classes": [],
       "_model_module": "@jupyter-widgets/controls",
       "_model_module_version": "1.5.0",
       "_model_name": "HTMLModel",
       "_view_count": null,
       "_view_module": "@jupyter-widgets/controls",
       "_view_module_version": "1.5.0",
       "_view_name": "HTMLView",
       "description": "",
       "description_tooltip": null,
       "layout": "IPY_MODEL_24fe49a05aa64270ab00aadcfbc6b5f0",
       "placeholder": "​",
       "style": "IPY_MODEL_17a3cc244f334709bb4939a1eeae913e",
       "value": "tokenizer.json: 100%"
      }
     },
     "9eb5969935d4411cbd4a8897896134d8": {
      "model_module": "@jupyter-widgets/controls",
      "model_module_version": "1.5.0",
      "model_name": "HTMLModel",
      "state": {
       "_dom_classes": [],
       "_model_module": "@jupyter-widgets/controls",
       "_model_module_version": "1.5.0",
       "_model_name": "HTMLModel",
       "_view_count": null,
       "_view_module": "@jupyter-widgets/controls",
       "_view_module_version": "1.5.0",
       "_view_name": "HTMLView",
       "description": "",
       "description_tooltip": null,
       "layout": "IPY_MODEL_3c59899a3c4949cc8c7139ba1954a67b",
       "placeholder": "​",
       "style": "IPY_MODEL_92696b95f7ba4ca8bee91f5e0e9bddc4",
       "value": "config.json: 100%"
      }
     },
     "9f1efbebd0fd4027800a6620dcd61f00": {
      "model_module": "@jupyter-widgets/controls",
      "model_module_version": "1.5.0",
      "model_name": "HTMLModel",
      "state": {
       "_dom_classes": [],
       "_model_module": "@jupyter-widgets/controls",
       "_model_module_version": "1.5.0",
       "_model_name": "HTMLModel",
       "_view_count": null,
       "_view_module": "@jupyter-widgets/controls",
       "_view_module_version": "1.5.0",
       "_view_name": "HTMLView",
       "description": "",
       "description_tooltip": null,
       "layout": "IPY_MODEL_6a5309fe22d640babad6ba795a4a0e67",
       "placeholder": "​",
       "style": "IPY_MODEL_22ba77c46ce049babb0983bfa15f084c",
       "value": " 187/187 [00:00&lt;00:00, 16.4kB/s]"
      }
     },
     "a23754dd78c946e2a8bfb69f4ec5c2a6": {
      "model_module": "@jupyter-widgets/controls",
      "model_module_version": "1.5.0",
      "model_name": "FloatProgressModel",
      "state": {
       "_dom_classes": [],
       "_model_module": "@jupyter-widgets/controls",
       "_model_module_version": "1.5.0",
       "_model_name": "FloatProgressModel",
       "_view_count": null,
       "_view_module": "@jupyter-widgets/controls",
       "_view_module_version": "1.5.0",
       "_view_name": "ProgressView",
       "bar_style": "success",
       "description": "",
       "description_tooltip": null,
       "layout": "IPY_MODEL_7504385051a04152aca539d9f5d5a45c",
       "max": 4.0,
       "min": 0.0,
       "orientation": "horizontal",
       "style": "IPY_MODEL_e84b26c9c82345999527cbaf97a4a000",
       "value": 4.0
      }
     },
     "ad8839fede4847088c102b2cb7932adf": {
      "model_module": "@jupyter-widgets/controls",
      "model_module_version": "1.5.0",
      "model_name": "FloatProgressModel",
      "state": {
       "_dom_classes": [],
       "_model_module": "@jupyter-widgets/controls",
       "_model_module_version": "1.5.0",
       "_model_name": "FloatProgressModel",
       "_view_count": null,
       "_view_module": "@jupyter-widgets/controls",
       "_view_module_version": "1.5.0",
       "_view_name": "ProgressView",
       "bar_style": "success",
       "description": "",
       "description_tooltip": null,
       "layout": "IPY_MODEL_39b474d95ff74871b0a54a44b8b72003",
       "max": 4999802720.0,
       "min": 0.0,
       "orientation": "horizontal",
       "style": "IPY_MODEL_871775de282d45ff98c801b8995220aa",
       "value": 4999802720.0
      }
     },
     "add7f0f456834c5595876f5e69fc06b6": {
      "model_module": "@jupyter-widgets/base",
      "model_module_version": "1.2.0",
      "model_name": "LayoutModel",
      "state": {
       "_model_module": "@jupyter-widgets/base",
       "_model_module_version": "1.2.0",
       "_model_name": "LayoutModel",
       "_view_count": null,
       "_view_module": "@jupyter-widgets/base",
       "_view_module_version": "1.2.0",
       "_view_name": "LayoutView",
       "align_content": null,
       "align_items": null,
       "align_self": null,
       "border": null,
       "bottom": null,
       "display": null,
       "flex": null,
       "flex_flow": null,
       "grid_area": null,
       "grid_auto_columns": null,
       "grid_auto_flow": null,
       "grid_auto_rows": null,
       "grid_column": null,
       "grid_gap": null,
       "grid_row": null,
       "grid_template_areas": null,
       "grid_template_columns": null,
       "grid_template_rows": null,
       "height": null,
       "justify_content": null,
       "justify_items": null,
       "left": null,
       "margin": null,
       "max_height": null,
       "max_width": null,
       "min_height": null,
       "min_width": null,
       "object_fit": null,
       "object_position": null,
       "order": null,
       "overflow": null,
       "overflow_x": null,
       "overflow_y": null,
       "padding": null,
       "right": null,
       "top": null,
       "visibility": null,
       "width": null
      }
     },
     "addd02acc2ef468db492300bef9a8d5a": {
      "model_module": "@jupyter-widgets/base",
      "model_module_version": "1.2.0",
      "model_name": "LayoutModel",
      "state": {
       "_model_module": "@jupyter-widgets/base",
       "_model_module_version": "1.2.0",
       "_model_name": "LayoutModel",
       "_view_count": null,
       "_view_module": "@jupyter-widgets/base",
       "_view_module_version": "1.2.0",
       "_view_name": "LayoutView",
       "align_content": null,
       "align_items": null,
       "align_self": null,
       "border": null,
       "bottom": null,
       "display": null,
       "flex": null,
       "flex_flow": null,
       "grid_area": null,
       "grid_auto_columns": null,
       "grid_auto_flow": null,
       "grid_auto_rows": null,
       "grid_column": null,
       "grid_gap": null,
       "grid_row": null,
       "grid_template_areas": null,
       "grid_template_columns": null,
       "grid_template_rows": null,
       "height": null,
       "justify_content": null,
       "justify_items": null,
       "left": null,
       "margin": null,
       "max_height": null,
       "max_width": null,
       "min_height": null,
       "min_width": null,
       "object_fit": null,
       "object_position": null,
       "order": null,
       "overflow": null,
       "overflow_x": null,
       "overflow_y": null,
       "padding": null,
       "right": null,
       "top": null,
       "visibility": null,
       "width": null
      }
     },
     "b1e0551cac8a4377a80ba8be0e9cf92e": {
      "model_module": "@jupyter-widgets/controls",
      "model_module_version": "1.5.0",
      "model_name": "HTMLModel",
      "state": {
       "_dom_classes": [],
       "_model_module": "@jupyter-widgets/controls",
       "_model_module_version": "1.5.0",
       "_model_name": "HTMLModel",
       "_view_count": null,
       "_view_module": "@jupyter-widgets/controls",
       "_view_module_version": "1.5.0",
       "_view_name": "HTMLView",
       "description": "",
       "description_tooltip": null,
       "layout": "IPY_MODEL_c9d41954b19743f3b6ecf9f8b87f0fd8",
       "placeholder": "​",
       "style": "IPY_MODEL_ec1d73b397464363a85811df8da6d0c4",
       "value": "model-00003-of-00004.safetensors: 100%"
      }
     },
     "b34c770dd74a4f5eb3c753f6d2cef121": {
      "model_module": "@jupyter-widgets/controls",
      "model_module_version": "1.5.0",
      "model_name": "DescriptionStyleModel",
      "state": {
       "_model_module": "@jupyter-widgets/controls",
       "_model_module_version": "1.5.0",
       "_model_name": "DescriptionStyleModel",
       "_view_count": null,
       "_view_module": "@jupyter-widgets/base",
       "_view_module_version": "1.2.0",
       "_view_name": "StyleView",
       "description_width": ""
      }
     },
     "b41a4741c3c8462194ab44eeefa035fb": {
      "model_module": "@jupyter-widgets/base",
      "model_module_version": "1.2.0",
      "model_name": "LayoutModel",
      "state": {
       "_model_module": "@jupyter-widgets/base",
       "_model_module_version": "1.2.0",
       "_model_name": "LayoutModel",
       "_view_count": null,
       "_view_module": "@jupyter-widgets/base",
       "_view_module_version": "1.2.0",
       "_view_name": "LayoutView",
       "align_content": null,
       "align_items": null,
       "align_self": null,
       "border": null,
       "bottom": null,
       "display": null,
       "flex": null,
       "flex_flow": null,
       "grid_area": null,
       "grid_auto_columns": null,
       "grid_auto_flow": null,
       "grid_auto_rows": null,
       "grid_column": null,
       "grid_gap": null,
       "grid_row": null,
       "grid_template_areas": null,
       "grid_template_columns": null,
       "grid_template_rows": null,
       "height": null,
       "justify_content": null,
       "justify_items": null,
       "left": null,
       "margin": null,
       "max_height": null,
       "max_width": null,
       "min_height": null,
       "min_width": null,
       "object_fit": null,
       "object_position": null,
       "order": null,
       "overflow": null,
       "overflow_x": null,
       "overflow_y": null,
       "padding": null,
       "right": null,
       "top": null,
       "visibility": null,
       "width": null
      }
     },
     "b5b421d4a47a4c3ab10ee716eb4d4002": {
      "model_module": "@jupyter-widgets/controls",
      "model_module_version": "1.5.0",
      "model_name": "HTMLModel",
      "state": {
       "_dom_classes": [],
       "_model_module": "@jupyter-widgets/controls",
       "_model_module_version": "1.5.0",
       "_model_name": "HTMLModel",
       "_view_count": null,
       "_view_module": "@jupyter-widgets/controls",
       "_view_module_version": "1.5.0",
       "_view_name": "HTMLView",
       "description": "",
       "description_tooltip": null,
       "layout": "IPY_MODEL_15e8379c3a604f1c86b8e631df950565",
       "placeholder": "​",
       "style": "IPY_MODEL_90143d08590b44b2ab812846d7311c04",
       "value": "Loading checkpoint shards: 100%"
      }
     },
     "b6647222c1ff488a900a6c7c06d76707": {
      "model_module": "@jupyter-widgets/base",
      "model_module_version": "1.2.0",
      "model_name": "LayoutModel",
      "state": {
       "_model_module": "@jupyter-widgets/base",
       "_model_module_version": "1.2.0",
       "_model_name": "LayoutModel",
       "_view_count": null,
       "_view_module": "@jupyter-widgets/base",
       "_view_module_version": "1.2.0",
       "_view_name": "LayoutView",
       "align_content": null,
       "align_items": null,
       "align_self": null,
       "border": null,
       "bottom": null,
       "display": null,
       "flex": null,
       "flex_flow": null,
       "grid_area": null,
       "grid_auto_columns": null,
       "grid_auto_flow": null,
       "grid_auto_rows": null,
       "grid_column": null,
       "grid_gap": null,
       "grid_row": null,
       "grid_template_areas": null,
       "grid_template_columns": null,
       "grid_template_rows": null,
       "height": null,
       "justify_content": null,
       "justify_items": null,
       "left": null,
       "margin": null,
       "max_height": null,
       "max_width": null,
       "min_height": null,
       "min_width": null,
       "object_fit": null,
       "object_position": null,
       "order": null,
       "overflow": null,
       "overflow_x": null,
       "overflow_y": null,
       "padding": null,
       "right": null,
       "top": null,
       "visibility": null,
       "width": null
      }
     },
     "b9a626639e3a46a098123c0c8347f150": {
      "model_module": "@jupyter-widgets/controls",
      "model_module_version": "1.5.0",
      "model_name": "ProgressStyleModel",
      "state": {
       "_model_module": "@jupyter-widgets/controls",
       "_model_module_version": "1.5.0",
       "_model_name": "ProgressStyleModel",
       "_view_count": null,
       "_view_module": "@jupyter-widgets/base",
       "_view_module_version": "1.2.0",
       "_view_name": "StyleView",
       "bar_color": null,
       "description_width": ""
      }
     },
     "b9b74250c8084e75ba9af3fc05185fa2": {
      "model_module": "@jupyter-widgets/base",
      "model_module_version": "1.2.0",
      "model_name": "LayoutModel",
      "state": {
       "_model_module": "@jupyter-widgets/base",
       "_model_module_version": "1.2.0",
       "_model_name": "LayoutModel",
       "_view_count": null,
       "_view_module": "@jupyter-widgets/base",
       "_view_module_version": "1.2.0",
       "_view_name": "LayoutView",
       "align_content": null,
       "align_items": null,
       "align_self": null,
       "border": null,
       "bottom": null,
       "display": null,
       "flex": null,
       "flex_flow": null,
       "grid_area": null,
       "grid_auto_columns": null,
       "grid_auto_flow": null,
       "grid_auto_rows": null,
       "grid_column": null,
       "grid_gap": null,
       "grid_row": null,
       "grid_template_areas": null,
       "grid_template_columns": null,
       "grid_template_rows": null,
       "height": null,
       "justify_content": null,
       "justify_items": null,
       "left": null,
       "margin": null,
       "max_height": null,
       "max_width": null,
       "min_height": null,
       "min_width": null,
       "object_fit": null,
       "object_position": null,
       "order": null,
       "overflow": null,
       "overflow_x": null,
       "overflow_y": null,
       "padding": null,
       "right": null,
       "top": null,
       "visibility": null,
       "width": null
      }
     },
     "c1a13a5427c4495f983a39d4ea520def": {
      "model_module": "@jupyter-widgets/controls",
      "model_module_version": "1.5.0",
      "model_name": "HBoxModel",
      "state": {
       "_dom_classes": [],
       "_model_module": "@jupyter-widgets/controls",
       "_model_module_version": "1.5.0",
       "_model_name": "HBoxModel",
       "_view_count": null,
       "_view_module": "@jupyter-widgets/controls",
       "_view_module_version": "1.5.0",
       "_view_name": "HBoxView",
       "box_style": "",
       "children": [
        "IPY_MODEL_b5b421d4a47a4c3ab10ee716eb4d4002",
        "IPY_MODEL_68e120a3748f4207829e307fc5b488d9",
        "IPY_MODEL_dbf96cbb1cf34339969affe6d6be8055"
       ],
       "layout": "IPY_MODEL_366370b77fc94f34a11aad7d859c996d"
      }
     },
     "c3fa22c4a5bb4594ac3c7a5ea65177c3": {
      "model_module": "@jupyter-widgets/controls",
      "model_module_version": "1.5.0",
      "model_name": "HTMLModel",
      "state": {
       "_dom_classes": [],
       "_model_module": "@jupyter-widgets/controls",
       "_model_module_version": "1.5.0",
       "_model_name": "HTMLModel",
       "_view_count": null,
       "_view_module": "@jupyter-widgets/controls",
       "_view_module_version": "1.5.0",
       "_view_name": "HTMLView",
       "description": "",
       "description_tooltip": null,
       "layout": "IPY_MODEL_ee182a3c9c32438cbbab18a50403d0b6",
       "placeholder": "​",
       "style": "IPY_MODEL_7bf4043165794bff839ce02bfa58f8b1",
       "value": " 51.0k/51.0k [00:00&lt;00:00, 3.84MB/s]"
      }
     },
     "c4367142b1004986bfbda2c2a96d49bc": {
      "model_module": "@jupyter-widgets/base",
      "model_module_version": "1.2.0",
      "model_name": "LayoutModel",
      "state": {
       "_model_module": "@jupyter-widgets/base",
       "_model_module_version": "1.2.0",
       "_model_name": "LayoutModel",
       "_view_count": null,
       "_view_module": "@jupyter-widgets/base",
       "_view_module_version": "1.2.0",
       "_view_name": "LayoutView",
       "align_content": null,
       "align_items": null,
       "align_self": null,
       "border": null,
       "bottom": null,
       "display": null,
       "flex": null,
       "flex_flow": null,
       "grid_area": null,
       "grid_auto_columns": null,
       "grid_auto_flow": null,
       "grid_auto_rows": null,
       "grid_column": null,
       "grid_gap": null,
       "grid_row": null,
       "grid_template_areas": null,
       "grid_template_columns": null,
       "grid_template_rows": null,
       "height": null,
       "justify_content": null,
       "justify_items": null,
       "left": null,
       "margin": null,
       "max_height": null,
       "max_width": null,
       "min_height": null,
       "min_width": null,
       "object_fit": null,
       "object_position": null,
       "order": null,
       "overflow": null,
       "overflow_x": null,
       "overflow_y": null,
       "padding": null,
       "right": null,
       "top": null,
       "visibility": null,
       "width": null
      }
     },
     "c664ef7d30d143ab8ea759e514af184e": {
      "model_module": "@jupyter-widgets/controls",
      "model_module_version": "1.5.0",
      "model_name": "DescriptionStyleModel",
      "state": {
       "_model_module": "@jupyter-widgets/controls",
       "_model_module_version": "1.5.0",
       "_model_name": "DescriptionStyleModel",
       "_view_count": null,
       "_view_module": "@jupyter-widgets/base",
       "_view_module_version": "1.2.0",
       "_view_name": "StyleView",
       "description_width": ""
      }
     },
     "c7c9f97da999401bbffdb567b38d7133": {
      "model_module": "@jupyter-widgets/base",
      "model_module_version": "1.2.0",
      "model_name": "LayoutModel",
      "state": {
       "_model_module": "@jupyter-widgets/base",
       "_model_module_version": "1.2.0",
       "_model_name": "LayoutModel",
       "_view_count": null,
       "_view_module": "@jupyter-widgets/base",
       "_view_module_version": "1.2.0",
       "_view_name": "LayoutView",
       "align_content": null,
       "align_items": null,
       "align_self": null,
       "border": null,
       "bottom": null,
       "display": null,
       "flex": null,
       "flex_flow": null,
       "grid_area": null,
       "grid_auto_columns": null,
       "grid_auto_flow": null,
       "grid_auto_rows": null,
       "grid_column": null,
       "grid_gap": null,
       "grid_row": null,
       "grid_template_areas": null,
       "grid_template_columns": null,
       "grid_template_rows": null,
       "height": null,
       "justify_content": null,
       "justify_items": null,
       "left": null,
       "margin": null,
       "max_height": null,
       "max_width": null,
       "min_height": null,
       "min_width": null,
       "object_fit": null,
       "object_position": null,
       "order": null,
       "overflow": null,
       "overflow_x": null,
       "overflow_y": null,
       "padding": null,
       "right": null,
       "top": null,
       "visibility": null,
       "width": null
      }
     },
     "c85f557cb1c647e493e6f5eee7dfa4a3": {
      "model_module": "@jupyter-widgets/base",
      "model_module_version": "1.2.0",
      "model_name": "LayoutModel",
      "state": {
       "_model_module": "@jupyter-widgets/base",
       "_model_module_version": "1.2.0",
       "_model_name": "LayoutModel",
       "_view_count": null,
       "_view_module": "@jupyter-widgets/base",
       "_view_module_version": "1.2.0",
       "_view_name": "LayoutView",
       "align_content": null,
       "align_items": null,
       "align_self": null,
       "border": null,
       "bottom": null,
       "display": null,
       "flex": null,
       "flex_flow": null,
       "grid_area": null,
       "grid_auto_columns": null,
       "grid_auto_flow": null,
       "grid_auto_rows": null,
       "grid_column": null,
       "grid_gap": null,
       "grid_row": null,
       "grid_template_areas": null,
       "grid_template_columns": null,
       "grid_template_rows": null,
       "height": null,
       "justify_content": null,
       "justify_items": null,
       "left": null,
       "margin": null,
       "max_height": null,
       "max_width": null,
       "min_height": null,
       "min_width": null,
       "object_fit": null,
       "object_position": null,
       "order": null,
       "overflow": null,
       "overflow_x": null,
       "overflow_y": null,
       "padding": null,
       "right": null,
       "top": null,
       "visibility": null,
       "width": null
      }
     },
     "c9d41954b19743f3b6ecf9f8b87f0fd8": {
      "model_module": "@jupyter-widgets/base",
      "model_module_version": "1.2.0",
      "model_name": "LayoutModel",
      "state": {
       "_model_module": "@jupyter-widgets/base",
       "_model_module_version": "1.2.0",
       "_model_name": "LayoutModel",
       "_view_count": null,
       "_view_module": "@jupyter-widgets/base",
       "_view_module_version": "1.2.0",
       "_view_name": "LayoutView",
       "align_content": null,
       "align_items": null,
       "align_self": null,
       "border": null,
       "bottom": null,
       "display": null,
       "flex": null,
       "flex_flow": null,
       "grid_area": null,
       "grid_auto_columns": null,
       "grid_auto_flow": null,
       "grid_auto_rows": null,
       "grid_column": null,
       "grid_gap": null,
       "grid_row": null,
       "grid_template_areas": null,
       "grid_template_columns": null,
       "grid_template_rows": null,
       "height": null,
       "justify_content": null,
       "justify_items": null,
       "left": null,
       "margin": null,
       "max_height": null,
       "max_width": null,
       "min_height": null,
       "min_width": null,
       "object_fit": null,
       "object_position": null,
       "order": null,
       "overflow": null,
       "overflow_x": null,
       "overflow_y": null,
       "padding": null,
       "right": null,
       "top": null,
       "visibility": null,
       "width": null
      }
     },
     "cb37f403de9a42b4b456045e14e75ffc": {
      "model_module": "@jupyter-widgets/controls",
      "model_module_version": "1.5.0",
      "model_name": "HBoxModel",
      "state": {
       "_dom_classes": [],
       "_model_module": "@jupyter-widgets/controls",
       "_model_module_version": "1.5.0",
       "_model_name": "HBoxModel",
       "_view_count": null,
       "_view_module": "@jupyter-widgets/controls",
       "_view_module_version": "1.5.0",
       "_view_name": "HBoxView",
       "box_style": "",
       "children": [
        "IPY_MODEL_9dbff2cc65604ac58d0ccb8541d98f9c",
        "IPY_MODEL_728fa07215954f15bf409f0464374e29",
        "IPY_MODEL_7752c190ab41455dbda100fe6b3d7db4"
       ],
       "layout": "IPY_MODEL_8bfbd119ff4f423097e80cb8562cefa6"
      }
     },
     "ccd8d6d7cf524aa1af48b77941ced8a6": {
      "model_module": "@jupyter-widgets/controls",
      "model_module_version": "1.5.0",
      "model_name": "FloatProgressModel",
      "state": {
       "_dom_classes": [],
       "_model_module": "@jupyter-widgets/controls",
       "_model_module_version": "1.5.0",
       "_model_name": "FloatProgressModel",
       "_view_count": null,
       "_view_module": "@jupyter-widgets/controls",
       "_view_module_version": "1.5.0",
       "_view_name": "ProgressView",
       "bar_style": "success",
       "description": "",
       "description_tooltip": null,
       "layout": "IPY_MODEL_73f67d8075924dfda5f077ffc7d7309c",
       "max": 654.0,
       "min": 0.0,
       "orientation": "horizontal",
       "style": "IPY_MODEL_b9a626639e3a46a098123c0c8347f150",
       "value": 654.0
      }
     },
     "cd5f17f24685437796008eba12ac5854": {
      "model_module": "@jupyter-widgets/controls",
      "model_module_version": "1.5.0",
      "model_name": "HBoxModel",
      "state": {
       "_dom_classes": [],
       "_model_module": "@jupyter-widgets/controls",
       "_model_module_version": "1.5.0",
       "_model_name": "HBoxModel",
       "_view_count": null,
       "_view_module": "@jupyter-widgets/controls",
       "_view_module_version": "1.5.0",
       "_view_name": "HBoxView",
       "box_style": "",
       "children": [
        "IPY_MODEL_f1815991df0d4494812a1b0914a08ff0",
        "IPY_MODEL_ff99a3e329424f17b6079ea55638564d",
        "IPY_MODEL_dc047f6d216a43999700ac71a9116fa0"
       ],
       "layout": "IPY_MODEL_0bc6ef67c9584514ad8ba6d4504375c5"
      }
     },
     "d3fd622ad87b4982a8c40717527c31bd": {
      "model_module": "@jupyter-widgets/base",
      "model_module_version": "1.2.0",
      "model_name": "LayoutModel",
      "state": {
       "_model_module": "@jupyter-widgets/base",
       "_model_module_version": "1.2.0",
       "_model_name": "LayoutModel",
       "_view_count": null,
       "_view_module": "@jupyter-widgets/base",
       "_view_module_version": "1.2.0",
       "_view_name": "LayoutView",
       "align_content": null,
       "align_items": null,
       "align_self": null,
       "border": null,
       "bottom": null,
       "display": null,
       "flex": null,
       "flex_flow": null,
       "grid_area": null,
       "grid_auto_columns": null,
       "grid_auto_flow": null,
       "grid_auto_rows": null,
       "grid_column": null,
       "grid_gap": null,
       "grid_row": null,
       "grid_template_areas": null,
       "grid_template_columns": null,
       "grid_template_rows": null,
       "height": null,
       "justify_content": null,
       "justify_items": null,
       "left": null,
       "margin": null,
       "max_height": null,
       "max_width": null,
       "min_height": null,
       "min_width": null,
       "object_fit": null,
       "object_position": null,
       "order": null,
       "overflow": null,
       "overflow_x": null,
       "overflow_y": null,
       "padding": null,
       "right": null,
       "top": null,
       "visibility": null,
       "width": null
      }
     },
     "d4abe1e960864ea982dd09a72a9d48c6": {
      "model_module": "@jupyter-widgets/base",
      "model_module_version": "1.2.0",
      "model_name": "LayoutModel",
      "state": {
       "_model_module": "@jupyter-widgets/base",
       "_model_module_version": "1.2.0",
       "_model_name": "LayoutModel",
       "_view_count": null,
       "_view_module": "@jupyter-widgets/base",
       "_view_module_version": "1.2.0",
       "_view_name": "LayoutView",
       "align_content": null,
       "align_items": null,
       "align_self": null,
       "border": null,
       "bottom": null,
       "display": null,
       "flex": null,
       "flex_flow": null,
       "grid_area": null,
       "grid_auto_columns": null,
       "grid_auto_flow": null,
       "grid_auto_rows": null,
       "grid_column": null,
       "grid_gap": null,
       "grid_row": null,
       "grid_template_areas": null,
       "grid_template_columns": null,
       "grid_template_rows": null,
       "height": null,
       "justify_content": null,
       "justify_items": null,
       "left": null,
       "margin": null,
       "max_height": null,
       "max_width": null,
       "min_height": null,
       "min_width": null,
       "object_fit": null,
       "object_position": null,
       "order": null,
       "overflow": null,
       "overflow_x": null,
       "overflow_y": null,
       "padding": null,
       "right": null,
       "top": null,
       "visibility": null,
       "width": null
      }
     },
     "d6100ecf5ac14ff19a24b2e6cd1e243c": {
      "model_module": "@jupyter-widgets/controls",
      "model_module_version": "1.5.0",
      "model_name": "ProgressStyleModel",
      "state": {
       "_model_module": "@jupyter-widgets/controls",
       "_model_module_version": "1.5.0",
       "_model_name": "ProgressStyleModel",
       "_view_count": null,
       "_view_module": "@jupyter-widgets/base",
       "_view_module_version": "1.2.0",
       "_view_name": "StyleView",
       "bar_color": null,
       "description_width": ""
      }
     },
     "d7890066de1a487788de8fce2aced13a": {
      "model_module": "@jupyter-widgets/base",
      "model_module_version": "1.2.0",
      "model_name": "LayoutModel",
      "state": {
       "_model_module": "@jupyter-widgets/base",
       "_model_module_version": "1.2.0",
       "_model_name": "LayoutModel",
       "_view_count": null,
       "_view_module": "@jupyter-widgets/base",
       "_view_module_version": "1.2.0",
       "_view_name": "LayoutView",
       "align_content": null,
       "align_items": null,
       "align_self": null,
       "border": null,
       "bottom": null,
       "display": null,
       "flex": null,
       "flex_flow": null,
       "grid_area": null,
       "grid_auto_columns": null,
       "grid_auto_flow": null,
       "grid_auto_rows": null,
       "grid_column": null,
       "grid_gap": null,
       "grid_row": null,
       "grid_template_areas": null,
       "grid_template_columns": null,
       "grid_template_rows": null,
       "height": null,
       "justify_content": null,
       "justify_items": null,
       "left": null,
       "margin": null,
       "max_height": null,
       "max_width": null,
       "min_height": null,
       "min_width": null,
       "object_fit": null,
       "object_position": null,
       "order": null,
       "overflow": null,
       "overflow_x": null,
       "overflow_y": null,
       "padding": null,
       "right": null,
       "top": null,
       "visibility": null,
       "width": null
      }
     },
     "d7ef38e1d4114a059f17cf055605df4c": {
      "model_module": "@jupyter-widgets/controls",
      "model_module_version": "1.5.0",
      "model_name": "ProgressStyleModel",
      "state": {
       "_model_module": "@jupyter-widgets/controls",
       "_model_module_version": "1.5.0",
       "_model_name": "ProgressStyleModel",
       "_view_count": null,
       "_view_module": "@jupyter-widgets/base",
       "_view_module_version": "1.2.0",
       "_view_name": "StyleView",
       "bar_color": null,
       "description_width": ""
      }
     },
     "dbf96cbb1cf34339969affe6d6be8055": {
      "model_module": "@jupyter-widgets/controls",
      "model_module_version": "1.5.0",
      "model_name": "HTMLModel",
      "state": {
       "_dom_classes": [],
       "_model_module": "@jupyter-widgets/controls",
       "_model_module_version": "1.5.0",
       "_model_name": "HTMLModel",
       "_view_count": null,
       "_view_module": "@jupyter-widgets/controls",
       "_view_module_version": "1.5.0",
       "_view_name": "HTMLView",
       "description": "",
       "description_tooltip": null,
       "layout": "IPY_MODEL_2d87e58acd234bf098b1c18c0705402e",
       "placeholder": "​",
       "style": "IPY_MODEL_6dd7781380af4ed283772a26ef7a9c35",
       "value": " 4/4 [01:00&lt;00:00, 12.52s/it]"
      }
     },
     "dc047f6d216a43999700ac71a9116fa0": {
      "model_module": "@jupyter-widgets/controls",
      "model_module_version": "1.5.0",
      "model_name": "HTMLModel",
      "state": {
       "_dom_classes": [],
       "_model_module": "@jupyter-widgets/controls",
       "_model_module_version": "1.5.0",
       "_model_name": "HTMLModel",
       "_view_count": null,
       "_view_module": "@jupyter-widgets/controls",
       "_view_module_version": "1.5.0",
       "_view_name": "HTMLView",
       "description": "",
       "description_tooltip": null,
       "layout": "IPY_MODEL_b9b74250c8084e75ba9af3fc05185fa2",
       "placeholder": "​",
       "style": "IPY_MODEL_2ab1960c29ca4a938900921da2ccd2f5",
       "value": " 1.17G/1.17G [00:05&lt;00:00, 197MB/s]"
      }
     },
     "e1194bd0259943a9b1a7de24c5209d77": {
      "model_module": "@jupyter-widgets/base",
      "model_module_version": "1.2.0",
      "model_name": "LayoutModel",
      "state": {
       "_model_module": "@jupyter-widgets/base",
       "_model_module_version": "1.2.0",
       "_model_name": "LayoutModel",
       "_view_count": null,
       "_view_module": "@jupyter-widgets/base",
       "_view_module_version": "1.2.0",
       "_view_name": "LayoutView",
       "align_content": null,
       "align_items": null,
       "align_self": null,
       "border": null,
       "bottom": null,
       "display": null,
       "flex": null,
       "flex_flow": null,
       "grid_area": null,
       "grid_auto_columns": null,
       "grid_auto_flow": null,
       "grid_auto_rows": null,
       "grid_column": null,
       "grid_gap": null,
       "grid_row": null,
       "grid_template_areas": null,
       "grid_template_columns": null,
       "grid_template_rows": null,
       "height": null,
       "justify_content": null,
       "justify_items": null,
       "left": null,
       "margin": null,
       "max_height": null,
       "max_width": null,
       "min_height": null,
       "min_width": null,
       "object_fit": null,
       "object_position": null,
       "order": null,
       "overflow": null,
       "overflow_x": null,
       "overflow_y": null,
       "padding": null,
       "right": null,
       "top": null,
       "visibility": null,
       "width": null
      }
     },
     "e205256cf5954ccead28caa95ed3d05a": {
      "model_module": "@jupyter-widgets/controls",
      "model_module_version": "1.5.0",
      "model_name": "HTMLModel",
      "state": {
       "_dom_classes": [],
       "_model_module": "@jupyter-widgets/controls",
       "_model_module_version": "1.5.0",
       "_model_name": "HTMLModel",
       "_view_count": null,
       "_view_module": "@jupyter-widgets/controls",
       "_view_module_version": "1.5.0",
       "_view_name": "HTMLView",
       "description": "",
       "description_tooltip": null,
       "layout": "IPY_MODEL_93bfe4aacdf04a70baae240b88650774",
       "placeholder": "​",
       "style": "IPY_MODEL_3623a59b0a7b40cc960a688c97cb4494",
       "value": "tokenizer_config.json: 100%"
      }
     },
     "e3fc9ae9c882477eada36eaf073117e4": {
      "model_module": "@jupyter-widgets/controls",
      "model_module_version": "1.5.0",
      "model_name": "HBoxModel",
      "state": {
       "_dom_classes": [],
       "_model_module": "@jupyter-widgets/controls",
       "_model_module_version": "1.5.0",
       "_model_name": "HBoxModel",
       "_view_count": null,
       "_view_module": "@jupyter-widgets/controls",
       "_view_module_version": "1.5.0",
       "_view_name": "HBoxView",
       "box_style": "",
       "children": [
        "IPY_MODEL_e4b2abb4ac3447a184795b05c131d95d",
        "IPY_MODEL_a23754dd78c946e2a8bfb69f4ec5c2a6",
        "IPY_MODEL_40073e1dd74b40898fbe0ed5bb50fecd"
       ],
       "layout": "IPY_MODEL_d7890066de1a487788de8fce2aced13a"
      }
     },
     "e4b2abb4ac3447a184795b05c131d95d": {
      "model_module": "@jupyter-widgets/controls",
      "model_module_version": "1.5.0",
      "model_name": "HTMLModel",
      "state": {
       "_dom_classes": [],
       "_model_module": "@jupyter-widgets/controls",
       "_model_module_version": "1.5.0",
       "_model_name": "HTMLModel",
       "_view_count": null,
       "_view_module": "@jupyter-widgets/controls",
       "_view_module_version": "1.5.0",
       "_view_name": "HTMLView",
       "description": "",
       "description_tooltip": null,
       "layout": "IPY_MODEL_36e1c737e140462683e0cad3dab60c44",
       "placeholder": "​",
       "style": "IPY_MODEL_b34c770dd74a4f5eb3c753f6d2cef121",
       "value": "Downloading shards: 100%"
      }
     },
     "e55915c4881a49a7a526c75fb68b074b": {
      "model_module": "@jupyter-widgets/base",
      "model_module_version": "1.2.0",
      "model_name": "LayoutModel",
      "state": {
       "_model_module": "@jupyter-widgets/base",
       "_model_module_version": "1.2.0",
       "_model_name": "LayoutModel",
       "_view_count": null,
       "_view_module": "@jupyter-widgets/base",
       "_view_module_version": "1.2.0",
       "_view_name": "LayoutView",
       "align_content": null,
       "align_items": null,
       "align_self": null,
       "border": null,
       "bottom": null,
       "display": null,
       "flex": null,
       "flex_flow": null,
       "grid_area": null,
       "grid_auto_columns": null,
       "grid_auto_flow": null,
       "grid_auto_rows": null,
       "grid_column": null,
       "grid_gap": null,
       "grid_row": null,
       "grid_template_areas": null,
       "grid_template_columns": null,
       "grid_template_rows": null,
       "height": null,
       "justify_content": null,
       "justify_items": null,
       "left": null,
       "margin": null,
       "max_height": null,
       "max_width": null,
       "min_height": null,
       "min_width": null,
       "object_fit": null,
       "object_position": null,
       "order": null,
       "overflow": null,
       "overflow_x": null,
       "overflow_y": null,
       "padding": null,
       "right": null,
       "top": null,
       "visibility": null,
       "width": null
      }
     },
     "e84b26c9c82345999527cbaf97a4a000": {
      "model_module": "@jupyter-widgets/controls",
      "model_module_version": "1.5.0",
      "model_name": "ProgressStyleModel",
      "state": {
       "_model_module": "@jupyter-widgets/controls",
       "_model_module_version": "1.5.0",
       "_model_name": "ProgressStyleModel",
       "_view_count": null,
       "_view_module": "@jupyter-widgets/base",
       "_view_module_version": "1.2.0",
       "_view_name": "StyleView",
       "bar_color": null,
       "description_width": ""
      }
     },
     "e8ed7fabf8184a80bb30cc036a4a5fe3": {
      "model_module": "@jupyter-widgets/controls",
      "model_module_version": "1.5.0",
      "model_name": "HBoxModel",
      "state": {
       "_dom_classes": [],
       "_model_module": "@jupyter-widgets/controls",
       "_model_module_version": "1.5.0",
       "_model_name": "HBoxModel",
       "_view_count": null,
       "_view_module": "@jupyter-widgets/controls",
       "_view_module_version": "1.5.0",
       "_view_name": "HBoxView",
       "box_style": "",
       "children": [
        "IPY_MODEL_f97cf48c24364099a3d428e3ae857ba0",
        "IPY_MODEL_1111e1a004dc4a419f96e145499f84c1",
        "IPY_MODEL_21901ded611f46349af56affc2682ce0"
       ],
       "layout": "IPY_MODEL_d3fd622ad87b4982a8c40717527c31bd"
      }
     },
     "ea36c631534e41408f2edc0f3dd02429": {
      "model_module": "@jupyter-widgets/controls",
      "model_module_version": "1.5.0",
      "model_name": "DescriptionStyleModel",
      "state": {
       "_model_module": "@jupyter-widgets/controls",
       "_model_module_version": "1.5.0",
       "_model_name": "DescriptionStyleModel",
       "_view_count": null,
       "_view_module": "@jupyter-widgets/base",
       "_view_module_version": "1.2.0",
       "_view_name": "StyleView",
       "description_width": ""
      }
     },
     "ec1d73b397464363a85811df8da6d0c4": {
      "model_module": "@jupyter-widgets/controls",
      "model_module_version": "1.5.0",
      "model_name": "DescriptionStyleModel",
      "state": {
       "_model_module": "@jupyter-widgets/controls",
       "_model_module_version": "1.5.0",
       "_model_name": "DescriptionStyleModel",
       "_view_count": null,
       "_view_module": "@jupyter-widgets/base",
       "_view_module_version": "1.2.0",
       "_view_name": "StyleView",
       "description_width": ""
      }
     },
     "edc6cee66b9c4d38ad641bdc8a90dceb": {
      "model_module": "@jupyter-widgets/base",
      "model_module_version": "1.2.0",
      "model_name": "LayoutModel",
      "state": {
       "_model_module": "@jupyter-widgets/base",
       "_model_module_version": "1.2.0",
       "_model_name": "LayoutModel",
       "_view_count": null,
       "_view_module": "@jupyter-widgets/base",
       "_view_module_version": "1.2.0",
       "_view_name": "LayoutView",
       "align_content": null,
       "align_items": null,
       "align_self": null,
       "border": null,
       "bottom": null,
       "display": null,
       "flex": null,
       "flex_flow": null,
       "grid_area": null,
       "grid_auto_columns": null,
       "grid_auto_flow": null,
       "grid_auto_rows": null,
       "grid_column": null,
       "grid_gap": null,
       "grid_row": null,
       "grid_template_areas": null,
       "grid_template_columns": null,
       "grid_template_rows": null,
       "height": null,
       "justify_content": null,
       "justify_items": null,
       "left": null,
       "margin": null,
       "max_height": null,
       "max_width": null,
       "min_height": null,
       "min_width": null,
       "object_fit": null,
       "object_position": null,
       "order": null,
       "overflow": null,
       "overflow_x": null,
       "overflow_y": null,
       "padding": null,
       "right": null,
       "top": null,
       "visibility": null,
       "width": null
      }
     },
     "ee182a3c9c32438cbbab18a50403d0b6": {
      "model_module": "@jupyter-widgets/base",
      "model_module_version": "1.2.0",
      "model_name": "LayoutModel",
      "state": {
       "_model_module": "@jupyter-widgets/base",
       "_model_module_version": "1.2.0",
       "_model_name": "LayoutModel",
       "_view_count": null,
       "_view_module": "@jupyter-widgets/base",
       "_view_module_version": "1.2.0",
       "_view_name": "LayoutView",
       "align_content": null,
       "align_items": null,
       "align_self": null,
       "border": null,
       "bottom": null,
       "display": null,
       "flex": null,
       "flex_flow": null,
       "grid_area": null,
       "grid_auto_columns": null,
       "grid_auto_flow": null,
       "grid_auto_rows": null,
       "grid_column": null,
       "grid_gap": null,
       "grid_row": null,
       "grid_template_areas": null,
       "grid_template_columns": null,
       "grid_template_rows": null,
       "height": null,
       "justify_content": null,
       "justify_items": null,
       "left": null,
       "margin": null,
       "max_height": null,
       "max_width": null,
       "min_height": null,
       "min_width": null,
       "object_fit": null,
       "object_position": null,
       "order": null,
       "overflow": null,
       "overflow_x": null,
       "overflow_y": null,
       "padding": null,
       "right": null,
       "top": null,
       "visibility": null,
       "width": null
      }
     },
     "ef3570057cf24f7c8a8ceccef245ef1e": {
      "model_module": "@jupyter-widgets/base",
      "model_module_version": "1.2.0",
      "model_name": "LayoutModel",
      "state": {
       "_model_module": "@jupyter-widgets/base",
       "_model_module_version": "1.2.0",
       "_model_name": "LayoutModel",
       "_view_count": null,
       "_view_module": "@jupyter-widgets/base",
       "_view_module_version": "1.2.0",
       "_view_name": "LayoutView",
       "align_content": null,
       "align_items": null,
       "align_self": null,
       "border": null,
       "bottom": null,
       "display": null,
       "flex": null,
       "flex_flow": null,
       "grid_area": null,
       "grid_auto_columns": null,
       "grid_auto_flow": null,
       "grid_auto_rows": null,
       "grid_column": null,
       "grid_gap": null,
       "grid_row": null,
       "grid_template_areas": null,
       "grid_template_columns": null,
       "grid_template_rows": null,
       "height": null,
       "justify_content": null,
       "justify_items": null,
       "left": null,
       "margin": null,
       "max_height": null,
       "max_width": null,
       "min_height": null,
       "min_width": null,
       "object_fit": null,
       "object_position": null,
       "order": null,
       "overflow": null,
       "overflow_x": null,
       "overflow_y": null,
       "padding": null,
       "right": null,
       "top": null,
       "visibility": null,
       "width": null
      }
     },
     "ef3f5f4f98ab4b1dbde31f3681ceacde": {
      "model_module": "@jupyter-widgets/controls",
      "model_module_version": "1.5.0",
      "model_name": "DescriptionStyleModel",
      "state": {
       "_model_module": "@jupyter-widgets/controls",
       "_model_module_version": "1.5.0",
       "_model_name": "DescriptionStyleModel",
       "_view_count": null,
       "_view_module": "@jupyter-widgets/base",
       "_view_module_version": "1.2.0",
       "_view_name": "StyleView",
       "description_width": ""
      }
     },
     "f0ee24fe866e4c5f92177f68c4f7594d": {
      "model_module": "@jupyter-widgets/base",
      "model_module_version": "1.2.0",
      "model_name": "LayoutModel",
      "state": {
       "_model_module": "@jupyter-widgets/base",
       "_model_module_version": "1.2.0",
       "_model_name": "LayoutModel",
       "_view_count": null,
       "_view_module": "@jupyter-widgets/base",
       "_view_module_version": "1.2.0",
       "_view_name": "LayoutView",
       "align_content": null,
       "align_items": null,
       "align_self": null,
       "border": null,
       "bottom": null,
       "display": null,
       "flex": null,
       "flex_flow": null,
       "grid_area": null,
       "grid_auto_columns": null,
       "grid_auto_flow": null,
       "grid_auto_rows": null,
       "grid_column": null,
       "grid_gap": null,
       "grid_row": null,
       "grid_template_areas": null,
       "grid_template_columns": null,
       "grid_template_rows": null,
       "height": null,
       "justify_content": null,
       "justify_items": null,
       "left": null,
       "margin": null,
       "max_height": null,
       "max_width": null,
       "min_height": null,
       "min_width": null,
       "object_fit": null,
       "object_position": null,
       "order": null,
       "overflow": null,
       "overflow_x": null,
       "overflow_y": null,
       "padding": null,
       "right": null,
       "top": null,
       "visibility": null,
       "width": null
      }
     },
     "f1815991df0d4494812a1b0914a08ff0": {
      "model_module": "@jupyter-widgets/controls",
      "model_module_version": "1.5.0",
      "model_name": "HTMLModel",
      "state": {
       "_dom_classes": [],
       "_model_module": "@jupyter-widgets/controls",
       "_model_module_version": "1.5.0",
       "_model_name": "HTMLModel",
       "_view_count": null,
       "_view_module": "@jupyter-widgets/controls",
       "_view_module_version": "1.5.0",
       "_view_name": "HTMLView",
       "description": "",
       "description_tooltip": null,
       "layout": "IPY_MODEL_f0ee24fe866e4c5f92177f68c4f7594d",
       "placeholder": "​",
       "style": "IPY_MODEL_ef3f5f4f98ab4b1dbde31f3681ceacde",
       "value": "model-00004-of-00004.safetensors: 100%"
      }
     },
     "f20f211f978b4aef86fc0acd2c139c22": {
      "model_module": "@jupyter-widgets/base",
      "model_module_version": "1.2.0",
      "model_name": "LayoutModel",
      "state": {
       "_model_module": "@jupyter-widgets/base",
       "_model_module_version": "1.2.0",
       "_model_name": "LayoutModel",
       "_view_count": null,
       "_view_module": "@jupyter-widgets/base",
       "_view_module_version": "1.2.0",
       "_view_name": "LayoutView",
       "align_content": null,
       "align_items": null,
       "align_self": null,
       "border": null,
       "bottom": null,
       "display": null,
       "flex": null,
       "flex_flow": null,
       "grid_area": null,
       "grid_auto_columns": null,
       "grid_auto_flow": null,
       "grid_auto_rows": null,
       "grid_column": null,
       "grid_gap": null,
       "grid_row": null,
       "grid_template_areas": null,
       "grid_template_columns": null,
       "grid_template_rows": null,
       "height": null,
       "justify_content": null,
       "justify_items": null,
       "left": null,
       "margin": null,
       "max_height": null,
       "max_width": null,
       "min_height": null,
       "min_width": null,
       "object_fit": null,
       "object_position": null,
       "order": null,
       "overflow": null,
       "overflow_x": null,
       "overflow_y": null,
       "padding": null,
       "right": null,
       "top": null,
       "visibility": null,
       "width": null
      }
     },
     "f57b53bc1b554590a30f50f9cfa58f44": {
      "model_module": "@jupyter-widgets/controls",
      "model_module_version": "1.5.0",
      "model_name": "HBoxModel",
      "state": {
       "_dom_classes": [],
       "_model_module": "@jupyter-widgets/controls",
       "_model_module_version": "1.5.0",
       "_model_name": "HBoxModel",
       "_view_count": null,
       "_view_module": "@jupyter-widgets/controls",
       "_view_module_version": "1.5.0",
       "_view_name": "HBoxView",
       "box_style": "",
       "children": [
        "IPY_MODEL_97fd07796d044eb8ac1c4620e50dacd0",
        "IPY_MODEL_1e62ff0a884e4eb4bbf7584820e93b03",
        "IPY_MODEL_426b28d1112247288da6f444d4dc0fc0"
       ],
       "layout": "IPY_MODEL_7ad36d6ea32845b28c7af96a598ed790"
      }
     },
     "f97cf48c24364099a3d428e3ae857ba0": {
      "model_module": "@jupyter-widgets/controls",
      "model_module_version": "1.5.0",
      "model_name": "HTMLModel",
      "state": {
       "_dom_classes": [],
       "_model_module": "@jupyter-widgets/controls",
       "_model_module_version": "1.5.0",
       "_model_name": "HTMLModel",
       "_view_count": null,
       "_view_module": "@jupyter-widgets/controls",
       "_view_module_version": "1.5.0",
       "_view_name": "HTMLView",
       "description": "",
       "description_tooltip": null,
       "layout": "IPY_MODEL_c4367142b1004986bfbda2c2a96d49bc",
       "placeholder": "​",
       "style": "IPY_MODEL_2aa50ee10a514bc69011c082c70f0d48",
       "value": "Loading checkpoint shards: 100%"
      }
     },
     "fb376045012e400eb5e2d8cab2e755fc": {
      "model_module": "@jupyter-widgets/controls",
      "model_module_version": "1.5.0",
      "model_name": "HTMLModel",
      "state": {
       "_dom_classes": [],
       "_model_module": "@jupyter-widgets/controls",
       "_model_module_version": "1.5.0",
       "_model_name": "HTMLModel",
       "_view_count": null,
       "_view_module": "@jupyter-widgets/controls",
       "_view_module_version": "1.5.0",
       "_view_name": "HTMLView",
       "description": "",
       "description_tooltip": null,
       "layout": "IPY_MODEL_d4abe1e960864ea982dd09a72a9d48c6",
       "placeholder": "​",
       "style": "IPY_MODEL_1a3d4791976d45b8a0ed6daf966f1b58",
       "value": "generation_config.json: 100%"
      }
     },
     "ff791bb4894b413ab29fd8d01e0b1fdb": {
      "model_module": "@jupyter-widgets/base",
      "model_module_version": "1.2.0",
      "model_name": "LayoutModel",
      "state": {
       "_model_module": "@jupyter-widgets/base",
       "_model_module_version": "1.2.0",
       "_model_name": "LayoutModel",
       "_view_count": null,
       "_view_module": "@jupyter-widgets/base",
       "_view_module_version": "1.2.0",
       "_view_name": "LayoutView",
       "align_content": null,
       "align_items": null,
       "align_self": null,
       "border": null,
       "bottom": null,
       "display": null,
       "flex": null,
       "flex_flow": null,
       "grid_area": null,
       "grid_auto_columns": null,
       "grid_auto_flow": null,
       "grid_auto_rows": null,
       "grid_column": null,
       "grid_gap": null,
       "grid_row": null,
       "grid_template_areas": null,
       "grid_template_columns": null,
       "grid_template_rows": null,
       "height": null,
       "justify_content": null,
       "justify_items": null,
       "left": null,
       "margin": null,
       "max_height": null,
       "max_width": null,
       "min_height": null,
       "min_width": null,
       "object_fit": null,
       "object_position": null,
       "order": null,
       "overflow": null,
       "overflow_x": null,
       "overflow_y": null,
       "padding": null,
       "right": null,
       "top": null,
       "visibility": null,
       "width": null
      }
     },
     "ff99a3e329424f17b6079ea55638564d": {
      "model_module": "@jupyter-widgets/controls",
      "model_module_version": "1.5.0",
      "model_name": "FloatProgressModel",
      "state": {
       "_dom_classes": [],
       "_model_module": "@jupyter-widgets/controls",
       "_model_module_version": "1.5.0",
       "_model_name": "FloatProgressModel",
       "_view_count": null,
       "_view_module": "@jupyter-widgets/controls",
       "_view_module_version": "1.5.0",
       "_view_name": "ProgressView",
       "bar_style": "success",
       "description": "",
       "description_tooltip": null,
       "layout": "IPY_MODEL_f20f211f978b4aef86fc0acd2c139c22",
       "max": 1168138808.0,
       "min": 0.0,
       "orientation": "horizontal",
       "style": "IPY_MODEL_d7ef38e1d4114a059f17cf055605df4c",
       "value": 1168138808.0
      }
     }
    },
    "version_major": 2,
    "version_minor": 0
   }
  }
 },
 "nbformat": 4,
 "nbformat_minor": 5
}
